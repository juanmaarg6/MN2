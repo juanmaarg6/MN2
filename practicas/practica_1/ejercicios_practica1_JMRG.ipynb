{
 "cells": [
  {
   "cell_type": "markdown",
   "id": "07c44ad7",
   "metadata": {},
   "source": [
    "## Métodos Numéricos II: Ejercicios Práctica 1"
   ]
  },
  {
   "cell_type": "markdown",
   "id": "20d2cab2",
   "metadata": {},
   "source": [
    "#### Autor: Juan Manuel Rodríguez Gómez"
   ]
  },
  {
   "cell_type": "code",
   "execution_count": 1,
   "id": "581327e7",
   "metadata": {},
   "outputs": [],
   "source": [
    "import numpy as np\n",
    "%matplotlib inline\n",
    "import matplotlib.pyplot as plt"
   ]
  },
  {
   "cell_type": "code",
   "execution_count": 2,
   "id": "bde4fbe0",
   "metadata": {},
   "outputs": [],
   "source": [
    "import sympy as sp"
   ]
  },
  {
   "cell_type": "code",
   "execution_count": 3,
   "id": "7ac2f7a6",
   "metadata": {},
   "outputs": [],
   "source": [
    "from numpy import sign"
   ]
  },
  {
   "cell_type": "code",
   "execution_count": 4,
   "id": "dd43a54e",
   "metadata": {},
   "outputs": [],
   "source": [
    "#from decimal import *\n",
    "# Este módulo nos permitirá trabajar con un precisión determinada (en coma flotante)\n",
    "# Si no añadimos esto se trabaja con una precisión 15-16\n",
    "#getcontext()"
   ]
  },
  {
   "cell_type": "code",
   "execution_count": 5,
   "id": "bf9956ce",
   "metadata": {},
   "outputs": [],
   "source": [
    "#mporig = getcontext().prec\n",
    "#mporig  # Esta sería la precisión con la que se trabaja por defecto"
   ]
  },
  {
   "cell_type": "code",
   "execution_count": 6,
   "id": "bcad8590",
   "metadata": {},
   "outputs": [],
   "source": [
    "x = sp.Symbol(\"x\") # Variable simbólica x"
   ]
  },
  {
   "cell_type": "markdown",
   "id": "84b782fd",
   "metadata": {},
   "source": [
    "## Ejercicio 1\n",
    "#### Demuestre que la ecuación  $x^3+4 x^2=10  $  tiene una única raíz en el intervalo $[1,2]$.  Aproxime dicha raíz con el método de bisección con al menos 3 cifras decimales exactas. ¿Cuántas iteraciones serán necesarias para conseguir 5 cifras decimales exactas (tol =$10^{-5}$)?  Aproxime también la raíz con el método de Newton-Raphson partiendo del extremo adecuado hasta que la diferencia en valor absoluto, entre dos aproximaciones consecutivas sea  inferior a  $10^{-3}$."
   ]
  },
  {
   "cell_type": "markdown",
   "id": "f73f3704",
   "metadata": {},
   "source": [
    "#### Demuestre que la ecuación  $x^3+4 x^2=10  $  tiene una única raíz en el intervalo $[1,2]$."
   ]
  },
  {
   "cell_type": "code",
   "execution_count": 7,
   "id": "3f3d3d52",
   "metadata": {},
   "outputs": [],
   "source": [
    "def f(x):\n",
    "    ''' función x**3+4*x**2-10'''\n",
    "    return x**3+4*x**2-10"
   ]
  },
  {
   "cell_type": "code",
   "execution_count": 8,
   "id": "fa09c4aa",
   "metadata": {},
   "outputs": [],
   "source": [
    "a = 1 \n",
    "b = 2"
   ]
  },
  {
   "cell_type": "markdown",
   "id": "74ba9693",
   "metadata": {},
   "source": [
    "f(x) es monótona en $[1,2]$ porque $f'(x)=3x^2+2x$ solo toma valores positivos en dicho intervalo. \n",
    "Si hay una raíz, ésta será única (por el Teorema de Bolzano) si $f(1)f(2)<0$."
   ]
  },
  {
   "cell_type": "code",
   "execution_count": 9,
   "id": "32b95eda",
   "metadata": {},
   "outputs": [],
   "source": [
    "def cambioDeSigno(f,a,b):\n",
    "    print('f(',a,') * f(',b,') = ',f(a),' * ',f(b),' = ',f(a)*f(b))\n",
    "    \n",
    "    if sign(f(a)) != sign(f(b)):\n",
    "        print('Hay cambio de signo en [',a, ',', b,']')\n",
    "    else:\n",
    "        print('NO hay cambio de signo en [',a, ',', b,']')"
   ]
  },
  {
   "cell_type": "code",
   "execution_count": 10,
   "id": "ed6947f9",
   "metadata": {},
   "outputs": [
    {
     "name": "stdout",
     "output_type": "stream",
     "text": [
      "f( 1 ) * f( 2 ) =  -5  *  14  =  -70\n",
      "Hay cambio de signo en [ 1 , 2 ]\n"
     ]
    }
   ],
   "source": [
    "cambioDeSigno(f,a,b)"
   ]
  },
  {
   "cell_type": "markdown",
   "id": "443a0081",
   "metadata": {},
   "source": [
    "#### Aproxime dicha raíz con el método de bisección con al menos 3 cifras decimales exactas."
   ]
  },
  {
   "cell_type": "code",
   "execution_count": 11,
   "id": "0536e5d2",
   "metadata": {},
   "outputs": [],
   "source": [
    "a0 = a; b0 = b # Guardo los extremos iniciales porque los voy a modificar\n",
    "\n",
    "# Trabajando con la precisión habitual en coma flotante\n",
    "def biseccion(a,b,tol,prec,nmax):\n",
    "    niter = 0; sale = ''\n",
    "    for k in range(nmax):\n",
    "        niter = niter + 1;\n",
    "        c = a + (b-a)/2 # equivalente a c = (a+b)/2\n",
    "        if abs(f(c)) < prec:\n",
    "            sale = 'precision'\n",
    "            break\n",
    "        if sign(f(a)) != sign(f(c)):\n",
    "            b = c\n",
    "        else:\n",
    "            a = c\n",
    "        if b-a < tol:\n",
    "            sale = 'tolerancia'\n",
    "            break\n",
    "\n",
    "    if sale == 'precision':\n",
    "        print('Posiblemente solución exacta: ',c)\n",
    "    elif niter < nmax:\n",
    "        print('Aproximación solicitada: ',c)\n",
    "    else:\n",
    "        print('Se llegó al número máximo de iteraciones')\n",
    "    print('Número total de iteraciones ', niter)\n",
    "\n",
    "    a = a0; b = b0 # Restauramos los valores originales de a y b"
   ]
  },
  {
   "cell_type": "code",
   "execution_count": 12,
   "id": "a4bd7e0d",
   "metadata": {},
   "outputs": [
    {
     "name": "stdout",
     "output_type": "stream",
     "text": [
      "Aproximación solicitada:  1.3642578125\n",
      "Número total de iteraciones  10\n"
     ]
    }
   ],
   "source": [
    "nmax = 100      # Número máximo de iteraciones\n",
    "prec = 10**(-16)\n",
    "tol = 10**(-3)\n",
    "\n",
    "biseccion(a,b,tol,prec,nmax)"
   ]
  },
  {
   "cell_type": "markdown",
   "id": "b5d6b828",
   "metadata": {},
   "source": [
    "Podemos hacer una gráfica de la función en el intervalo $[1,2]$ para comprobar que, efectivamente, el punto dado por el método de bisección es una raíz de $f(x)$"
   ]
  },
  {
   "cell_type": "code",
   "execution_count": 13,
   "id": "37dc9800",
   "metadata": {},
   "outputs": [
    {
     "data": {
      "image/png": "[encoded data removed]",
      "text/plain": [
       "<Figure size 432x288 with 1 Axes>"
      ]
     },
     "metadata": {
      "needs_background": "light"
     },
     "output_type": "display_data"
    },
    {
     "data": {
      "text/plain": [
       "<sympy.plotting.plot.Plot at 0x186834cfa60>"
      ]
     },
     "execution_count": 13,
     "metadata": {},
     "output_type": "execute_result"
    }
   ],
   "source": [
    "sp.plot(f(x),xlim=(0.,2.),ylim=(-10.,20.))"
   ]
  },
  {
   "cell_type": "markdown",
   "id": "90afa65f",
   "metadata": {},
   "source": [
    "#### ¿Cuántas iteraciones serán necesarias para conseguir 5 cifras decimales exactas (tol =$10^{-5}$)?"
   ]
  },
  {
   "cell_type": "code",
   "execution_count": 14,
   "id": "5aa0b5ce",
   "metadata": {},
   "outputs": [],
   "source": [
    "def IteracionesNecesarias(a,b,tolerancia):\n",
    "    return np.ceil( np.log( (b-a)/tolerancia )/np.log(2)-1)"
   ]
  },
  {
   "cell_type": "code",
   "execution_count": 15,
   "id": "e587575b",
   "metadata": {},
   "outputs": [
    {
     "data": {
      "text/plain": [
       "16.0"
      ]
     },
     "execution_count": 15,
     "metadata": {},
     "output_type": "execute_result"
    }
   ],
   "source": [
    "tol = 10**(-5) # Queremos calcular la raíz con 5 cifras decimales exactas\n",
    "\n",
    "\n",
    "IteracionesNecesarias(a,b,tol)"
   ]
  },
  {
   "cell_type": "markdown",
   "id": "e0394c09",
   "metadata": {},
   "source": [
    "#### Aproxime también la raíz con el método de Newton-Raphson partiendo del extremo adecuado hasta que la diferencia en valor absoluto, entre dos aproximaciones consecutivas sea  inferior a  $10^{-3}$."
   ]
  },
  {
   "cell_type": "code",
   "execution_count": 16,
   "id": "ae6c982f",
   "metadata": {},
   "outputs": [],
   "source": [
    "def df(x):\n",
    "    ''' función 3*x**2+8*x'''\n",
    "    return 3*x**2+8*x"
   ]
  },
  {
   "cell_type": "code",
   "execution_count": 17,
   "id": "382a8500",
   "metadata": {},
   "outputs": [],
   "source": [
    "def NewtonRaphson(b,tol,prec,nmax):\n",
    "    x0 = b; niter = 0; sale =''\n",
    "\n",
    "    for k in range(nmax):\n",
    "        niter = niter + 1;\n",
    "        x1 = x0 - f(x0)/df(x0) \n",
    "        if abs(x1-x0) < tol:\n",
    "            sale = 'tolerancia'\n",
    "            break\n",
    "        if abs(f(x1)) < prec:\n",
    "            sale = 'precision'\n",
    "            break\n",
    "        else:\n",
    "            x0 = x1\n",
    "\n",
    "    print('sale el programa por ',sale)\n",
    "    if sale == 'precision':\n",
    "        print('Posiblemente solución exacta: ',x1)\n",
    "    elif niter < nmax:\n",
    "        print('Aproximación solicitada: ', x1)\n",
    "    else:\n",
    "        print('Se llegó al número máximo de iteraciones')\n",
    "    print('Número total de iteraciones ', niter)\n"
   ]
  },
  {
   "cell_type": "code",
   "execution_count": 18,
   "id": "67842f92",
   "metadata": {},
   "outputs": [
    {
     "name": "stdout",
     "output_type": "stream",
     "text": [
      "sale el programa por  tolerancia\n",
      "Aproximación solicitada:  1.3652300139161466\n",
      "Número total de iteraciones  4\n"
     ]
    }
   ],
   "source": [
    "tol = 10**(-3)\n",
    "\n",
    "NewtonRaphson(b,tol,prec,nmax) # Tomo por ejemplo el punto b como semilla x0"
   ]
  },
  {
   "cell_type": "markdown",
   "id": "46050b79",
   "metadata": {},
   "source": [
    "## Ejercicio 2\n",
    "#### Encuentre una aproximación de la raíz cúbica de 25 con dos decimales exactos (tol =$10^{-2}$), usando el algoritmo de bisección."
   ]
  },
  {
   "cell_type": "code",
   "execution_count": 19,
   "id": "7f20ec68",
   "metadata": {},
   "outputs": [],
   "source": [
    "def f(x):     # Lo que nos están pidiendo es calcular la solución de la ecuación x^3-25=0\n",
    "    ''' función x**3-25'''\n",
    "    return x**3-25"
   ]
  },
  {
   "cell_type": "markdown",
   "id": "da0a7362",
   "metadata": {},
   "source": [
    "Primero tenemos que ver sobre qué intervalo vamos a aplicar el método de bisección. \n",
    "\n",
    "Sabemos que $2^3=8<25$ y $3^3=27>25$. Por tanto, dicho intervalo será el [2,3].\n",
    "\n",
    "$f(x)$ es monótona en [2,3] porque $f'(x)=3x^2$ solo toma valores positivos en dicho intervalo. \n",
    "Si hay una raíz, ésta será única (por el Teorema de Bolzano) si $f(2)f(3) < 0$."
   ]
  },
  {
   "cell_type": "code",
   "execution_count": 20,
   "id": "86c8b8ef",
   "metadata": {},
   "outputs": [],
   "source": [
    "a = 2\n",
    "b = 3"
   ]
  },
  {
   "cell_type": "code",
   "execution_count": 21,
   "id": "2ee4f82b",
   "metadata": {},
   "outputs": [
    {
     "name": "stdout",
     "output_type": "stream",
     "text": [
      "f( 2 ) * f( 3 ) =  -17  *  2  =  -34\n",
      "Hay cambio de signo en [ 2 , 3 ]\n"
     ]
    }
   ],
   "source": [
    "cambioDeSigno(f,a,b)"
   ]
  },
  {
   "cell_type": "code",
   "execution_count": 22,
   "id": "0e89792c",
   "metadata": {},
   "outputs": [
    {
     "name": "stdout",
     "output_type": "stream",
     "text": [
      "Aproximación solicitada:  2.9296875\n",
      "Número total de iteraciones  7\n",
      "Solucion real:  2.924017738212866\n"
     ]
    }
   ],
   "source": [
    "tol = 10**(-2)\n",
    "\n",
    "biseccion(a,b,tol,prec,nmax)\n",
    "print('Solucion real: ', 25**(1/3))"
   ]
  },
  {
   "cell_type": "code",
   "execution_count": 23,
   "id": "6ca0c60d",
   "metadata": {},
   "outputs": [
    {
     "data": {
      "image/png": "[encoded data removed]",
      "text/plain": [
       "<Figure size 432x288 with 1 Axes>"
      ]
     },
     "metadata": {
      "needs_background": "light"
     },
     "output_type": "display_data"
    },
    {
     "data": {
      "text/plain": [
       "<sympy.plotting.plot.Plot at 0x186834cf970>"
      ]
     },
     "execution_count": 23,
     "metadata": {},
     "output_type": "execute_result"
    }
   ],
   "source": [
    "sp.plot(f(x),xlim=(0.,4.),ylim=(-5.,5.))"
   ]
  },
  {
   "cell_type": "markdown",
   "id": "41ecff73",
   "metadata": {},
   "source": [
    "## Ejercicio 3\n",
    "#### Use el método de Newton-Raphson para aproximar las soluciones de las siguientes ecuaciones con tolerancia $10^{-5}$ , partiendo de un valor adecuado, próximo a cada una de ellas en cada caso.\n",
    "\n",
    "#### i) $x^3-x-1 = 0$  en $[1,2]$.\n",
    "\n",
    "\n",
    "\n"
   ]
  },
  {
   "cell_type": "code",
   "execution_count": 24,
   "id": "9fd40a52",
   "metadata": {},
   "outputs": [],
   "source": [
    "def f(x):\n",
    "    ''' función x**3-x-1'''\n",
    "    return x**3-x-1"
   ]
  },
  {
   "cell_type": "code",
   "execution_count": 25,
   "id": "73205861",
   "metadata": {},
   "outputs": [],
   "source": [
    "def df(x):\n",
    "    ''' función 3*x**2-1'''\n",
    "    return 3*x**2-1"
   ]
  },
  {
   "cell_type": "code",
   "execution_count": 26,
   "id": "6bc1edd5",
   "metadata": {},
   "outputs": [
    {
     "name": "stdout",
     "output_type": "stream",
     "text": [
      "sale el programa por  tolerancia\n",
      "Aproximación solicitada:  1.3247179572458576\n",
      "Número total de iteraciones  5\n"
     ]
    }
   ],
   "source": [
    "tol = 10**(-5)\n",
    "x0 = 2\n",
    "NewtonRaphson(x0,tol,prec,nmax)"
   ]
  },
  {
   "cell_type": "code",
   "execution_count": 27,
   "id": "d3da3cab",
   "metadata": {},
   "outputs": [
    {
     "data": {
      "image/png": "[encoded data removed]",
      "text/plain": [
       "<Figure size 432x288 with 1 Axes>"
      ]
     },
     "metadata": {
      "needs_background": "light"
     },
     "output_type": "display_data"
    },
    {
     "data": {
      "text/plain": [
       "<sympy.plotting.plot.Plot at 0x18684dd6f10>"
      ]
     },
     "execution_count": 27,
     "metadata": {},
     "output_type": "execute_result"
    }
   ],
   "source": [
    "sp.plot(f(x),xlim=(0.,1.50),ylim=(-5.,5.))"
   ]
  },
  {
   "cell_type": "markdown",
   "id": "c3646bdd",
   "metadata": {},
   "source": [
    "#### ii) $3x=2+x^2-e^x$."
   ]
  },
  {
   "cell_type": "code",
   "execution_count": 28,
   "id": "f60f9849",
   "metadata": {},
   "outputs": [],
   "source": [
    "def f(x):\n",
    "    ''' función x**2-3*x+2-np.exp(x)'''\n",
    "    return x**2-3*x+2-np.exp(x)"
   ]
  },
  {
   "cell_type": "code",
   "execution_count": 29,
   "id": "bc4c40e1",
   "metadata": {},
   "outputs": [],
   "source": [
    "def df(x):\n",
    "    ''' función 2*x-3-np.exp(x)'''\n",
    "    return 2*x-3-np.exp(x)"
   ]
  },
  {
   "cell_type": "code",
   "execution_count": 30,
   "id": "efc34faa",
   "metadata": {},
   "outputs": [],
   "source": [
    "a = 0\n",
    "b = 1"
   ]
  },
  {
   "cell_type": "markdown",
   "id": "a6c61853",
   "metadata": {},
   "source": [
    "Por el Teorema de Bolzano, $f(x)$ tendrá al menos una raíz en el intervalo $[0,1]$ si $f(0)f(1)<0$."
   ]
  },
  {
   "cell_type": "code",
   "execution_count": 31,
   "id": "303cf3f5",
   "metadata": {},
   "outputs": [
    {
     "name": "stdout",
     "output_type": "stream",
     "text": [
      "f( 0 ) * f( 1 ) =  1.0  *  -2.718281828459045  =  -2.718281828459045\n",
      "Hay cambio de signo en [ 0 , 1 ]\n"
     ]
    }
   ],
   "source": [
    "cambioDeSigno(f,a,b)"
   ]
  },
  {
   "cell_type": "code",
   "execution_count": 32,
   "id": "02fd368d",
   "metadata": {},
   "outputs": [
    {
     "name": "stdout",
     "output_type": "stream",
     "text": [
      "sale el programa por  tolerancia\n",
      "Aproximación solicitada:  0.25753028543986073\n",
      "Número total de iteraciones  4\n"
     ]
    }
   ],
   "source": [
    "tol = 10**(-5)\n",
    "x0 = b\n",
    "\n",
    "NewtonRaphson(x0,tol,prec,nmax)"
   ]
  },
  {
   "cell_type": "code",
   "execution_count": 33,
   "id": "70a0884e",
   "metadata": {},
   "outputs": [],
   "source": [
    "def f(x):\n",
    "    ''' función x**2-3*x+2-sp.exp(x)'''\n",
    "    return x**2-3*x+2-sp.exp(x)"
   ]
  },
  {
   "cell_type": "code",
   "execution_count": 34,
   "id": "f8a0cdcb",
   "metadata": {},
   "outputs": [
    {
     "data": {
      "image/png": "[encoded data removed]",
      "text/plain": [
       "<Figure size 432x288 with 1 Axes>"
      ]
     },
     "metadata": {
      "needs_background": "light"
     },
     "output_type": "display_data"
    },
    {
     "data": {
      "text/plain": [
       "<sympy.plotting.plot.Plot at 0x18684dd6b50>"
      ]
     },
     "execution_count": 34,
     "metadata": {},
     "output_type": "execute_result"
    }
   ],
   "source": [
    "sp.plot(f(x),xlim=(0.,0.5),ylim=(-5.,5.))"
   ]
  },
  {
   "cell_type": "markdown",
   "id": "97a4e3e6",
   "metadata": {},
   "source": [
    "#### iii) $x^2+10\\, cos x+x=0$."
   ]
  },
  {
   "cell_type": "code",
   "execution_count": 35,
   "id": "902f2905",
   "metadata": {},
   "outputs": [],
   "source": [
    "def f(x):\n",
    "    ''' función x**2+10*np.cos(x)+x)'''\n",
    "    return x**2+10*np.cos(x)+x"
   ]
  },
  {
   "cell_type": "code",
   "execution_count": 36,
   "id": "27d60e0e",
   "metadata": {},
   "outputs": [],
   "source": [
    "def df(x):\n",
    "    ''' función 2*x-10*np.sin(x)+1'''\n",
    "    return 2*x-10*np.sin(x)+1"
   ]
  },
  {
   "cell_type": "code",
   "execution_count": 37,
   "id": "ca61d1ad",
   "metadata": {},
   "outputs": [],
   "source": [
    "a = -2\n",
    "b = -1"
   ]
  },
  {
   "cell_type": "markdown",
   "id": "5fe95480",
   "metadata": {},
   "source": [
    "Por el Teorema de Bolzano, $f(x)$ tendrá al menos una raíz en el intervalo $[-2,-1]$ si $f(-2)f(-1)<0$."
   ]
  },
  {
   "cell_type": "code",
   "execution_count": 38,
   "id": "82a3213d",
   "metadata": {},
   "outputs": [
    {
     "name": "stdout",
     "output_type": "stream",
     "text": [
      "f( -2 ) * f( -1 ) =  -2.161468365471424  *  5.403023058681398  =  -11.678463419252495\n",
      "Hay cambio de signo en [ -2 , -1 ]\n"
     ]
    }
   ],
   "source": [
    "cambioDeSigno(f,a,b)"
   ]
  },
  {
   "cell_type": "code",
   "execution_count": 39,
   "id": "22761e1e",
   "metadata": {},
   "outputs": [
    {
     "name": "stdout",
     "output_type": "stream",
     "text": [
      "sale el programa por  tolerancia\n",
      "Aproximación solicitada:  -1.6869398997992398\n",
      "Número total de iteraciones  4\n"
     ]
    }
   ],
   "source": [
    "tol = 10**(-5)\n",
    "x0 = -1\n",
    "\n",
    "NewtonRaphson(x0,tol,prec,nmax)"
   ]
  },
  {
   "cell_type": "code",
   "execution_count": 40,
   "id": "5eefbaf9",
   "metadata": {},
   "outputs": [],
   "source": [
    "def f(x):\n",
    "    ''' función x**2+10*sp.cos(x)+x)'''\n",
    "    return x**2+10*sp.cos(x)+x"
   ]
  },
  {
   "cell_type": "code",
   "execution_count": 41,
   "id": "8b187c4c",
   "metadata": {},
   "outputs": [
    {
     "data": {
      "image/png": "[encoded data removed]",
      "text/plain": [
       "<Figure size 432x288 with 1 Axes>"
      ]
     },
     "metadata": {
      "needs_background": "light"
     },
     "output_type": "display_data"
    },
    {
     "data": {
      "text/plain": [
       "<sympy.plotting.plot.Plot at 0x18684dd6940>"
      ]
     },
     "execution_count": 41,
     "metadata": {},
     "output_type": "execute_result"
    }
   ],
   "source": [
    "sp.plot(f(x),xlim=(-5.,5.),ylim=(-10.,20.))"
   ]
  },
  {
   "cell_type": "markdown",
   "id": "4b3553f2",
   "metadata": {},
   "source": [
    "## Ejercicio 4\n",
    "#### Para la función  $f(x)= 3 x^2+e^x-1$, \n",
    "\n",
    "#### i) encuentre, mediante el método de bisección una aproximación de la raíz en $[0,1]$ con, al menos, cuatro decimales exactos (tol =$10^{-4}$), y determine el número de iteraciones realizadas; "
   ]
  },
  {
   "cell_type": "code",
   "execution_count": 42,
   "id": "246f1ac1",
   "metadata": {},
   "outputs": [],
   "source": [
    "def f(x):\n",
    "    ''' función 3*x**2+np.exp(x)-1'''\n",
    "    return 3*x**2+np.exp(x)-1"
   ]
  },
  {
   "cell_type": "code",
   "execution_count": 43,
   "id": "b197bd52",
   "metadata": {},
   "outputs": [],
   "source": [
    "a = 0\n",
    "b = 1"
   ]
  },
  {
   "cell_type": "markdown",
   "id": "007b061e",
   "metadata": {},
   "source": [
    "f(x) es monótona en $[0,1]$ porque $f'(x)=6x+e^x$ solo toma valores positivos en dicho intervalo. \n",
    "Si hay una raíz, ésta será única (por el Teorema de Bolzano) si $f(0)f(1)<0$."
   ]
  },
  {
   "cell_type": "code",
   "execution_count": 44,
   "id": "cc18b908",
   "metadata": {},
   "outputs": [
    {
     "name": "stdout",
     "output_type": "stream",
     "text": [
      "f( 0 ) * f( 1 ) =  0.0  *  4.718281828459045  =  0.0\n",
      "Hay cambio de signo en [ 0 , 1 ]\n"
     ]
    }
   ],
   "source": [
    "cambioDeSigno(f,a,b)"
   ]
  },
  {
   "cell_type": "code",
   "execution_count": 45,
   "id": "d64c4709",
   "metadata": {},
   "outputs": [
    {
     "name": "stdout",
     "output_type": "stream",
     "text": [
      "Aproximación solicitada:  6.103515625e-05\n",
      "Número total de iteraciones  14\n"
     ]
    }
   ],
   "source": [
    "tol = 10**(-4)\n",
    "\n",
    "biseccion(a,b,tol,prec,nmax)"
   ]
  },
  {
   "cell_type": "markdown",
   "id": "87d0feb3",
   "metadata": {},
   "source": [
    "\n",
    "#### ii) encuentre, mediante el método de Newton-Raphson, una aproximación de la raíz en $[0,1]$ con una tolerancia de $10^{-4}$, partiendo de $x_0=0$, y determine el número de iteraciones realizadas."
   ]
  },
  {
   "cell_type": "code",
   "execution_count": 46,
   "id": "d4614dda",
   "metadata": {},
   "outputs": [],
   "source": [
    "def df(x):\n",
    "    ''' función 6*x+np.exp(x)'''\n",
    "    return 6*x+np.exp(x)"
   ]
  },
  {
   "cell_type": "code",
   "execution_count": 47,
   "id": "15de4772",
   "metadata": {},
   "outputs": [
    {
     "name": "stdout",
     "output_type": "stream",
     "text": [
      "sale el programa por  tolerancia\n",
      "Aproximación solicitada:  0.0\n",
      "Número total de iteraciones  1\n"
     ]
    }
   ],
   "source": [
    "x0 = 0\n",
    "\n",
    "NewtonRaphson(x0,tol,prec,nmax)"
   ]
  },
  {
   "cell_type": "code",
   "execution_count": 48,
   "id": "e6be24ea",
   "metadata": {},
   "outputs": [],
   "source": [
    "def f(x):\n",
    "    ''' función 3*x**2+sp.exp(x)-1'''\n",
    "    return 3*x**2+sp.exp(x)-1"
   ]
  },
  {
   "cell_type": "code",
   "execution_count": 49,
   "id": "bc2c923d",
   "metadata": {},
   "outputs": [
    {
     "data": {
      "image/png": "[encoded data removed]",
      "text/plain": [
       "<Figure size 432x288 with 1 Axes>"
      ]
     },
     "metadata": {
      "needs_background": "light"
     },
     "output_type": "display_data"
    },
    {
     "data": {
      "text/plain": [
       "<sympy.plotting.plot.Plot at 0x18684e28f10>"
      ]
     },
     "execution_count": 49,
     "metadata": {},
     "output_type": "execute_result"
    }
   ],
   "source": [
    "sp.plot(f(x),xlim=(-0.5,0.5),ylim=(-1.,1.))"
   ]
  },
  {
   "cell_type": "markdown",
   "id": "c048c7aa",
   "metadata": {},
   "source": [
    "## Ejercicio 5\n",
    "#### Utilice las órdenes apropiadas de Python para aproximar todos los puntos donde se anulan las funciones siguientes (si es necesario, represéntelas gráficamente):\n",
    "\n",
    "#### i) $f(x)=x^7-x^4+2$ ,"
   ]
  },
  {
   "cell_type": "markdown",
   "id": "ee82878b",
   "metadata": {},
   "source": [
    "Una opción sería utilizar la orden `roots` de NumPy"
   ]
  },
  {
   "cell_type": "code",
   "execution_count": 50,
   "id": "77cc2445",
   "metadata": {},
   "outputs": [
    {
     "data": {
      "text/plain": [
       "array([ 1.06110281+0.37638405j,  1.06110281-0.37638405j,\n",
       "        0.15199934+1.01945595j,  0.15199934-1.01945595j,\n",
       "       -0.71310215+0.98823189j, -0.71310215-0.98823189j,\n",
       "       -1.        +0.j        ])"
      ]
     },
     "execution_count": 50,
     "metadata": {},
     "output_type": "execute_result"
    }
   ],
   "source": [
    "coefs = [1,0,0,-1,0,0,0,2]\n",
    "np.roots(coefs)"
   ]
  },
  {
   "cell_type": "markdown",
   "id": "0fca458d",
   "metadata": {},
   "source": [
    "Vemos que nos da una única raíz real en el punto -1. \n",
    "\n",
    "Otra opción podría ser aplicar Sturm para hallar el intervalo donde se encuentran las raíces reales e ir dibujando la gráfica hasta ver a ojo cuáles son las raíces."
   ]
  },
  {
   "cell_type": "code",
   "execution_count": 51,
   "id": "55d19f88",
   "metadata": {},
   "outputs": [],
   "source": [
    "def f(x):\n",
    "    ''' función x**7-x**4+2'''\n",
    "    return x**7-x**4+2"
   ]
  },
  {
   "cell_type": "markdown",
   "id": "2b452c89",
   "metadata": {},
   "source": [
    "Aplicando el método de acotación de raíces, tenemos que:\n",
    "\n",
    "$$\\alpha = max\\left\\{\\frac{1}{1},\\frac{2}{1}\\right\\} = 2$$\n",
    "\n",
    "Por tanto, sabemos que las raices reales cumplen que $|s| \\leq 1 + \\alpha = 3$, es decir, las raíces reales se encuentran en el intervalo $[-3,3]$."
   ]
  },
  {
   "cell_type": "code",
   "execution_count": 52,
   "id": "deff7f27",
   "metadata": {},
   "outputs": [],
   "source": [
    "a = -3\n",
    "b = 3"
   ]
  },
  {
   "cell_type": "code",
   "execution_count": 53,
   "id": "d0ab751f",
   "metadata": {},
   "outputs": [],
   "source": [
    "nxx = 100;\n",
    "#Array de nodos equidistantes con 100 nodos\n",
    "xx = np.linspace(a,b,nxx)  \n",
    "yy = f(xx) "
   ]
  },
  {
   "cell_type": "code",
   "execution_count": 54,
   "id": "25dc5ceb",
   "metadata": {},
   "outputs": [
    {
     "data": {
      "image/png": "[encoded data removed]",
      "text/plain": [
       "<Figure size 432x288 with 1 Axes>"
      ]
     },
     "metadata": {
      "needs_background": "light"
     },
     "output_type": "display_data"
    }
   ],
   "source": [
    "fig, ax = plt.subplots()  # de esta forma generamos una instancia\n",
    "# de la clase figura, con sus correspondientes ejes \n",
    "# y con posibilidad de incluir varios gráficos en ella\n",
    "\n",
    "# estas opciones evitan que se dibujen\n",
    "ax.spines['right'].set_color('none')   # tanto el borde derecho\n",
    "ax.spines['top'].set_color('none') # como el superior del gráfico\n",
    " \n",
    "# mientras que las opciones siguientes sirven\n",
    "ax.xaxis.set_ticks_position('bottom')\n",
    "# para fijar la posición de las marcas en la parte inferior \n",
    "ax.spines['bottom'].set_position(('data',0)) \n",
    "# y situar el eje Ox en la recta horizontal y=0\n",
    "\n",
    "# y estas para fijar la posición de las marcas \n",
    "ax.yaxis.set_ticks_position('left')  # a la izquierda del eje Oy\n",
    "ax.spines['left'].set_position(('data',0))   \n",
    "# y situar éste en la recta vertical x=0\n",
    "\n",
    "# ahora es cuando generamos el gráfico en sí\n",
    "ax.plot(xx, yy); # como una instancia de la clase ejes"
   ]
  },
  {
   "cell_type": "markdown",
   "id": "0ab976a4",
   "metadata": {},
   "source": [
    "Vemos que la raíz/raices están claramente entre -2 y 2."
   ]
  },
  {
   "cell_type": "code",
   "execution_count": 55,
   "id": "e743e562",
   "metadata": {},
   "outputs": [],
   "source": [
    "a = -2 \n",
    "b = 2"
   ]
  },
  {
   "cell_type": "code",
   "execution_count": 56,
   "id": "a81f967f",
   "metadata": {},
   "outputs": [],
   "source": [
    "nxx = 100;\n",
    "#Array de nodos equidistantes con 100 nodos\n",
    "xx = np.linspace(a,b,nxx)  \n",
    "yy = f(xx) "
   ]
  },
  {
   "cell_type": "code",
   "execution_count": 57,
   "id": "05c83049",
   "metadata": {},
   "outputs": [
    {
     "data": {
      "image/png": "[encoded data removed]",
      "text/plain": [
       "<Figure size 432x288 with 1 Axes>"
      ]
     },
     "metadata": {
      "needs_background": "light"
     },
     "output_type": "display_data"
    }
   ],
   "source": [
    "fig, ax = plt.subplots()  # de esta forma generamos una instancia\n",
    "# de la clase figura, con sus correspondientes ejes \n",
    "# y con posibilidad de incluir varios gráficos en ella\n",
    "\n",
    "# estas opciones evitan que se dibujen\n",
    "ax.spines['right'].set_color('none')   # tanto el borde derecho\n",
    "ax.spines['top'].set_color('none') # como el superior del gráfico\n",
    " \n",
    "# mientras que las opciones siguientes sirven\n",
    "ax.xaxis.set_ticks_position('bottom')\n",
    "# para fijar la posición de las marcas en la parte inferior \n",
    "ax.spines['bottom'].set_position(('data',0)) \n",
    "# y situar el eje Ox en la recta horizontal y=0\n",
    "\n",
    "# y estas para fijar la posición de las marcas \n",
    "ax.yaxis.set_ticks_position('left')  # a la izquierda del eje Oy\n",
    "ax.spines['left'].set_position(('data',0))   \n",
    "# y situar éste en la recta vertical x=0\n",
    "\n",
    "# ahora es cuando generamos el gráfico en sí\n",
    "ax.plot(xx, yy); # como una instancia de la clase ejes"
   ]
  },
  {
   "cell_type": "markdown",
   "id": "ca637d09",
   "metadata": {},
   "source": [
    "Vemos que la raíz/raices están claramente entre -1.5 y 1.5"
   ]
  },
  {
   "cell_type": "code",
   "execution_count": 58,
   "id": "2005a95e",
   "metadata": {},
   "outputs": [],
   "source": [
    "a = -1.5\n",
    "b = 1.5"
   ]
  },
  {
   "cell_type": "code",
   "execution_count": 59,
   "id": "60049dd1",
   "metadata": {},
   "outputs": [],
   "source": [
    "nxx = 100;\n",
    "#Array de nodos equidistantes con 100 nodos\n",
    "xx = np.linspace(a,b,nxx)  \n",
    "yy = f(xx) "
   ]
  },
  {
   "cell_type": "code",
   "execution_count": 60,
   "id": "34872eec",
   "metadata": {},
   "outputs": [
    {
     "data": {
      "image/png": "[encoded data removed]",
      "text/plain": [
       "<Figure size 432x288 with 1 Axes>"
      ]
     },
     "metadata": {
      "needs_background": "light"
     },
     "output_type": "display_data"
    }
   ],
   "source": [
    "fig, ax = plt.subplots()  # de esta forma generamos una instancia\n",
    "# de la clase figura, con sus correspondientes ejes \n",
    "# y con posibilidad de incluir varios gráficos en ella\n",
    "\n",
    "# estas opciones evitan que se dibujen\n",
    "ax.spines['right'].set_color('none')   # tanto el borde derecho\n",
    "ax.spines['top'].set_color('none') # como el superior del gráfico\n",
    " \n",
    "# mientras que las opciones siguientes sirven\n",
    "ax.xaxis.set_ticks_position('bottom')\n",
    "# para fijar la posición de las marcas en la parte inferior \n",
    "ax.spines['bottom'].set_position(('data',0)) \n",
    "# y situar el eje Ox en la recta horizontal y=0\n",
    "\n",
    "# y estas para fijar la posición de las marcas \n",
    "ax.yaxis.set_ticks_position('left')  # a la izquierda del eje Oy\n",
    "ax.spines['left'].set_position(('data',0))   \n",
    "# y situar éste en la recta vertical x=0\n",
    "\n",
    "# ahora es cuando generamos el gráfico en sí\n",
    "ax.plot(xx, yy); # como una instancia de la clase ejes"
   ]
  },
  {
   "cell_type": "markdown",
   "id": "3e39a89b",
   "metadata": {},
   "source": [
    "Ahora sí podemos apreciar claramente que **hay una única raíz real en un entorno entre -1.5 y -0.5, y dicha raíz será -1.**\n",
    "\n",
    "Apliquemos el método de bisección para comprobarlo."
   ]
  },
  {
   "cell_type": "code",
   "execution_count": 61,
   "id": "65df4ace",
   "metadata": {},
   "outputs": [],
   "source": [
    "a = -1.5\n",
    "b = -0.5"
   ]
  },
  {
   "cell_type": "code",
   "execution_count": 62,
   "id": "2c839cff",
   "metadata": {},
   "outputs": [
    {
     "name": "stdout",
     "output_type": "stream",
     "text": [
      "Posiblemente solución exacta:  -1.0\n",
      "Número total de iteraciones  1\n"
     ]
    }
   ],
   "source": [
    "biseccion(a,b,tol,prec,nmax)"
   ]
  },
  {
   "cell_type": "markdown",
   "id": "fe561bee",
   "metadata": {},
   "source": [
    "#### ii) $f(x)=x^7+\\cos  x-3$."
   ]
  },
  {
   "cell_type": "markdown",
   "id": "e3d5980e",
   "metadata": {},
   "source": [
    "Para este apartado, usamos la función fsolve"
   ]
  },
  {
   "cell_type": "code",
   "execution_count": 63,
   "id": "dab03d85",
   "metadata": {},
   "outputs": [],
   "source": [
    "def f(x):\n",
    "    ''' función x**7+np.cos(x)-3'''\n",
    "    return x**7+np.cos(x)-3"
   ]
  },
  {
   "cell_type": "code",
   "execution_count": 64,
   "id": "0f403843",
   "metadata": {},
   "outputs": [],
   "source": [
    "from scipy.optimize import fsolve"
   ]
  },
  {
   "cell_type": "code",
   "execution_count": 65,
   "id": "597fa98d",
   "metadata": {},
   "outputs": [
    {
     "data": {
      "text/plain": [
       "array([1.14545981])"
      ]
     },
     "execution_count": 65,
     "metadata": {},
     "output_type": "execute_result"
    }
   ],
   "source": [
    "fsolve(f,1)"
   ]
  },
  {
   "cell_type": "markdown",
   "id": "81199e8a",
   "metadata": {},
   "source": [
    "Observamos la raíz gráficamente:"
   ]
  },
  {
   "cell_type": "code",
   "execution_count": 66,
   "id": "a8772214",
   "metadata": {},
   "outputs": [
    {
     "data": {
      "text/plain": [
       "[<matplotlib.lines.Line2D at 0x1868595dd90>]"
      ]
     },
     "execution_count": 66,
     "metadata": {},
     "output_type": "execute_result"
    },
    {
     "data": {
      "image/png": "[encoded data removed]",
      "text/plain": [
       "<Figure size 432x288 with 1 Axes>"
      ]
     },
     "metadata": {
      "needs_background": "light"
     },
     "output_type": "display_data"
    }
   ],
   "source": [
    "nxx = 100;\n",
    "#Array de nodos equidistantes con 100 nodos\n",
    "xx = np.linspace(1.14,1.15,nxx)  \n",
    "yy = f(xx)\n",
    "plt.plot(xx,yy)"
   ]
  },
  {
   "cell_type": "markdown",
   "id": "b574b947",
   "metadata": {},
   "source": [
    "## Ejercicio 6\n",
    "#### Aplicar los métodos de aceleración de la convergencia de Aitken y Steffensen (según los apuntes) a las sucesiones obtenidas para los distintos métodos programados en esta práctica y comparar los resultados. Para aplicar el método de aceleración de Steffensen, recuerde que para transformar cualquier ecuación de la forma  $ f(x)=0 $  en un problema de puntos fijos  $ g(x)=x $, la forma más simple puede ser definir  $g(x)=x \\pm f(x)$."
   ]
  },
  {
   "cell_type": "code",
   "execution_count": 67,
   "id": "e095462a",
   "metadata": {},
   "outputs": [],
   "source": [
    "def f(x):  # Usamos como ejemplo la función del ejercicio 1\n",
    "    ''' función x**3 + 4*x**2 - 10'''\n",
    "    return x**3 + 4*x**2 - 10 \n",
    "\n",
    "def df(x):\n",
    "    ''' función 3*x**2+8*x'''\n",
    "    return 3*x**2+8*x\n",
    "\n",
    "def g(x):    \n",
    "    ''' función x - f(x)'''\n",
    "    return x - f(x)"
   ]
  },
  {
   "cell_type": "markdown",
   "id": "3190054f",
   "metadata": {},
   "source": [
    "Definimos una sucesión en la que cada término se calcula usando el método de Bisección."
   ]
  },
  {
   "cell_type": "code",
   "execution_count": 68,
   "id": "57f13a20",
   "metadata": {},
   "outputs": [],
   "source": [
    "def Suc_Biseccion(a,b,tol,prec,nmax):\n",
    "    lista=[]\n",
    "    for k in range(nmax):\n",
    "        c = (a+b)/2\n",
    "        lista.append(c)\n",
    "        if abs(f(c)) < prec:\n",
    "            break\n",
    "        if sign(f(a)) != sign(f(c)):\n",
    "            b = c\n",
    "        else:\n",
    "            a = c\n",
    "        if b-a < tol:\n",
    "            break\n",
    "    return lista"
   ]
  },
  {
   "cell_type": "markdown",
   "id": "1f7913bf",
   "metadata": {},
   "source": [
    "Definimos una sucesión hasta un cierto número natural $n$ en la que cada término se calcula usando el método de Newton-Raphson. "
   ]
  },
  {
   "cell_type": "code",
   "execution_count": 69,
   "id": "2d4483ba",
   "metadata": {},
   "outputs": [],
   "source": [
    "def Suc_NR(b,tol,prec,nmax):\n",
    "    x0 = b;\n",
    "    lista = [x0]\n",
    "\n",
    "    for k in range(nmax):\n",
    "        x1 = x0 - f(x0)/df(x0) \n",
    "        lista.append(x1)\n",
    "        if abs(x1-x0) < tol:\n",
    "            break\n",
    "        if abs(f(x1)) < prec:\n",
    "            break\n",
    "        else:\n",
    "            x0 = x1\n",
    "\n",
    "    return lista"
   ]
  },
  {
   "cell_type": "markdown",
   "id": "1c88a34b",
   "metadata": {},
   "source": [
    "Ahora definimos el método de aceleración de Aitken."
   ]
  },
  {
   "cell_type": "code",
   "execution_count": 70,
   "id": "6494c11e",
   "metadata": {},
   "outputs": [],
   "source": [
    "def aitken(s0, s1, s2):\n",
    "    return (s2*s0-s1**2)/(s2-2*s1+s0)\n",
    "\n",
    "def Suc_Aitken(lista_original):\n",
    "    lista_resultante = [lista_original[0]]\n",
    "    for i in range( len(lista_original)-2):\n",
    "        lista_resultante.append( aitken( lista_original[i], lista_original[i+1], lista_original[i+2]))\n",
    "    return lista_resultante"
   ]
  },
  {
   "cell_type": "markdown",
   "id": "af91347a",
   "metadata": {},
   "source": [
    "Definimos también el método de aceleración de Steffensen."
   ]
  },
  {
   "cell_type": "code",
   "execution_count": 71,
   "id": "552c6ffe",
   "metadata": {},
   "outputs": [],
   "source": [
    "  def Suc_Steffensen(x0, n):\n",
    "    lista_resultante = [x0]\n",
    "    terminos = [x0,g(x0),g(g(x0))]\n",
    "    \n",
    "    for i in range(n):\n",
    "        x0 = aitken( terminos[0], terminos[1], terminos[2]) #Cuando consigo los 3 términos acelero mediante Aitken\n",
    "        terminos = [x0,g(x0),g(g(x0))]\n",
    "        lista_resultante.append(x0)\n",
    "        \n",
    "    return lista_resultante  "
   ]
  },
  {
   "cell_type": "markdown",
   "id": "5c3168a7",
   "metadata": {},
   "source": [
    "Finalmente, comparamos los resultados de los distintos métodos."
   ]
  },
  {
   "cell_type": "code",
   "execution_count": 72,
   "id": "bb5ee7eb",
   "metadata": {},
   "outputs": [],
   "source": [
    "# Bisección\n",
    "\n",
    "suc_bis = Suc_Biseccion(1,2,tol,prec,nmax)\n",
    "suc_bis_aitken = Suc_Aitken(suc_bis)\n",
    "# No aplicamos Steffensen a Bisección porque no es un método de iteración funcional"
   ]
  },
  {
   "cell_type": "code",
   "execution_count": 73,
   "id": "ff40a216",
   "metadata": {},
   "outputs": [
    {
     "name": "stdout",
     "output_type": "stream",
     "text": [
      "Bisección:\n"
     ]
    },
    {
     "data": {
      "text/plain": [
       "[1.5,\n",
       " 1.25,\n",
       " 1.375,\n",
       " 1.3125,\n",
       " 1.34375,\n",
       " 1.359375,\n",
       " 1.3671875,\n",
       " 1.36328125,\n",
       " 1.365234375,\n",
       " 1.3642578125,\n",
       " 1.36474609375,\n",
       " 1.364990234375,\n",
       " 1.3651123046875,\n",
       " 1.36517333984375]"
      ]
     },
     "execution_count": 73,
     "metadata": {},
     "output_type": "execute_result"
    }
   ],
   "source": [
    "print('Bisección:')\n",
    "suc_bis"
   ]
  },
  {
   "cell_type": "code",
   "execution_count": 74,
   "id": "091a0fd3",
   "metadata": {},
   "outputs": [
    {
     "name": "stdout",
     "output_type": "stream",
     "text": [
      "Aceleración de Aitken (Bisección):\n"
     ]
    },
    {
     "data": {
      "text/plain": [
       "[1.5,\n",
       " 1.3333333333333333,\n",
       " 1.3333333333333333,\n",
       " 1.3333333333333333,\n",
       " 1.375,\n",
       " 1.375,\n",
       " 1.3645833333333333,\n",
       " 1.3645833333333333,\n",
       " 1.3645833333333333,\n",
       " 1.3645833333333333,\n",
       " 1.365234375,\n",
       " 1.365234375,\n",
       " 1.365234375]"
      ]
     },
     "execution_count": 74,
     "metadata": {},
     "output_type": "execute_result"
    }
   ],
   "source": [
    "print('Aceleración de Aitken (Bisección):')\n",
    "suc_bis_aitken"
   ]
  },
  {
   "cell_type": "code",
   "execution_count": 75,
   "id": "e167366a",
   "metadata": {},
   "outputs": [],
   "source": [
    "# Newton-Raphson\n",
    "tol = 10**(-3)\n",
    "\n",
    "suc_nr = Suc_NR(2,tol,prec,nmax)\n",
    "suc_nr_aitken = Suc_Aitken(suc_nr)\n",
    "suc_nr_steffensen = Suc_Steffensen(1,10)"
   ]
  },
  {
   "cell_type": "code",
   "execution_count": 76,
   "id": "0609c255",
   "metadata": {},
   "outputs": [
    {
     "name": "stdout",
     "output_type": "stream",
     "text": [
      "Newton-Raphson:\n"
     ]
    },
    {
     "data": {
      "text/plain": [
       "[2, 1.5, 1.3733333333333333, 1.3652620148746266, 1.3652300139161466]"
      ]
     },
     "execution_count": 76,
     "metadata": {},
     "output_type": "execute_result"
    }
   ],
   "source": [
    "print('Newton-Raphson:')\n",
    "suc_nr"
   ]
  },
  {
   "cell_type": "code",
   "execution_count": 77,
   "id": "e38ea36b",
   "metadata": {},
   "outputs": [
    {
     "name": "stdout",
     "output_type": "stream",
     "text": [
      "Aceleración de Aitken (Newton-Raphson):\n"
     ]
    },
    {
     "data": {
      "text/plain": [
       "[2, 1.3303571428571428, 1.3647127000604604, 1.3652298865345363]"
      ]
     },
     "execution_count": 77,
     "metadata": {},
     "output_type": "execute_result"
    }
   ],
   "source": [
    "print('Aceleración de Aitken (Newton-Raphson):')\n",
    "suc_nr_aitken"
   ]
  },
  {
   "cell_type": "code",
   "execution_count": 78,
   "id": "588a6302",
   "metadata": {},
   "outputs": [
    {
     "name": "stdout",
     "output_type": "stream",
     "text": [
      "Aceleración de Steffensen (Newton-Raphson):\n"
     ]
    },
    {
     "data": {
      "text/plain": [
       "[1,\n",
       " 1.0704225352112675,\n",
       " 1.1405216774373526,\n",
       " 1.208704439295944,\n",
       " 1.2716154892695066,\n",
       " 1.3229737969182453,\n",
       " 1.3543984470776824,\n",
       " 1.3643912204036042,\n",
       " 1.365224688545221,\n",
       " 1.36523001319838,\n",
       " 1.3652300140917395]"
      ]
     },
     "execution_count": 78,
     "metadata": {},
     "output_type": "execute_result"
    }
   ],
   "source": [
    "print('Aceleración de Steffensen (Newton-Raphson):')\n",
    "suc_nr_steffensen"
   ]
  },
  {
   "cell_type": "markdown",
   "id": "c52804f7",
   "metadata": {},
   "source": [
    "Comparando los diferentes resultados, se puede observar que se obtienen más rápidamente la solución a la que queremos llegar, usando los métodos de aceleración de Aitken y de Steffensen aplicados a Bisección (Steffensen no se aplica a Bisección ya que este no es un método de iteración funcional) y a Newton-Raphson (obteniéndose un resultado más preciso con el método de aceleración de Steffensen)."
   ]
  },
  {
   "cell_type": "markdown",
   "id": "f21a372f",
   "metadata": {},
   "source": [
    "## Ejercicio 7\n",
    "#### Programar el método de Newton-Raphson acelerado, partiendo de cierto $x_0$ adecuado: $$x_{n+1}=x_n - m\\frac{f(x_n)}{f'(x_n)}, \\quad n=0,1,2,\\ldots$$ para el caso de una raíz múltiple (de multiplicidad $m\\in\\mathbb{N}$) de una ecuación del tipo $f(x)=0$ y comparar los resultados con los que se obtienen mediante el empleo de los métodos de aceleración habituales de Aitken y Steffensen (según los apuntes)."
   ]
  },
  {
   "cell_type": "code",
   "execution_count": 79,
   "id": "f8e6ec50",
   "metadata": {},
   "outputs": [],
   "source": [
    "def f(x):    # Esta función tiene una raíz doble en x = 5\n",
    "    ''' función np.log(x)*(x-5)**2'''\n",
    "    return np.log(x)*(x-5)**2"
   ]
  },
  {
   "cell_type": "code",
   "execution_count": 80,
   "id": "b218d8ac",
   "metadata": {},
   "outputs": [],
   "source": [
    "def NewtonRaphson_Acelerado(x0,tol,prec,nmax,m):\n",
    "    lista=[x0]\n",
    "    \n",
    "    for k in range(nmax):\n",
    "        x1 = x0 - m*f(x0)/df(x0) \n",
    "        lista.append(x1)\n",
    "        if abs(x1-x0) < tol:\n",
    "            return lista\n",
    "        if abs(f(x1)) < prec:\n",
    "            return lista\n",
    "        else:\n",
    "            x0 = x1\n",
    "    return lista"
   ]
  },
  {
   "cell_type": "code",
   "execution_count": 81,
   "id": "f111beaa",
   "metadata": {},
   "outputs": [
    {
     "data": {
      "text/plain": [
       "[5.2, 5.199462627566628]"
      ]
     },
     "execution_count": 81,
     "metadata": {},
     "output_type": "execute_result"
    }
   ],
   "source": [
    "sucesion_NR = Suc_NR(5.2,tol,prec,nmax)\n",
    "sucesion_NR"
   ]
  },
  {
   "cell_type": "code",
   "execution_count": 82,
   "id": "0d391e65",
   "metadata": {},
   "outputs": [
    {
     "data": {
      "text/plain": [
       "[5.2,\n",
       " 5.198925255133255,\n",
       " 5.197861798243287,\n",
       " 5.196809454523996,\n",
       " 5.195768052727475,\n",
       " 5.194737425074609,\n",
       " 5.193717407168336,\n",
       " 5.19270783790948,\n",
       " 5.191708559415072]"
      ]
     },
     "execution_count": 82,
     "metadata": {},
     "output_type": "execute_result"
    }
   ],
   "source": [
    "sucesion_NR_acelerada = NewtonRaphson_Acelerado(5.2,tol,prec,nmax,2)  \n",
    "sucesion_NR_acelerada"
   ]
  },
  {
   "cell_type": "code",
   "execution_count": 83,
   "id": "fce2bf02",
   "metadata": {},
   "outputs": [
    {
     "data": {
      "text/plain": [
       "[5.2]"
      ]
     },
     "execution_count": 83,
     "metadata": {},
     "output_type": "execute_result"
    }
   ],
   "source": [
    "sucesion_NR_aitken = Suc_Aitken(sucesion_NR)\n",
    "sucesion_NR_aitken"
   ]
  },
  {
   "cell_type": "code",
   "execution_count": 84,
   "id": "62f7fd00",
   "metadata": {},
   "outputs": [
    {
     "data": {
      "text/plain": [
       "[5.2,\n",
       " 5.081010181099075,\n",
       " 5.0378213407772305,\n",
       " 5.018355276571771,\n",
       " 5.009049810657795,\n",
       " 5.004494171653704,\n",
       " 5.002239550296848,\n",
       " 5.001117940422595,\n",
       " 5.000558498377236,\n",
       " 5.000282525641417,\n",
       " 5.00015206812652]"
      ]
     },
     "execution_count": 84,
     "metadata": {},
     "output_type": "execute_result"
    }
   ],
   "source": [
    "sucesion_NR_steffensen = Suc_Steffensen(5.2,10)\n",
    "sucesion_NR_steffensen"
   ]
  },
  {
   "cell_type": "markdown",
   "id": "e941dacb",
   "metadata": {},
   "source": [
    "Teniendo en cuenta que la raíz de $f(x)$ es 5 (con multiplicidad doble), veremos qué método se aproxima más en la décima iteración:"
   ]
  },
  {
   "cell_type": "code",
   "execution_count": 85,
   "id": "dedc4c9a",
   "metadata": {},
   "outputs": [
    {
     "name": "stdout",
     "output_type": "stream",
     "text": [
      "Error en Newton-Raphson:  0.19946262756662758\n",
      "Error en Newton-Raphson acelerado:  0.1917085594150718\n",
      "Error en Aitken:  0.20000000000000018\n",
      "Error en Steffensen:  0.00015206812652035495\n"
     ]
    }
   ],
   "source": [
    "print('Error en Newton-Raphson: ', abs(5 - sucesion_NR[-1]))\n",
    "print('Error en Newton-Raphson acelerado: ', abs(5 - sucesion_NR_acelerada[-1]))\n",
    "print('Error en Aitken: ', abs(5 - sucesion_NR_aitken[-1]))\n",
    "print('Error en Steffensen: ', abs(5 - sucesion_NR_steffensen[-1]))"
   ]
  },
  {
   "cell_type": "markdown",
   "id": "b1c61144",
   "metadata": {},
   "source": [
    "## Ejercicio 8\n",
    "#### Programar el conocido algoritmo de Horner para la evaluación de un polinomio y emplearlo de forma reiterativa para el cálculo del desarrollo de Taylor de orden $ n$ de un polinomio cualquiera. Aprovecharlo también para programar una versión especial del método de Newton-Raphson para polinomios, evaluando tanto  $ p(x_k ) $ como $ p'(x_k)$ mediante el citado algoritmo y aplicarlo para aproximar alguna de las raíces reales del siguiente polinomio\n",
    "\n",
    "$$p(x)=d_0 + d_1 x + d_2 x^2 + d_3 x^3+ d_4 x^4 + d_5 x^5 + d_6 x^6 + d_7 x^7 $$\n",
    "#### (siendo $d_0, d_1, \\ldots, d_7$ los dígitos ordenados de su DNI, pasaporte o tarjeta de residente).\n",
    "\n",
    "#### Programar y construir también una sucesión de Sturm para dicho polinomio."
   ]
  },
  {
   "cell_type": "code",
   "execution_count": 86,
   "id": "590472a3",
   "metadata": {},
   "outputs": [],
   "source": [
    "def p(x):\n",
    "    return sp.Poly(\"4 + 9*x + 5*x^2 + 5*x^3 + 9*x^4 + 4*x^5 + 9*x^6 + 4*x^7\", x)"
   ]
  },
  {
   "cell_type": "code",
   "execution_count": 87,
   "id": "28362a8d",
   "metadata": {},
   "outputs": [
    {
     "data": {
      "text/latex": [
       "$\\displaystyle \\operatorname{Poly}{\\left( 4 x^{7} + 9 x^{6} + 4 x^{5} + 9 x^{4} + 5 x^{3} + 5 x^{2} + 9 x + 4, x, domain=\\mathbb{Z} \\right)}$"
      ],
      "text/plain": [
       "Poly(4*x**7 + 9*x**6 + 4*x**5 + 9*x**4 + 5*x**3 + 5*x**2 + 9*x + 4, x, domain='ZZ')"
      ]
     },
     "execution_count": 87,
     "metadata": {},
     "output_type": "execute_result"
    }
   ],
   "source": [
    "p(x)"
   ]
  },
  {
   "cell_type": "code",
   "execution_count": 88,
   "id": "7fd2f76f",
   "metadata": {},
   "outputs": [],
   "source": [
    "def p_2(x):\n",
    "    return 4 + 9*x + 5*x**2 + 5*x**3 + 9*x**4 + 4*x**5 + 9*x**6 + 4*x**7"
   ]
  },
  {
   "cell_type": "code",
   "execution_count": 89,
   "id": "c626a09b",
   "metadata": {},
   "outputs": [
    {
     "data": {
      "text/latex": [
       "$\\displaystyle 4 x^{7} + 9 x^{6} + 4 x^{5} + 9 x^{4} + 5 x^{3} + 5 x^{2} + 9 x + 4$"
      ],
      "text/plain": [
       "4*x**7 + 9*x**6 + 4*x**5 + 9*x**4 + 5*x**3 + 5*x**2 + 9*x + 4"
      ]
     },
     "execution_count": 89,
     "metadata": {},
     "output_type": "execute_result"
    }
   ],
   "source": [
    "p_2(x)"
   ]
  },
  {
   "cell_type": "code",
   "execution_count": 90,
   "id": "47f608dc",
   "metadata": {},
   "outputs": [],
   "source": [
    "# Recordemos que Horner está basado en la Regla de Ruffini\n",
    "def horner(coeficientes, a):\n",
    "    \n",
    "    result = [coeficientes[0] ]\n",
    "    n = len(coeficientes)\n",
    "    \n",
    "    for i in range(1, n):\n",
    "        result.append(result[i-1]*a + coeficientes[i]) \n",
    "        \n",
    "    return result"
   ]
  },
  {
   "cell_type": "code",
   "execution_count": 91,
   "id": "49b256a9",
   "metadata": {},
   "outputs": [],
   "source": [
    "def taylor(p, orden, centro):\n",
    "    \n",
    "    result = 0\n",
    "    polinomio = p\n",
    "    \n",
    "    for i in range(0, orden+1):\n",
    "        result += horner(polinomio.all_coeffs(),centro)[-1]/np.math.factorial(i) * (x-centro)**i\n",
    "        polinomio = polinomio.diff(x)\n",
    "        \n",
    "    return result"
   ]
  },
  {
   "cell_type": "code",
   "execution_count": 92,
   "id": "aed3166f",
   "metadata": {},
   "outputs": [],
   "source": [
    "def NR_Horner(p,x0,tol,prec,nmax):\n",
    "    \n",
    "    coef1 = p.all_coeffs()\n",
    "    \n",
    "    for i in range(0,nmax):\n",
    "        coef2 = horner(p.all_coeffs(),x0)\n",
    "        \n",
    "        x1= x0 - coef2[-1]/horner(coef2[:-1],x0)[-1]\n",
    "        \n",
    "        if(abs(x1-x0)<tol):\n",
    "            return x1\n",
    "        if(p_2(x1)<prec):\n",
    "            return x1\n",
    "        \n",
    "        x0 = x1\n",
    "        \n",
    "    return x1"
   ]
  },
  {
   "cell_type": "code",
   "execution_count": 93,
   "id": "2ae71160",
   "metadata": {},
   "outputs": [
    {
     "data": {
      "image/png": "[encoded data removed]",
      "text/plain": [
       "<Figure size 432x288 with 1 Axes>"
      ]
     },
     "metadata": {
      "needs_background": "light"
     },
     "output_type": "display_data"
    },
    {
     "data": {
      "text/plain": [
       "<sympy.plotting.plot.Plot at 0x18685994250>"
      ]
     },
     "execution_count": 93,
     "metadata": {},
     "output_type": "execute_result"
    }
   ],
   "source": [
    "sp.plot(p_2(x))"
   ]
  },
  {
   "cell_type": "code",
   "execution_count": 94,
   "id": "2d03d809",
   "metadata": {},
   "outputs": [
    {
     "data": {
      "image/png": "[encoded data removed]",
      "text/plain": [
       "<Figure size 432x288 with 1 Axes>"
      ]
     },
     "metadata": {
      "needs_background": "light"
     },
     "output_type": "display_data"
    },
    {
     "data": {
      "text/plain": [
       "<sympy.plotting.plot.Plot at 0x18685b2c700>"
      ]
     },
     "execution_count": 94,
     "metadata": {},
     "output_type": "execute_result"
    }
   ],
   "source": [
    "sp.plot(p_2(x), xlim=(-3,0), ylim=(-10,10))"
   ]
  },
  {
   "cell_type": "code",
   "execution_count": 95,
   "id": "45e0962a",
   "metadata": {},
   "outputs": [
    {
     "name": "stdout",
     "output_type": "stream",
     "text": [
      "f( -2.5 ) * f( -2 ) =  -348.578125  *  46  =  -16034.59375\n",
      "Hay cambio de signo en [ -2.5 , -2 ]\n"
     ]
    }
   ],
   "source": [
    "cambioDeSigno(p_2,-2.5,-2)"
   ]
  },
  {
   "cell_type": "code",
   "execution_count": 96,
   "id": "cec1f619",
   "metadata": {},
   "outputs": [
    {
     "data": {
      "text/latex": [
       "$\\displaystyle -2.31724137931035$"
      ],
      "text/plain": [
       "-2.31724137931035"
      ]
     },
     "execution_count": 96,
     "metadata": {},
     "output_type": "execute_result"
    }
   ],
   "source": [
    "nmax = 100      # Número máximo de iteraciones\n",
    "prec = 10**(-16)\n",
    "tol = 10**(-3)\n",
    "\n",
    "NR_Horner(p(x), -2.0, tol, prec,nmax)"
   ]
  },
  {
   "cell_type": "code",
   "execution_count": 97,
   "id": "008c75d5",
   "metadata": {},
   "outputs": [
    {
     "data": {
      "text/plain": [
       "array([-2.1643147 +0.j        ,  0.67732475+0.72178791j,\n",
       "        0.67732475-0.72178791j, -0.09479689+1.05988711j,\n",
       "       -0.09479689-1.05988711j, -0.62537051+0.159324j  ,\n",
       "       -0.62537051-0.159324j  ])"
      ]
     },
     "execution_count": 97,
     "metadata": {},
     "output_type": "execute_result"
    }
   ],
   "source": [
    "coefs = [4,9,4,9,5,5,9,4]\n",
    "np.roots(coefs)"
   ]
  },
  {
   "cell_type": "markdown",
   "id": "e4b81c64",
   "metadata": {},
   "source": [
    "Vemos que nos da una única raíz real en el punto -2.1643147. "
   ]
  },
  {
   "cell_type": "code",
   "execution_count": 98,
   "id": "6b325c0f",
   "metadata": {},
   "outputs": [],
   "source": [
    "def sturm(polinomio,x):\n",
    "    p0 = polinomio\n",
    "    p1 = sp.Poly(sp.diff(polinomio,x))\n",
    "    \n",
    "    suc_sturm = [p0,p1]\n",
    "    \n",
    "    p = p0 % p1\n",
    "    p = sp.Poly(-p)\n",
    "    \n",
    "    while((sp.degree(p,x) != -sp.oo) or (p == p0)):\n",
    "        \n",
    "        suc_sturm.append(p)\n",
    "        \n",
    "        p0,p1 = p1,p\n",
    "        \n",
    "        p = p0 % p1\n",
    "        p = sp.Poly(-p)\n",
    "        \n",
    "    return suc_sturm"
   ]
  },
  {
   "cell_type": "code",
   "execution_count": 99,
   "id": "58e77fda",
   "metadata": {},
   "outputs": [
    {
     "name": "stdout",
     "output_type": "stream",
     "text": [
      "f1(x) = 4*x**7 + 9*x**6 + 4*x**5 + 9*x**4 + 5*x**3 + 5*x**2 + 9*x + 4\n",
      "f2(x) = 28*x**6 + 54*x**5 + 20*x**4 + 36*x**3 + 15*x**2 + 10*x + 9\n",
      "f3(x) = 131*x**5/98 - 144*x**4/49 - 59*x**3/49 - 565*x**2/196 - 711*x/98 - 703/196\n",
      "f4(x) = -5135788*x**4/17161 - 3440290*x**3/17161 - 7141848*x**2/17161 - 12224030*x/17161 - 5475456/17161\n",
      "f5(x) = 133104645869*x**3/269146105928 + 7040454699*x**2/9612360926 - 119987944417*x/269146105928 - 67429018361/134573052964\n",
      "f6(x) = 1079345562795486223244*x**2/1032390114323868001 + 822495748894486510032*x/1032390114323868001 + 75474502908419965364/1032390114323868001\n",
      "f7(x) = 191305989805096372110464288937*x/254615007866211579179828684386 + 267815845388894108499617299213/509230015732423158359657368772\n",
      "f8(x) = -981513011757408625675602357207056127532679/35449759957529576042234356171686796497969\n"
     ]
    }
   ],
   "source": [
    "suc_sturm = sturm(p(x),x)\n",
    "\n",
    "for i in range(len(suc_sturm)):\n",
    "    print(\"f{}(x) = {}\".format(i+1,suc_sturm[i].as_expr()))"
   ]
  },
  {
   "cell_type": "markdown",
   "id": "dbaca72c",
   "metadata": {},
   "source": [
    "Vimos gráficamente que el polinomio formado por los dígitos de mi DNI no tiene raíces múltiples, luego, es de esperar que $f_8(x)$ sea constante."
   ]
  }
 ],
 "metadata": {
  "kernelspec": {
   "display_name": "Python 3 (ipykernel)",
   "language": "python",
   "name": "python3"
  },
  "language_info": {
   "codemirror_mode": {
    "name": "ipython",
    "version": 3
   },
   "file_extension": ".py",
   "mimetype": "text/x-python",
   "name": "python",
   "nbconvert_exporter": "python",
   "pygments_lexer": "ipython3",
   "version": "3.9.7"
  }
 },
 "nbformat": 4,
 "nbformat_minor": 5
}
