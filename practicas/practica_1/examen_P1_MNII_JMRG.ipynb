{
 "cells": [
  {
   "cell_type": "markdown",
   "id": "ce772dc0",
   "metadata": {},
   "source": [
    "## Métodos Numéricos II: Examen Práctica 1"
   ]
  },
  {
   "cell_type": "markdown",
   "id": "3bfa15f7",
   "metadata": {},
   "source": [
    "#### Autor: Juan Manuel Rodríguez Gómez"
   ]
  },
  {
   "cell_type": "code",
   "execution_count": 23,
   "id": "2b29d434",
   "metadata": {},
   "outputs": [],
   "source": [
    "import numpy as np\n",
    "import sympy as sp"
   ]
  },
  {
   "cell_type": "code",
   "execution_count": 24,
   "id": "5f56470e",
   "metadata": {},
   "outputs": [
    {
     "data": {
      "text/plain": [
       "(49, 6.125)"
      ]
     },
     "execution_count": 24,
     "metadata": {},
     "output_type": "execute_result"
    }
   ],
   "source": [
    "dni = [4,9,5,5,9,4,9,4]\n",
    "S = sum(dni)\n",
    "M = S / 8\n",
    "\n",
    "S, M"
   ]
  },
  {
   "cell_type": "code",
   "execution_count": 25,
   "id": "b39260d0",
   "metadata": {},
   "outputs": [],
   "source": [
    "def f(x):\n",
    "    ''' función x**3+49*x+6.125'''\n",
    "    return x**3+49*x+6.125"
   ]
  },
  {
   "cell_type": "code",
   "execution_count": 26,
   "id": "a1e2fb55",
   "metadata": {},
   "outputs": [],
   "source": [
    "x = sp.Symbol(\"x\") # Variable simbólica x"
   ]
  },
  {
   "cell_type": "markdown",
   "id": "81f861b9",
   "metadata": {},
   "source": [
    "#### Apartado a)"
   ]
  },
  {
   "cell_type": "code",
   "execution_count": 27,
   "id": "9580080e",
   "metadata": {},
   "outputs": [
    {
     "data": {
      "image/png": "[encoded data removed]",
      "text/plain": [
       "<Figure size 432x288 with 1 Axes>"
      ]
     },
     "metadata": {
      "needs_background": "light"
     },
     "output_type": "display_data"
    },
    {
     "data": {
      "text/plain": [
       "<sympy.plotting.plot.Plot at 0x1ad57ed1a30>"
      ]
     },
     "execution_count": 27,
     "metadata": {},
     "output_type": "execute_result"
    }
   ],
   "source": [
    "sp.plot(f(x),xlim=(-5.,5.),ylim=(-20.,20.))"
   ]
  },
  {
   "cell_type": "markdown",
   "id": "385321d2",
   "metadata": {},
   "source": [
    "#### Apartado b)"
   ]
  },
  {
   "cell_type": "code",
   "execution_count": 28,
   "id": "f85cbb22",
   "metadata": {},
   "outputs": [
    {
     "data": {
      "image/png": "[encoded data removed]",
      "text/plain": [
       "<Figure size 432x288 with 1 Axes>"
      ]
     },
     "metadata": {
      "needs_background": "light"
     },
     "output_type": "display_data"
    },
    {
     "data": {
      "text/plain": [
       "<sympy.plotting.plot.Plot at 0x1ad58f3efa0>"
      ]
     },
     "execution_count": 28,
     "metadata": {},
     "output_type": "execute_result"
    }
   ],
   "source": [
    "sp.plot(f(x),xlim=(-1.,0.),ylim=(-20.,20.))"
   ]
  },
  {
   "cell_type": "markdown",
   "id": "3ff52177",
   "metadata": {},
   "source": [
    "Vemos que la única raíz real de $f(x)$ está entre -0.2 y 0."
   ]
  },
  {
   "cell_type": "markdown",
   "id": "272f9e21",
   "metadata": {},
   "source": [
    "#### Apartado c)"
   ]
  },
  {
   "cell_type": "code",
   "execution_count": 29,
   "id": "debda52e",
   "metadata": {},
   "outputs": [],
   "source": [
    "def IteracionesNecesarias(a,b,tolerancia):\n",
    "    return np.ceil( np.log( (b-a)/tolerancia )/np.log(2)-1)"
   ]
  },
  {
   "cell_type": "code",
   "execution_count": 30,
   "id": "d82ac57d",
   "metadata": {},
   "outputs": [],
   "source": [
    "a = -1\n",
    "b = 0\n",
    "tol = 10**(-1)"
   ]
  },
  {
   "cell_type": "code",
   "execution_count": 31,
   "id": "3c21c409",
   "metadata": {},
   "outputs": [
    {
     "data": {
      "text/plain": [
       "3.0"
      ]
     },
     "execution_count": 31,
     "metadata": {},
     "output_type": "execute_result"
    }
   ],
   "source": [
    "IteracionesNecesarias(a,b,tol)"
   ]
  },
  {
   "cell_type": "markdown",
   "id": "1980b9b1",
   "metadata": {},
   "source": [
    "Por tanto, aplicando el método de bisección, vemos que harían falta 3 iteraciones.\n",
    "\n",
    "Comprobémoslo, definiendo dicho método y aplicándoselo a la función."
   ]
  },
  {
   "cell_type": "code",
   "execution_count": 32,
   "id": "bc796810",
   "metadata": {},
   "outputs": [],
   "source": [
    "def biseccion(a,b,tol,prec,nmax):\n",
    "    niter = 0; sale = ''\n",
    "    for k in range(nmax):\n",
    "        c = a + (b-a)/2 # equivalente a c = (a+b)/2\n",
    "        if abs(f(c)) < prec:\n",
    "            sale = 'precision'\n",
    "            break\n",
    "        if sign(f(a)) != sign(f(c)):\n",
    "            b = c\n",
    "        else:\n",
    "            a = c\n",
    "        if b-a < tol:\n",
    "            sale = 'tolerancia'\n",
    "            break\n",
    "        niter = niter + 1;\n",
    "\n",
    "\n",
    "    if sale == 'precision':\n",
    "        print('Posiblemente solución exacta: ',c)\n",
    "    elif niter < nmax:\n",
    "        print('Aproximación solicitada: ',c)\n",
    "    else:\n",
    "        print('Se llegó al número máximo de iteraciones')\n",
    "    print('Número total de iteraciones ', niter)"
   ]
  },
  {
   "cell_type": "code",
   "execution_count": 33,
   "id": "f4604689",
   "metadata": {},
   "outputs": [],
   "source": [
    "nmax = 100       # Número máximo de iteraciones\n",
    "prec = 10**(-16) # Precisión\n",
    "tol = 10**(-1)   # Tolerancia"
   ]
  },
  {
   "cell_type": "code",
   "execution_count": 34,
   "id": "8f1c516b",
   "metadata": {},
   "outputs": [
    {
     "name": "stdout",
     "output_type": "stream",
     "text": [
      "Aproximación solicitada:  -0.0625\n",
      "Número total de iteraciones  3\n"
     ]
    }
   ],
   "source": [
    "biseccion(a,b,tol,prec,nmax)"
   ]
  },
  {
   "cell_type": "markdown",
   "id": "1deb0119",
   "metadata": {},
   "source": [
    "Vemos que hemos obtenido la aproximación de la raíz real de $f(x)$ con la tolerancia pedida en el número de iteraciones que calculamos previamente."
   ]
  },
  {
   "cell_type": "markdown",
   "id": "ee635b24",
   "metadata": {},
   "source": [
    "#### Apartado d)"
   ]
  },
  {
   "cell_type": "code",
   "execution_count": 35,
   "id": "a27ea312",
   "metadata": {},
   "outputs": [],
   "source": [
    "def df(x):\n",
    "    ''' función 3*x**2+49'''\n",
    "    return 3*x**2+49"
   ]
  },
  {
   "cell_type": "code",
   "execution_count": 36,
   "id": "b0f336f7",
   "metadata": {},
   "outputs": [],
   "source": [
    "def NewtonRaphson(a,niter):\n",
    "    x0 = a; \n",
    "    listaNR = [x0];\n",
    "    for k in range(niter):\n",
    "        x1 = x0 - f(x0)/df(x0); \n",
    "        x0 = x1;\n",
    "        listaNR.append(x1)\n",
    "        \n",
    "    return listaNR;"
   ]
  },
  {
   "cell_type": "code",
   "execution_count": 37,
   "id": "f25cb2eb",
   "metadata": {},
   "outputs": [],
   "source": [
    "a = -0.0625; # Usamos como semilla la solución aproximada dada por el método de bisección\n",
    "niter = 10;\n",
    "\n",
    "listaNR = NewtonRaphson(a,niter)"
   ]
  },
  {
   "cell_type": "code",
   "execution_count": 38,
   "id": "5bf8d4d0",
   "metadata": {},
   "outputs": [
    {
     "name": "stdout",
     "output_type": "stream",
     "text": [
      "[-0.0625, -0.12498007491830716, -0.12496017839166763, -0.12496017838864153, -0.12496017838864154, -0.12496017838864154, -0.12496017838864154, -0.12496017838864154, -0.12496017838864154, -0.12496017838864154, -0.12496017838864154]\n"
     ]
    }
   ],
   "source": [
    "print(listaNR)"
   ]
  },
  {
   "cell_type": "markdown",
   "id": "aad5b2aa",
   "metadata": {},
   "source": [
    "#### Apartado e)"
   ]
  },
  {
   "cell_type": "code",
   "execution_count": 39,
   "id": "c3f80cae",
   "metadata": {},
   "outputs": [],
   "source": [
    "solucion_biseccion = -0.0625\n",
    "solucion_NR = listaNR[-1]\n",
    "\n",
    "coefs = [1,0,49,6.125]\n",
    "solucion_exacta = np.roots(coefs)"
   ]
  },
  {
   "cell_type": "code",
   "execution_count": 40,
   "id": "8133b5ca",
   "metadata": {},
   "outputs": [
    {
     "data": {
      "text/plain": [
       "-0.0625"
      ]
     },
     "execution_count": 40,
     "metadata": {},
     "output_type": "execute_result"
    }
   ],
   "source": [
    "solucion_biseccion"
   ]
  },
  {
   "cell_type": "code",
   "execution_count": 41,
   "id": "cd6e9a95",
   "metadata": {},
   "outputs": [
    {
     "data": {
      "text/plain": [
       "-0.12496017838864154"
      ]
     },
     "execution_count": 41,
     "metadata": {},
     "output_type": "execute_result"
    }
   ],
   "source": [
    "solucion_NR"
   ]
  },
  {
   "cell_type": "code",
   "execution_count": 42,
   "id": "3b592567",
   "metadata": {},
   "outputs": [
    {
     "data": {
      "text/plain": [
       "array([ 0.06248009+7.00083647j,  0.06248009-7.00083647j,\n",
       "       -0.12496018+0.j        ])"
      ]
     },
     "execution_count": 42,
     "metadata": {},
     "output_type": "execute_result"
    }
   ],
   "source": [
    "solucion_exacta"
   ]
  },
  {
   "cell_type": "markdown",
   "id": "15ffaa25",
   "metadata": {},
   "source": [
    "Vemos que realmente esta ecuación tiene 3 soluciones, dos complejas y una real. Como hemos calculado la solución real aproximada con bisección y Newton-Raphson, consideramos solo la solución exacta real, es decir, -0.12496018."
   ]
  },
  {
   "cell_type": "code",
   "execution_count": 43,
   "id": "651ce3c3",
   "metadata": {},
   "outputs": [],
   "source": [
    "solucion_exacta_real = -0.12496018"
   ]
  },
  {
   "cell_type": "code",
   "execution_count": 44,
   "id": "37a6fc42",
   "metadata": {},
   "outputs": [
    {
     "name": "stdout",
     "output_type": "stream",
     "text": [
      "Error cometido en bisección:  0.062460180000000004\n",
      "Error cometido en Newton-Raphson:  1.6113584633270506e-09\n"
     ]
    }
   ],
   "source": [
    "print('Error cometido en bisección: ', abs(solucion_exacta_real - solucion_biseccion))\n",
    "print('Error cometido en Newton-Raphson: ', abs(solucion_exacta_real - solucion_NR))"
   ]
  },
  {
   "cell_type": "markdown",
   "id": "cd99c2a4",
   "metadata": {},
   "source": [
    "Observamos que el error cometido con Newton-Raphson con respecto a la solución real exacta, es mucho menor en comparación con el error cometido con el método de bisección"
   ]
  }
 ],
 "metadata": {
  "kernelspec": {
   "display_name": "Python 3 (ipykernel)",
   "language": "python",
   "name": "python3"
  },
  "language_info": {
   "codemirror_mode": {
    "name": "ipython",
    "version": 3
   },
   "file_extension": ".py",
   "mimetype": "text/x-python",
   "name": "python",
   "nbconvert_exporter": "python",
   "pygments_lexer": "ipython3",
   "version": "3.9.7"
  }
 },
 "nbformat": 4,
 "nbformat_minor": 5
}
