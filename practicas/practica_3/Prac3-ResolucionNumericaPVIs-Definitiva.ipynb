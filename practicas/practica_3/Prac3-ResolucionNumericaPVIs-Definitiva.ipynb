{
 "cells": [
  {
   "cell_type": "markdown",
   "metadata": {},
   "source": [
    "# Práctica 3: Resolución Numérica  de PVIs  usando Python"
   ]
  },
  {
   "cell_type": "markdown",
   "metadata": {},
   "source": [
    "Autor: Pedro González Rodelas\n",
    "\n",
    "Fecha de la primera versión: 01/05/2020\n",
    "\n",
    "Sucesivas revisiones: 02-08 y 11/05/2020\n",
    "\n",
    "Fecha de la última revisión: 02/06/2021"
   ]
  },
  {
   "cell_type": "markdown",
   "metadata": {},
   "source": [
    "En esta práctica se programan en lenguaje Python diferentes métodos numéricos de resolución aproximada de Problemas de Valores Iniciales asociados a Ecuaciones Diferenciales Ordinarias (EDOs) y sistemas de primer orden, provenientes muchos de ellos de problemas y aplicaciones interesantes de Física e Ingeniería.\n",
    "\n",
    "Algunos de los ejemplos y algoritmos usados en este notebook han sido extraidos, adaptados o traducidos por Pedro González Rodelas de alguno de los siguientes libros y/o apuntes:\n",
    "\n",
    "\n",
    "- \"Análisis Numérico con Mathematica\" de V. Ramírez, D. Barrera, M. Pasadas y P. González. Edit. Ariel Ciencia (2001) con ISBN: 84-344-8036-0. Dep. Legal: B.31.425-2001.\n",
    "\n",
    "- Apuntes de la asignatura de Métodos Numéricos II del Grado de Matemáticas y Dobles Grados de Matemáticas e Informática o Física de la UGR, de los profesores José Martínez Aroza y Victoriano Ramírez González.\n",
    "\n",
    "- Notebook perteneciente al Capítulo 9 del libro [Numerical Python - A Practical Techniques Approach for Industry](http://www.apress.com/9781484205549) (ISBN 978-1-484205-54-9) de Robert Johansson.\n",
    "\n",
    "- Capítulo 7 del libro [Numerical Methods in Engineering with Python 3](https://www.cambridge.org/core/books/numerical-methods-in-engineering-with-python-3/95151C37C2F427F30DC90FA619FE79F9) de Jaan Kiusalaas."
   ]
  },
  {
   "cell_type": "code",
   "execution_count": 5,
   "metadata": {},
   "outputs": [
    {
     "data": {
      "application/json": {
       "Software versions": [
        {
         "module": "Python",
         "version": "3.9.7 64bit [MSC v.1916 64 bit (AMD64)]"
        },
        {
         "module": "IPython",
         "version": "7.31.1"
        },
        {
         "module": "OS",
         "version": "Windows 10 10.0.19043 SP0"
        },
        {
         "module": "numpy",
         "version": "1.20.3"
        },
        {
         "module": "matplotlib",
         "version": "3.5.1"
        },
        {
         "module": "sympy",
         "version": "1.9"
        },
        {
         "module": "scipy",
         "version": "1.7.3"
        }
       ]
      },
      "text/html": [
       "<table><tr><th>Software</th><th>Version</th></tr><tr><td>Python</td><td>3.9.7 64bit [MSC v.1916 64 bit (AMD64)]</td></tr><tr><td>IPython</td><td>7.31.1</td></tr><tr><td>OS</td><td>Windows 10 10.0.19043 SP0</td></tr><tr><td>numpy</td><td>1.20.3</td></tr><tr><td>matplotlib</td><td>3.5.1</td></tr><tr><td>sympy</td><td>1.9</td></tr><tr><td>scipy</td><td>1.7.3</td></tr><tr><td colspan='2'>Fri Jun 03 15:02:52 2022 Hora de verano romance</td></tr></table>"
      ],
      "text/latex": [
       "\\begin{tabular}{|l|l|}\\hline\n",
       "{\\bf Software} & {\\bf Version} \\\\ \\hline\\hline\n",
       "Python & 3.9.7 64bit [MSC v.1916 64 bit (AMD64)] \\\\ \\hline\n",
       "IPython & 7.31.1 \\\\ \\hline\n",
       "OS & Windows 10 10.0.19043 SP0 \\\\ \\hline\n",
       "numpy & 1.20.3 \\\\ \\hline\n",
       "matplotlib & 3.5.1 \\\\ \\hline\n",
       "sympy & 1.9 \\\\ \\hline\n",
       "scipy & 1.7.3 \\\\ \\hline\n",
       "\\hline \\multicolumn{2}{|l|}{Fri Jun 03 15:02:52 2022 Hora de verano romance} \\\\ \\hline\n",
       "\\end{tabular}\n"
      ],
      "text/plain": [
       "Software versions\n",
       "Python 3.9.7 64bit [MSC v.1916 64 bit (AMD64)]\n",
       "IPython 7.31.1\n",
       "OS Windows 10 10.0.19043 SP0\n",
       "numpy 1.20.3\n",
       "matplotlib 3.5.1\n",
       "sympy 1.9\n",
       "scipy 1.7.3\n",
       "Fri Jun 03 15:02:52 2022 Hora de verano romance"
      ]
     },
     "execution_count": 5,
     "metadata": {},
     "output_type": "execute_result"
    }
   ],
   "source": [
    "# Cargando el fichero version_information.py\n",
    "# alojado el directorio de trabajo actual\n",
    "# podremos comprobar las versiones concretas\n",
    "# tanto del intérprete de Python, como de los\n",
    "# módulos que tenemos instalados en nuestro ordenador.\n",
    "\n",
    "%reload_ext version_information\n",
    "\n",
    "%version_information numpy, matplotlib, sympy, scipy"
   ]
  },
  {
   "cell_type": "markdown",
   "metadata": {},
   "source": [
    "## Resolviendo EDOs simbolicamente con SymPy"
   ]
  },
  {
   "cell_type": "markdown",
   "metadata": {},
   "source": [
    "Como es bien sabido, una ecuación diferencial ordinaria (EDO), no es más que una relación existente entre algunas derivadas de función incógnita $y(t)$, suponiendo que resulta ser suficientemente derivable, a partir de la función $f\\equiv f(t,z)$ que determina la EDO que satisface. \n",
    "\n",
    "En el caso de una EDO de primer orden esta relación se podría escribir de la siguiente manera genérica: $$y'(t)=f(t,y(t)),\\; t\\in[a,b]$$\n",
    "con $f:[a,b]\\times\\mathbb{R}\\to \\mathbb{R}$ también suficientemente regular, o al menos continua en $(t,z)$ y Lipschitziana en $z$, para asegurar existencia y unicidad de solución del correspondiente Problema de Valores Iniciales (PVI), para cierta condición inicial $y(a) = y_a\\equiv\\mu\\in\\mathbb{R}$ determinada de antemano:\n",
    "\n",
    "$$\\begin{array}{c l} y'(t)=f(t,y(t)),& t\\in[a,b]\\\\ y(a) = y_a\\equiv\\mu  &  \\end{array}$$\n",
    "\n",
    "aunque también suele ser habitual el empleo de la siguiente notación\n",
    "\n",
    "$$\\begin{array}{c l} x'(t)=f(t,x(t)),& t\\in[a,b]\\\\ x(a) = x_0\\equiv\\mu  &  \\end{array}$$\n",
    "\n",
    "o usar $x$ como variable independiente e $y$ como variable dependiente, etc. \n",
    "\n",
    "Así pues, con el objeto de normalizar la notación y que valga para cualquier caso, hemos optado por usar una notación genérica que valga para cualquier EDO, independientemente de la notación empleada para la misma."
   ]
  },
  {
   "cell_type": "code",
   "execution_count": 6,
   "metadata": {},
   "outputs": [],
   "source": [
    "import sympy as sp\n",
    "# sp.init_printing()"
   ]
  },
  {
   "cell_type": "code",
   "execution_count": 7,
   "metadata": {},
   "outputs": [],
   "source": [
    "t, y0, z = sp.symbols('t, y_0,  z')\n",
    "def f(t,z):\n",
    "    return z"
   ]
  },
  {
   "cell_type": "code",
   "execution_count": 8,
   "metadata": {},
   "outputs": [],
   "source": [
    "a = 0; b = 1;   # extremos inferior y superior del intervalo \n",
    "ya = 1          # condición inicial del PVI\n",
    "N = 10 #Como h=0.1, tomamos N=10 puesto que h=(b-a)/N"
   ]
  },
  {
   "cell_type": "code",
   "execution_count": 9,
   "metadata": {},
   "outputs": [
    {
     "data": {
      "text/latex": [
       "$\\displaystyle - y{\\left(t \\right)} + \\frac{d}{d t} y{\\left(t \\right)} = 0$"
      ],
      "text/plain": [
       "Eq(-y(t) + Derivative(y(t), t), 0)"
      ]
     },
     "execution_count": 9,
     "metadata": {},
     "output_type": "execute_result"
    }
   ],
   "source": [
    "# Vamos a empezar definiendo la Ec. Dif. Ordinaria (edo) a resolver\n",
    "y = sp.Function('y')\n",
    "edo = y(t).diff(t)-f(t,y(t))\n",
    "sp.Eq(edo,0)"
   ]
  },
  {
   "cell_type": "code",
   "execution_count": 10,
   "metadata": {},
   "outputs": [
    {
     "data": {
      "text/latex": [
       "$\\displaystyle y{\\left(t \\right)} = C_{1} e^{t}$"
      ],
      "text/plain": [
       "Eq(y(t), C1*exp(t))"
      ]
     },
     "execution_count": 10,
     "metadata": {},
     "output_type": "execute_result"
    }
   ],
   "source": [
    "# y la resolvemos simbólicamente mediante la orden dsolve de SymPy\n",
    "edo_sol = sp.dsolve(edo)\n",
    "edo_sol"
   ]
  },
  {
   "cell_type": "code",
   "execution_count": 11,
   "metadata": {},
   "outputs": [
    {
     "data": {
      "text/latex": [
       "$\\displaystyle y{\\left(t \\right)}$"
      ],
      "text/plain": [
       "y(t)"
      ]
     },
     "execution_count": 11,
     "metadata": {},
     "output_type": "execute_result"
    }
   ],
   "source": [
    "# De esta solución simbólica obtenida también podremos extraer, tanto\n",
    "edo_sol.lhs  #  el término de la izquierda (mediante .lhs)"
   ]
  },
  {
   "cell_type": "code",
   "execution_count": 12,
   "metadata": {},
   "outputs": [
    {
     "data": {
      "text/latex": [
       "$\\displaystyle C_{1} e^{t}$"
      ],
      "text/plain": [
       "C1*exp(t)"
      ]
     },
     "execution_count": 12,
     "metadata": {},
     "output_type": "execute_result"
    }
   ],
   "source": [
    "edo_sol.rhs  #  como el término de la derecha (mediante .rhs)"
   ]
  },
  {
   "cell_type": "code",
   "execution_count": 13,
   "metadata": {},
   "outputs": [
    {
     "data": {
      "text/plain": [
       "{y(0): y_0}"
      ]
     },
     "execution_count": 13,
     "metadata": {},
     "output_type": "execute_result"
    }
   ],
   "source": [
    "# Veámos ahora cómo imponer las condiciones iniciales a través\n",
    "ics = {y(0): y0}  #  de una entrada de diccionario\n",
    "ics"
   ]
  },
  {
   "cell_type": "code",
   "execution_count": 14,
   "metadata": {},
   "outputs": [
    {
     "data": {
      "text/plain": [
       "(C1, y_0)"
      ]
     },
     "execution_count": 14,
     "metadata": {},
     "output_type": "execute_result"
    }
   ],
   "source": [
    "# De esta manera haríamos la sustituciones correspondientes\n",
    "edo_sol.rhs.subs(t, 0),edo_sol.lhs.subs(t, 0).subs(ics)"
   ]
  },
  {
   "cell_type": "code",
   "execution_count": 15,
   "metadata": {},
   "outputs": [
    {
     "data": {
      "text/latex": [
       "$\\displaystyle y_{0} = C_{1}$"
      ],
      "text/plain": [
       "Eq(y_0, C1)"
      ]
     },
     "execution_count": 15,
     "metadata": {},
     "output_type": "execute_result"
    }
   ],
   "source": [
    "CI_eq = sp.Eq(edo_sol.lhs.subs(t, 0).subs(ics),edo_sol.rhs.subs(t, 0))\n",
    "CI_eq   # esta sería finalmente la ecuación asociada \n",
    "# a la imposición de la condición inicial del PVI"
   ]
  },
  {
   "cell_type": "code",
   "execution_count": 16,
   "metadata": {},
   "outputs": [
    {
     "data": {
      "text/plain": [
       "{C1: y_0}"
      ]
     },
     "execution_count": 16,
     "metadata": {},
     "output_type": "execute_result"
    }
   ],
   "source": [
    "CI_sol = sp.solve(CI_eq) # que resolvemos mediante la orden solve\n",
    "CI_sol[0]                # y extraemos la única solución de ésta"
   ]
  },
  {
   "cell_type": "code",
   "execution_count": 17,
   "metadata": {},
   "outputs": [
    {
     "data": {
      "text/latex": [
       "$\\displaystyle y{\\left(t \\right)} = C_{1} e^{t}$"
      ],
      "text/plain": [
       "Eq(y(t), C1*exp(t))"
      ]
     },
     "execution_count": 17,
     "metadata": {},
     "output_type": "execute_result"
    }
   ],
   "source": [
    "edo_sol   # Usaremos finalmente la solución analítica general"
   ]
  },
  {
   "cell_type": "code",
   "execution_count": 18,
   "metadata": {},
   "outputs": [
    {
     "data": {
      "text/latex": [
       "$\\displaystyle y{\\left(t \\right)} = y_{0} e^{t}$"
      ],
      "text/plain": [
       "Eq(y(t), y_0*exp(t))"
      ]
     },
     "execution_count": 18,
     "metadata": {},
     "output_type": "execute_result"
    }
   ],
   "source": [
    "# así como la obtención de las constantes de integración\n",
    "edo_sol.subs(CI_sol[0]) # en función de las condiciones iniciales"
   ]
  },
  {
   "cell_type": "code",
   "execution_count": 19,
   "metadata": {},
   "outputs": [
    {
     "data": {
      "text/latex": [
       "$\\displaystyle e^{t}$"
      ],
      "text/plain": [
       "exp(t)"
      ]
     },
     "execution_count": 19,
     "metadata": {},
     "output_type": "execute_result"
    }
   ],
   "source": [
    "# para obtener la única solución exacta de nuestro PVI \n",
    "sol_exacta = edo_sol.rhs.subs(CI_sol[0]).subs({y0:ya})\n",
    "sol_exacta"
   ]
  },
  {
   "cell_type": "markdown",
   "metadata": {},
   "source": [
    "### Función genérica para aplicar las condiciones  iniciales de un PVI"
   ]
  },
  {
   "cell_type": "markdown",
   "metadata": {},
   "source": [
    "Podríamos implementar ahora de una manera sistemática esta técnica de obtención simbólica de la solución analítica de un PVI, aprovechando al máximo la potencia y flexibilidad que nos aporta el lenguaje Python, así como su módulo de cálculo simbólico por excelencia SymPy."
   ]
  },
  {
   "cell_type": "code",
   "execution_count": 20,
   "metadata": {},
   "outputs": [],
   "source": [
    "def apply_ics(sol, ics, x, known_params):\n",
    "    \"\"\"\n",
    "    Applicamos las condiciones iniciales (CIs), dadas como un diccionario\n",
    "    de la forma ics = {y(0): y0: y(x).diff(x).subs(x, 0): yp0, ...}\n",
    "    a la solución de la EDO con en la variable independiente x.\n",
    "    Las constantes de integración indeterminadas C1, C2, ... serán extraidas\n",
    "    a partir de los símbolos libres de la solución de la EDO, excluyendo \n",
    "    aquellos de la lista de parametros conocidos 'known_params'.\n",
    "    \"\"\"\n",
    "    free_params = sol.free_symbols - set(known_params)\n",
    "    eqs = [(sol.lhs.diff(x, n) - sol.rhs.diff(x, n)).subs(x, 0).subs(ics)\n",
    "           for n in range(len(ics))]\n",
    "    sol_params = sympy.solve(eqs, free_params)\n",
    "    return sol.subs(sol_params)"
   ]
  },
  {
   "cell_type": "markdown",
   "metadata": {},
   "source": [
    "## Importación del módulo NumPy"
   ]
  },
  {
   "cell_type": "markdown",
   "metadata": {},
   "source": [
    "La importación de este módulo será completamente imprescindible en casi todas las implementaciones desarrolladas a lo largo de esta práctica, al ser el módulo de Python fundamental para cualquier empleo eficiente de métodos numéricos en este lenguaje de programación; pero también resultará útil para la obtención de los arrays de abcisas y ordenadas de cualquier gráfico obtenido al estilo de MATLAB u Octave."
   ]
  },
  {
   "cell_type": "code",
   "execution_count": 21,
   "metadata": {},
   "outputs": [],
   "source": [
    "# Como es habitual realizaremos la importación con el pseudónimo np\n",
    "import numpy as np  "
   ]
  },
  {
   "cell_type": "markdown",
   "metadata": {},
   "source": [
    "## Representación gráfica de las soluciones"
   ]
  },
  {
   "cell_type": "code",
   "execution_count": 22,
   "metadata": {},
   "outputs": [],
   "source": [
    "# Configuramos e importamos el submódulo Pyplot de Matplotlib\n",
    "%matplotlib inline\n",
    "#%config InlineBackend.figure_format='retina'\n",
    "import matplotlib.pyplot as plt\n",
    "#import matplotlib as mpl\n",
    "#mpl.rcParams['text.usetex'] = True"
   ]
  },
  {
   "cell_type": "code",
   "execution_count": 23,
   "metadata": {},
   "outputs": [
    {
     "data": {
      "text/latex": [
       "$\\displaystyle e^{t}$"
      ],
      "text/plain": [
       "exp(t)"
      ]
     },
     "execution_count": 23,
     "metadata": {},
     "output_type": "execute_result"
    }
   ],
   "source": [
    "sol_exacta # recordamos cuál era la solución exacta de nuestro PVI"
   ]
  },
  {
   "cell_type": "code",
   "execution_count": 24,
   "metadata": {},
   "outputs": [
    {
     "data": {
      "text/latex": [
       "$\\displaystyle 2.71828182845905$"
      ],
      "text/plain": [
       "2.71828182845905"
      ]
     },
     "execution_count": 24,
     "metadata": {},
     "output_type": "execute_result"
    }
   ],
   "source": [
    "# para poder evaluarla en el valor de la variable independiente \n",
    "sol_exacta.subs({t:1}).evalf()  # t que queramos"
   ]
  },
  {
   "cell_type": "code",
   "execution_count": 25,
   "metadata": {},
   "outputs": [
    {
     "name": "stdout",
     "output_type": "stream",
     "text": [
      "exp(t)\n"
     ]
    }
   ],
   "source": [
    "print(sol_exacta)  # esta es la expresión que podríamos pegar donde queramos"
   ]
  },
  {
   "cell_type": "code",
   "execution_count": 26,
   "metadata": {},
   "outputs": [
    {
     "data": {
      "text/plain": [
       "(0, 1)"
      ]
     },
     "execution_count": 26,
     "metadata": {},
     "output_type": "execute_result"
    }
   ],
   "source": [
    "a,b    # el intervalo de trabajo"
   ]
  },
  {
   "cell_type": "code",
   "execution_count": 27,
   "metadata": {},
   "outputs": [],
   "source": [
    "m = sol_exacta.subs({t:a})  # valores de referencia a la izqda.\n",
    "M = sol_exacta.subs({t:b})  # y derecha del intervalo"
   ]
  },
  {
   "cell_type": "code",
   "execution_count": 28,
   "metadata": {},
   "outputs": [],
   "source": [
    "# para representar gráficamente expresiones simbólicas\n",
    "sp.plot?"
   ]
  },
  {
   "cell_type": "code",
   "execution_count": 29,
   "metadata": {},
   "outputs": [
    {
     "data": {
      "image/png": "[encoded data removed]",
      "text/plain": [
       "<Figure size 432x288 with 1 Axes>"
      ]
     },
     "metadata": {
      "needs_background": "light"
     },
     "output_type": "display_data"
    }
   ],
   "source": [
    "graf_sympy = sp.plot(sol_exacta, xlim =(a,b), ylim = (0,M));"
   ]
  },
  {
   "cell_type": "code",
   "execution_count": 30,
   "metadata": {},
   "outputs": [],
   "source": [
    "# en caso de que queramos extender este gráfico simbólico con otro \n",
    "# graf_sympy.append(sp.plot(t,(t,a,b),show=False)[0])\n",
    "# graf_sympy.show()"
   ]
  },
  {
   "cell_type": "markdown",
   "metadata": {},
   "source": [
    "Aunque siempre tendremos la posibilidad de hacerlo de la manera tradicional habitual en MATLAB u Octave, pero esto requeriría reconvertir previamente esta solución analítica, dada simbólicamente, en una función numérica, evaluable de manera vectorial en arrays de valores, como por ejemplo las abcisas de la variable independiente en los que queramos obtener sus correspondientes ordenadas."
   ]
  },
  {
   "cell_type": "code",
   "execution_count": 31,
   "metadata": {},
   "outputs": [],
   "source": [
    "# Esta sería la herramienta adecuada para realizar dicha conversión\n",
    "y_x = sp.lambdify(t, sol_exacta, 'numpy')"
   ]
  },
  {
   "cell_type": "code",
   "execution_count": 32,
   "metadata": {},
   "outputs": [],
   "source": [
    "xx = np.linspace(a, b, 100) # así obtendríamos el array de abcisas"
   ]
  },
  {
   "cell_type": "code",
   "execution_count": 33,
   "metadata": {},
   "outputs": [
    {
     "data": {
      "text/plain": [
       "array([1.        , 1.0101522 , 1.02040746, 1.03076684, 1.04123139,\n",
       "       1.05180218, 1.06248028, 1.07326679, 1.0841628 , 1.09516944,\n",
       "       1.10628782, 1.11751907, 1.12886434, 1.1403248 , 1.1519016 ,\n",
       "       1.16359593, 1.17540899, 1.18734197, 1.1993961 , 1.21157261,\n",
       "       1.22387273, 1.23629773, 1.24884887, 1.26152743, 1.2743347 ,\n",
       "       1.287272  , 1.30034064, 1.31354196, 1.32687729, 1.34034801,\n",
       "       1.35395549, 1.36770112, 1.38158629, 1.39561243, 1.40978096,\n",
       "       1.42409333, 1.43855101, 1.45315546, 1.46790818, 1.48281068,\n",
       "       1.49786447, 1.51307108, 1.52843208, 1.54394902, 1.5596235 ,\n",
       "       1.5754571 , 1.59145146, 1.60760818, 1.62392894, 1.64041539,\n",
       "       1.65706921, 1.6738921 , 1.69088579, 1.70805199, 1.72539247,\n",
       "       1.742909  , 1.76060336, 1.77847735, 1.7965328 , 1.81477156,\n",
       "       1.83319548, 1.85180644, 1.87060634, 1.88959711, 1.90878067,\n",
       "       1.92815899, 1.94773404, 1.96750782, 1.98748235, 2.00765966,\n",
       "       2.02804182, 2.0486309 , 2.06942901, 2.09043826, 2.1116608 ,\n",
       "       2.1330988 , 2.15475444, 2.17662993, 2.19872751, 2.22104942,\n",
       "       2.24359796, 2.26637541, 2.2893841 , 2.31262638, 2.33610462,\n",
       "       2.35982121, 2.38377858, 2.40797917, 2.43242545, 2.45711992,\n",
       "       2.48206508, 2.5072635 , 2.53271773, 2.55843038, 2.58440408,\n",
       "       2.61064146, 2.6371452 , 2.66391802, 2.69096264, 2.71828183])"
      ]
     },
     "execution_count": 33,
     "metadata": {},
     "output_type": "execute_result"
    }
   ],
   "source": [
    "y_x(xx)   # y así el correspondiente array de ordenadas"
   ]
  },
  {
   "cell_type": "code",
   "execution_count": 34,
   "metadata": {},
   "outputs": [
    {
     "data": {
      "image/png": "[encoded data removed]",
      "text/plain": [
       "<Figure size 432x432 with 1 Axes>"
      ]
     },
     "metadata": {
      "needs_background": "light"
     },
     "output_type": "display_data"
    }
   ],
   "source": [
    "# y ya estaría todo preparado para poder realizar la correspondiente\n",
    "fig, ax = plt.subplots(figsize=(6, 6))  # figura de Matplotlib\n",
    "xx = np.linspace(a, b, 100)\n",
    "ax.plot(xx, y_x(xx), label=\"sol. exacta\")\n",
    "ax.set_title(r\"$%s$\" % sp.latex(sol_exacta), fontsize=18)\n",
    "ax.set_xlabel(r\"$t$\", fontsize=18)\n",
    "ax.set_ylabel(r\"$y$\", fontsize=18)\n",
    "ax.legend()\n",
    "\n",
    "fig.tight_layout()"
   ]
  },
  {
   "cell_type": "code",
   "execution_count": 35,
   "metadata": {},
   "outputs": [],
   "source": [
    "graf_exacta = fig  # de esta manera podremos volver a generar esta figura\n",
    "# cuando lo necesitemos, por ejemplo para compararla con las aproximaciones"
   ]
  },
  {
   "cell_type": "markdown",
   "metadata": {},
   "source": [
    "## Módulo de impresión de resultados numéricos"
   ]
  },
  {
   "cell_type": "markdown",
   "metadata": {},
   "source": [
    "Como posteriormente vamos a necesitar imprimir y/o mostrar los resultados obtenidos mediante la aplicación de diferentes métodos numéricos, hemos optado por definir una herramienta común que grabaremos en un fichero .py, que usaremos a modo de módulo particular, que nos permitirá usarlo repetidamente de una manera sistemática, y no tener que volver a repetir esta porción de código cada vez que lo necesitemos a lo largo de la práctica."
   ]
  },
  {
   "cell_type": "code",
   "execution_count": 36,
   "metadata": {},
   "outputs": [
    {
     "data": {
      "text/plain": [
       "'C:\\\\Users\\\\juanm\\\\OneDrive\\\\Escritorio\\\\universidad\\\\metodos_numericos_II\\\\practica_3'"
      ]
     },
     "execution_count": 36,
     "metadata": {},
     "output_type": "execute_result"
    }
   ],
   "source": [
    "%pwd  # para saber en qué directorio estamos trabajando"
   ]
  },
  {
   "cell_type": "markdown",
   "metadata": {},
   "source": [
    "Vemos que con estos denominados comandos ``mágicos`` (precedidos de `%`) podemos interactuar con el sistema operativo en el que estemos ejecutando este notebook, para conocer en qué directorio nos encontramos, listar, borrar o crear nuevos archivos, cambiar de directorio, etc., como veremos a continuación.  "
   ]
  },
  {
   "cell_type": "code",
   "execution_count": 37,
   "metadata": {},
   "outputs": [
    {
     "name": "stdout",
     "output_type": "stream",
     "text": [
      "Overwriting printSoln.py\n"
     ]
    }
   ],
   "source": [
    "%%file printSoln.py\n",
    "## module printSoln\n",
    "''' imprimeSol(X,Y,freq).\n",
    "    Imprime los arrays X e Y devueltos por los códigos\n",
    "    de resolución de una ecuación diferencial concreta\n",
    "    usando una frecuencia de salida especificada, 'freq'.\n",
    "        freq = n imprime cada n pasos.\n",
    "        freq = 0 imprime sólo los valores inicial y final.\n",
    "'''\n",
    "def printSoln(X,Y,freq):\n",
    "\n",
    "    def printHead(n):\n",
    "        print(\"\\n        x  \",end=\" \")\n",
    "        for i in range (n):\n",
    "            print(\"      y[\",i,\"] \",end=\" \")\n",
    "        print()\n",
    "\n",
    "    def printLine(x,y,n):\n",
    "        print(\"{:13.4e}\".format(x),end=\" \")\n",
    "        for i in range (n):\n",
    "            print(\"{:13.4e}\".format(y[i]),end=\" \")\n",
    "        print()\n",
    "    \n",
    "    m = len(Y)\n",
    "    try: n = len(Y[0])\n",
    "    except TypeError: n = 1\n",
    "    if freq == 0: freq = m\n",
    "    printHead(n)\n",
    "    for i in range(0,m,freq):\n",
    "        printLine(X[i],Y[i],n)\n",
    "    if i != m - 1: printLine(X[m - 1],Y[m - 1],n)\n"
   ]
  },
  {
   "cell_type": "code",
   "execution_count": 38,
   "metadata": {},
   "outputs": [
    {
     "name": "stdout",
     "output_type": "stream",
     "text": [
      " El volumen de la unidad C es Windows\n",
      " El número de serie del volumen es: CE39-4640\n",
      "\n",
      " Directorio de C:\\Users\\juanm\\OneDrive\\Escritorio\\universidad\\metodos_numericos_II\\practica_3\n",
      "\n",
      "03/06/2022  15:02               886 AdamBashforth2.py\n",
      "17/02/2022  13:46             2.481 EjemploAplicacion.py\n",
      "17/02/2022  13:46             2.593 EjemploAplicacionEulerimplyptomedio.py\n",
      "17/02/2022  13:46               668 euler.py\n",
      "30/05/2022  14:23               668 eulerexplicito.py\n",
      "30/05/2022  14:50               461 eulerexplrapido.py\n",
      "30/05/2022  14:23               841 eulerimplicito.py\n",
      "30/05/2022  14:23               820 eulerimplicitoaprox.py\n",
      "03/06/2022  15:02               918 printSoln.py\n",
      "17/02/2022  13:46               697 ptomedio.py\n",
      "30/05/2022  15:07               971 RK4.py\n",
      "30/05/2022  14:55               959 Taylor2.py\n",
      "17/02/2022  13:46             6.033 version_information.py\n",
      "              13 archivos         18.996 bytes\n",
      "               0 dirs  74.627.649.536 bytes libres\n"
     ]
    }
   ],
   "source": [
    "# comprobamos a continuación que efectivamente se ha creado dicho archivo\n",
    "%ls *.py"
   ]
  },
  {
   "cell_type": "markdown",
   "metadata": {},
   "source": [
    "\n",
    "\n",
    "# Métodos de Euler"
   ]
  },
  {
   "cell_type": "code",
   "execution_count": 39,
   "metadata": {},
   "outputs": [
    {
     "name": "stdout",
     "output_type": "stream",
     "text": [
      "Overwriting eulerexplicito.py\n"
     ]
    }
   ],
   "source": [
    "%%file   eulerexplicito.py\n",
    "## módulo euler\n",
    "''' método de Euler para resolver el PVI\n",
    "    X,Y     = integrate(F,x0,y0,xfinal,N).\n",
    "    {y}'    = {F(x,{y})}, donde\n",
    "    {y}     = {y[0],y[1],...y[N-1]}.\n",
    "    x0,y0   = condiciones iniciales \n",
    "    xfinal  = valor final de la variable x\n",
    "    h       = incremento de x usado para la integración\n",
    "    F       = función suplida por el usuario que devuelve \n",
    "            el array F(x,y) = {y'[0],y'[1],...,y'[N-1]}.\n",
    "'''\n",
    "import numpy as np\n",
    "def integrate(F,x0,y0,xfinal,N):    \n",
    "    X = np.linspace(x0,xfinal,N+1)\n",
    "    Y = [y0]; h = (xfinal-x0)/N\n",
    "    for n in range(N):\n",
    "        Y.append(Y[n] + h*F(X[n],Y[n]))\n",
    "    return np.array(X),np.array(Y)"
   ]
  },
  {
   "cell_type": "code",
   "execution_count": 40,
   "metadata": {},
   "outputs": [],
   "source": [
    "# para usar el código anterior guardado en el fichero eulerexplicito.py\n",
    "import eulerexplicito"
   ]
  },
  {
   "cell_type": "code",
   "execution_count": 41,
   "metadata": {},
   "outputs": [],
   "source": [
    "# Si posteriormente tuviéramos que volver a importarlo, con Python 3\n",
    "# import importlib    # necesitaríamosimportar previamente este módulo\n",
    "# importlib.reload(module)\n",
    "# importlib.reload(eulerimplicito) # y ya podríamos cargarlo de nuevo cuando queramos"
   ]
  },
  {
   "cell_type": "code",
   "execution_count": 42,
   "metadata": {},
   "outputs": [
    {
     "name": "stdout",
     "output_type": "stream",
     "text": [
      " El volumen de la unidad C es Windows\n",
      " El número de serie del volumen es: CE39-4640\n",
      "\n",
      " Directorio de C:\\Users\\juanm\\OneDrive\\Escritorio\\universidad\\metodos_numericos_II\\practica_3\n",
      "\n",
      "03/06/2022  15:02               668 eulerexplicito.py\n",
      "               1 archivos            668 bytes\n",
      "               0 dirs  74.627.649.536 bytes libres\n"
     ]
    }
   ],
   "source": [
    "%ls eulerexplicito.py"
   ]
  },
  {
   "cell_type": "code",
   "execution_count": 43,
   "metadata": {},
   "outputs": [
    {
     "name": "stdout",
     "output_type": "stream",
     "text": [
      "Help on module eulerexplicito:\n",
      "\n",
      "NAME\n",
      "    eulerexplicito\n",
      "\n",
      "DESCRIPTION\n",
      "    método de Euler para resolver el PVI\n",
      "    X,Y     = integrate(F,x0,y0,xfinal,N).\n",
      "    {y}'    = {F(x,{y})}, donde\n",
      "    {y}     = {y[0],y[1],...y[N-1]}.\n",
      "    x0,y0   = condiciones iniciales \n",
      "    xfinal  = valor final de la variable x\n",
      "    h       = incremento de x usado para la integración\n",
      "    F       = función suplida por el usuario que devuelve \n",
      "            el array F(x,y) = {y'[0],y'[1],...,y'[N-1]}.\n",
      "\n",
      "FUNCTIONS\n",
      "    integrate(F, x0, y0, xfinal, N)\n",
      "\n",
      "FILE\n",
      "    c:\\users\\juanm\\onedrive\\escritorio\\universidad\\metodos_numericos_ii\\practica_3\\eulerexplicito.py\n",
      "\n",
      "\n"
     ]
    }
   ],
   "source": [
    "help(eulerexplicito)"
   ]
  },
  {
   "cell_type": "code",
   "execution_count": 44,
   "metadata": {},
   "outputs": [],
   "source": [
    "# Apliquemos pues ahora este algoritmo del método de Euler explícito\n",
    "N=10;  # con un valor concreto de N y la función f que define nuestra EDO\n",
    "xx, yEulerexpl = eulerexplicito.integrate(f,a,ya,b,N)\n",
    "# y asignémosle los arrays que devuelve a las abcisas y ordenadas"
   ]
  },
  {
   "cell_type": "code",
   "execution_count": 45,
   "metadata": {},
   "outputs": [
    {
     "name": "stdout",
     "output_type": "stream",
     "text": [
      "[1.         1.1        1.21       1.331      1.4641     1.61051\n",
      " 1.771561   1.9487171  2.14358881 2.35794769 2.59374246]\n"
     ]
    }
   ],
   "source": [
    "print(yEulerexpl)  #  aprox. obenidas en los nodos considerados"
   ]
  },
  {
   "cell_type": "code",
   "execution_count": 46,
   "metadata": {},
   "outputs": [
    {
     "data": {
      "image/png": "[encoded data removed]",
      "text/plain": [
       "<Figure size 576x288 with 1 Axes>"
      ]
     },
     "metadata": {
      "needs_background": "light"
     },
     "output_type": "display_data"
    }
   ],
   "source": [
    "# que justo a continuación podremos dibujar y comparar con la sol. exacta\n",
    "fig, ax = plt.subplots(figsize=(8, 4))\n",
    "ax.plot(xx,yEulerexpl, 'bo',label = \"aprox. mét. Euler explícito\")\n",
    "ax.plot(xx, y_x(xx), label=\"sol. exacta\")\n",
    "ax.set_title(r\"Sol. exacta:  $y(t)=%s$\" % sp.latex(sol_exacta), fontsize=18)\n",
    "ax.set_xlabel(r\"$t$\", fontsize=18)\n",
    "ax.set_ylabel(r\"$y$\", fontsize=18)\n",
    "ax.legend()\n",
    "fig.tight_layout()\n",
    "graf_Eulerexpl = fig"
   ]
  },
  {
   "cell_type": "code",
   "execution_count": 47,
   "metadata": {},
   "outputs": [
    {
     "name": "stdout",
     "output_type": "stream",
     "text": [
      "Overwriting eulerimplicito.py\n"
     ]
    }
   ],
   "source": [
    "%%file eulerimplicito.py\n",
    "## módulo eulerimplicito\n",
    "''' método de Euler implicito para resolver el PVI\n",
    "    X,Y     = integrate(F,x0,y0,xfinal,N).\n",
    "    {y}'    = {F(x,{y})}, donde\n",
    "    {y}     = {y[0],y[1],...y[N-1]}.\n",
    "    x0,y0   = condiciones iniciales \n",
    "    xfinal  = valor final de la variable x\n",
    "    h       = incremento de x usado para la integración\n",
    "    F       = función suplida por el usuario que devuelve \n",
    "            el array F(x,y) = {y'[0],y'[1],...,y'[N-1]}.\n",
    "'''\n",
    "import numpy as np\n",
    "import sympy as sp\n",
    "def integrate(F,x0,y0,xfinal,N):    \n",
    "    X = np.linspace(x0,xfinal,N+1)\n",
    "    Y = [y0]; h = (xfinal-x0)/N\n",
    "    y1 = sp.Symbol('y1') # usaremos esta variable como incógnita\n",
    "    for n in range(N):   # de la ecuación a resolver en cada iteración\n",
    "        Y.append(sp.solve(Y[n]+h*F(X[n+1],y1)-y1,y1)[0])\n",
    "    return np.array(X),np.array(Y)"
   ]
  },
  {
   "cell_type": "code",
   "execution_count": 48,
   "metadata": {},
   "outputs": [],
   "source": [
    "import eulerimplicito  # así importaríamos el contenido guardado en euler.py"
   ]
  },
  {
   "cell_type": "code",
   "execution_count": 49,
   "metadata": {},
   "outputs": [
    {
     "name": "stdout",
     "output_type": "stream",
     "text": [
      "Overwriting eulerimplicitoaprox.py\n"
     ]
    }
   ],
   "source": [
    "%%file eulerimplicitoaprox.py\n",
    "## módulo eulerimplicitoaprox\n",
    "''' método de Euler implicito aprox para resolver el PVI\n",
    "    X,Y     = integrate(F,x0,y0,xfinal,N).\n",
    "    {y}'    = {F(x,{y})}, donde\n",
    "    {y}     = {y[0],y[1],...y[N-1]}.\n",
    "    x0,y0   = condiciones iniciales \n",
    "    xfinal  = valor final de la variable x\n",
    "    h       = incremento de x usado para la integración\n",
    "    F       = función suplida por el usuario que devuelve \n",
    "            el array F(x,y) = {y'[0],y'[1],...,y'[N-1]}.\n",
    "'''\n",
    "import numpy as np\n",
    "import sympy as sp\n",
    "\n",
    "def integrate(F,x0,y0,xfinal,N):    \n",
    "    X = np.linspace(x0,xfinal,N+1)\n",
    "    Y = [y0]; h = (xfinal-x0)/N\n",
    "    \n",
    "    for n in range(N):   \n",
    "        y1 = Y[n] + h*F(X[n],Y[n])    #  valor inicial para una\n",
    "        Y.append(Y[n]+h*F(X[n+1],y1)) #  iteración de punto fijo\n",
    "    return np.array(X),np.array(Y)"
   ]
  },
  {
   "cell_type": "code",
   "execution_count": 50,
   "metadata": {},
   "outputs": [],
   "source": [
    "# %ls euler*.py"
   ]
  },
  {
   "cell_type": "code",
   "execution_count": 51,
   "metadata": {},
   "outputs": [],
   "source": [
    "import eulerimplicitoaprox  # así importaríamos el contenido guardado en euler.py"
   ]
  },
  {
   "cell_type": "code",
   "execution_count": 52,
   "metadata": {},
   "outputs": [],
   "source": [
    "# Si posteriormente tuviéramos que volver a importarlo, con Pyhton 3\n",
    "# import importlib    # necesitaríamosimportar previamente este módulo\n",
    "# importlib.reload(module)\n",
    "# importlib.reload(eulerimplicito) # y ya podríamos cargarlo de nuevo cuando queramos"
   ]
  },
  {
   "cell_type": "code",
   "execution_count": 53,
   "metadata": {},
   "outputs": [],
   "source": [
    "# Apliquemos pues ahora alguna de estas versiones del algoritmo \n",
    "N=10;  # del método de Euler implícito, con un valor concreto de n\n",
    "xx, yEulerimpl = eulerimplicito.integrate(f,a,ya,b,N)\n",
    "xx, yEulerimplaprox = eulerimplicitoaprox.integrate(f,a,ya,b,N)\n",
    "# y asignémosle los arrays que devuelve a las abcisas y ordenadas"
   ]
  },
  {
   "cell_type": "code",
   "execution_count": 54,
   "metadata": {},
   "outputs": [
    {
     "name": "stdout",
     "output_type": "stream",
     "text": [
      "[1 1.11111111111111 1.23456790123457 1.37174211248285 1.52415790275873\n",
      " 1.69350878084303 1.88167642315892 2.09075158128769 2.32305731254188\n",
      " 2.58117479171320 2.86797199079244]\n"
     ]
    }
   ],
   "source": [
    "print(yEulerimpl)  #  aprox. obenidas en los nodos considerados"
   ]
  },
  {
   "cell_type": "code",
   "execution_count": 55,
   "metadata": {},
   "outputs": [
    {
     "name": "stdout",
     "output_type": "stream",
     "text": [
      "[1.         1.11       1.2321     1.367631   1.51807041 1.68505816\n",
      " 1.87041455 2.07616015 2.30453777 2.55803692 2.83942099]\n"
     ]
    }
   ],
   "source": [
    "print(yEulerimplaprox)  #  aprox. obenidas en los nodos considerados"
   ]
  },
  {
   "cell_type": "code",
   "execution_count": 56,
   "metadata": {},
   "outputs": [
    {
     "data": {
      "image/png": "[encoded data removed]",
      "text/plain": [
       "<Figure size 576x288 with 1 Axes>"
      ]
     },
     "metadata": {
      "needs_background": "light"
     },
     "output_type": "display_data"
    }
   ],
   "source": [
    "# que justo a continuación podremos dibujar y comparar con la sol. exacta\n",
    "fig, ax = plt.subplots(figsize=(8, 4))\n",
    "ax.plot(xx,yEulerimpl, 'bo',label = \"aprox. mét. Euler implícito\")\n",
    "ax.plot(xx,yEulerimplaprox, 'r-.D',label = \"aprox. mét. Euler implícito aprox.\")\n",
    "ax.plot(xx, y_x(xx), label=\"sol. exacta\")\n",
    "ax.set_title(r\"Sol. exacta:  $y(t)=%s$\" % sp.latex(sol_exacta), fontsize=18)\n",
    "ax.set_xlabel(r\"$t$\", fontsize=18)\n",
    "ax.set_ylabel(r\"$y$\", fontsize=18)\n",
    "ax.legend()\n",
    "fig.tight_layout()\n",
    "graf_Eulerimpl = fig"
   ]
  },
  {
   "cell_type": "code",
   "execution_count": 57,
   "metadata": {},
   "outputs": [],
   "source": [
    "# Al haberle puesto nombre a esta gráfica podremos volver a reproducirla\n",
    "# graf_Eulerimpl     # sin más que acordarnos de su nombre"
   ]
  },
  {
   "cell_type": "markdown",
   "metadata": {},
   "source": [
    "## Comparativa entre los métodos de Euler explícito e implícito"
   ]
  },
  {
   "cell_type": "code",
   "execution_count": 58,
   "metadata": {},
   "outputs": [
    {
     "name": "stdout",
     "output_type": "stream",
     "text": [
      "[1 1.10517091807565 1.22140275816017 1.34985880757600 1.49182469764127\n",
      " 1.64872127070013 1.82211880039051 2.01375270747048 2.22554092849247\n",
      " 2.45960311115695 2.71828182845905]\n"
     ]
    }
   ],
   "source": [
    "valores_exactos = np.array([sol_exacta.subs({t:xx[n]}) for n in range(len(xx))])\n",
    "print(valores_exactos)"
   ]
  },
  {
   "cell_type": "code",
   "execution_count": 59,
   "metadata": {},
   "outputs": [
    {
     "data": {
      "text/latex": [
       "$\\displaystyle 0.124539368359045$"
      ],
      "text/plain": [
       "0.124539368359045"
      ]
     },
     "execution_count": 59,
     "metadata": {},
     "output_type": "execute_result"
    }
   ],
   "source": [
    "abs(valores_exactos - yEulerexpl).max() # este sería el valor absoluto \n",
    "# máximo de las diferencias entre los valores exactos y los aproximados \n",
    "# mediante el uso del método de Euler explícito"
   ]
  },
  {
   "cell_type": "code",
   "execution_count": 60,
   "metadata": {},
   "outputs": [
    {
     "data": {
      "text/latex": [
       "$\\displaystyle 0.149690162333396$"
      ],
      "text/plain": [
       "0.149690162333396"
      ]
     },
     "execution_count": 60,
     "metadata": {},
     "output_type": "execute_result"
    }
   ],
   "source": [
    "abs(valores_exactos - yEulerimpl).max() # este sería el valor absoluto \n",
    "# máximo de las diferencias entre los valores exactos y los aproximados \n",
    "# mediante el uso del método de Euler implícito"
   ]
  },
  {
   "cell_type": "code",
   "execution_count": 61,
   "metadata": {},
   "outputs": [
    {
     "data": {
      "text/latex": [
       "$\\displaystyle 0.121139157609972$"
      ],
      "text/plain": [
       "0.121139157609972"
      ]
     },
     "execution_count": 61,
     "metadata": {},
     "output_type": "execute_result"
    }
   ],
   "source": [
    "abs(valores_exactos - yEulerimplaprox).max() # este sería el valor absoluto \n",
    "# máximo de las diferencias entre los valores exactos y los aproximados \n",
    "# mediante el uso del método de Euler implícito"
   ]
  },
  {
   "cell_type": "markdown",
   "metadata": {},
   "source": [
    "**Ejercicios:**\n",
    "1. Repita las aproximaciones anteriores con diferentes valores de $N$ (y por tanto de $h$) y compruebe el efecto en cuanto a mayor o menor precisión, estabilidad y coste computacional \n",
    "1. A partir de la implementación del algoritmo del método de Euler explícito, realice las modificaciones oportunas para obtener también las implementaciones correspondientes a los métodos de Euler mejorado (o del punto medio), así como del de Euler modificado (o de Heun)."
   ]
  },
  {
   "cell_type": "markdown",
   "metadata": {},
   "source": [
    "**Nota importante:** en caso de necesitar una sóla iteración (o el valor $y_1$) del método que fuera entonces convendría adaptar los algoritmos anteriores, así como todos los que vienen a continuación, para que por ejemplo introducidos `(f,a,ya,b,N)` tan sólo calculen y devuelvan `Y[1]` o directamente `y1`, con el corespondiente ahorro de tiempo de cómputo. Ver ejemplo a continuación."
   ]
  },
  {
   "cell_type": "code",
   "execution_count": 62,
   "metadata": {},
   "outputs": [
    {
     "name": "stdout",
     "output_type": "stream",
     "text": [
      "Overwriting eulerexplrapido.py\n"
     ]
    }
   ],
   "source": [
    "%%file eulerexplrapido.py\n",
    "## módulo eulerexplrapido\n",
    "''' método de Euler para resolver el PVI\n",
    "    X,Y     = integrate(F,x0,y0,x1,h).\n",
    "    {y}'    = {F(x,{y})}, donde\n",
    "    {y}     = {y[0],y[1]}.\n",
    "    x0,y0   = condiciones iniciales \n",
    "    x1      = valor final de la variable x0 + h en este caso\n",
    "    h       = incremento de x usado para la integración\n",
    "    F       = función suplida por el usuario\n",
    "'''\n",
    "import numpy as np\n",
    "def integrate(F,x0,y0,h):    \n",
    "    return y0 + h*F(x0,y0)"
   ]
  },
  {
   "cell_type": "code",
   "execution_count": 63,
   "metadata": {},
   "outputs": [],
   "source": [
    "import eulerexplrapido"
   ]
  },
  {
   "cell_type": "markdown",
   "metadata": {},
   "source": [
    "Habría una posibilidad de intentar estimar el tiempo de CPU empleado "
   ]
  },
  {
   "cell_type": "code",
   "execution_count": 64,
   "metadata": {},
   "outputs": [],
   "source": [
    "import timeit"
   ]
  },
  {
   "cell_type": "code",
   "execution_count": 65,
   "metadata": {},
   "outputs": [
    {
     "name": "stdout",
     "output_type": "stream",
     "text": [
      "Wall time: 0 ns\n"
     ]
    },
    {
     "data": {
      "text/plain": [
       "1.1"
      ]
     },
     "execution_count": 65,
     "metadata": {},
     "output_type": "execute_result"
    }
   ],
   "source": [
    "N = 10; h = (b-a)/N\n",
    "%time\n",
    "eulerexplrapido.integrate(f,a,ya,h)"
   ]
  },
  {
   "cell_type": "code",
   "execution_count": 66,
   "metadata": {},
   "outputs": [
    {
     "name": "stdout",
     "output_type": "stream",
     "text": [
      "330 ns ± 22.1 ns per loop (mean ± std. dev. of 7 runs, 1000000 loops each)\n"
     ]
    }
   ],
   "source": [
    "%%timeit\n",
    "eulerexplrapido.integrate(f,a,ya,h)"
   ]
  },
  {
   "cell_type": "code",
   "execution_count": 67,
   "metadata": {},
   "outputs": [
    {
     "name": "stdout",
     "output_type": "stream",
     "text": [
      "Wall time: 0 ns\n"
     ]
    },
    {
     "data": {
      "text/plain": [
       "(array([0. , 0.1, 0.2, 0.3, 0.4, 0.5, 0.6, 0.7, 0.8, 0.9, 1. ]),\n",
       " array([1.        , 1.1       , 1.21      , 1.331     , 1.4641    ,\n",
       "        1.61051   , 1.771561  , 1.9487171 , 2.14358881, 2.35794769,\n",
       "        2.59374246]))"
      ]
     },
     "execution_count": 67,
     "metadata": {},
     "output_type": "execute_result"
    }
   ],
   "source": [
    "%time\n",
    "eulerexplicito.integrate(f,a,ya,b,N)"
   ]
  },
  {
   "cell_type": "code",
   "execution_count": 68,
   "metadata": {},
   "outputs": [
    {
     "name": "stdout",
     "output_type": "stream",
     "text": [
      "35.1 µs ± 2.73 µs per loop (mean ± std. dev. of 7 runs, 10000 loops each)\n"
     ]
    }
   ],
   "source": [
    "%%timeit\n",
    "eulerexplicito.integrate(f,a,ya,b,N)"
   ]
  },
  {
   "cell_type": "markdown",
   "metadata": {},
   "source": [
    "Al usar `%time` el intérprete de Python nos intenta devolver el tiempo empleado en la ejecución de dicho comando (o linea de comandos), pero esto suele depender muchas veces de la carga puntual de la CPU en ese justo momento de la ejecución; por ese motivo se suele preferir el uso del comando mágico `%%timeit` que lo que hace más bien es realizar una tanda de ejecuciones repetitivas de dicha linea o bloque de comandos, tantas veces como sea necesario para obtener un valor estimado promedio, que es el que nos devuelve seguidamente. Habrá que tener en cuenta en todo caso, tanto las unidades de medida del tiempo que nos devuelva (ya sea en  nano- ($10^{-9}$ s), micro- ($10^{-6}$ s), mili-segundos ($10^{-3}$ s), etc), como el número de veces que se ha llevado a cabo la tanda de repeticiones, que puede oscilar entre unos cientos o miles, hasta a veces un millón, para poder comparar finalmente de una manera realista la rapidez de ejecución de cierto trozo de código."
   ]
  },
  {
   "cell_type": "markdown",
   "metadata": {},
   "source": [
    "# Métodos de Taylor"
   ]
  },
  {
   "cell_type": "markdown",
   "metadata": {},
   "source": [
    "Como es bien sabido, los métodos de Taylor se basan en un adecuado desarrollo en serie de Taylor de la propia función incógnita $y(t)$, suponiendo que resulta ser suficientemente derivable, y que sus derivadas sucesivas se pueden obtener a partir de la función $f$ que determina la EDO que satisface: $$y'(t)=f(t,y(t)),\\; t\\in[a,b]$$\n",
    "\n",
    "Así pues, si suponemos que $y\\in\\mathcal{C}^p$ y que podemos realizar un desarrollo en serie como el que sigue:\n",
    "$$y(t+h)\\approx y(t)+h\\, y'(t)+\\frac{h^2}{2}\\, y''(t)+\\ldots+\\frac{h^p}{p!}\\, y^{p)}(t)\\\\ \\equiv y(t)+h\\, F_1(t,y(t))+\\frac{h^2}{2}\\, F_2(t,y(t))+\\ldots+\\frac{h^p}{p!}\\, F_p(t,y(t))$$\n",
    "\n",
    "pues justamente el conocido método de Euler explícito, visto anteriormente, correspondería con el desarrollo de Taylor correspondiente al caso $p=1$, definiendo por ejemplo $F_1(t,z)\\equiv f(t,z)$. \n",
    "\n",
    "Así pues vamos por ejemplo a centrarnos en desarrollar por ejemplo, el siguiente caso $p=2$, y los demás casos $p>2$ se harían de la misma manera, sólo que conllevarían la realización de más cálculos del mismo tipo.\n",
    "\n",
    "**Caso $p=2$:**\n",
    "Aquí de lo que se trataría es de aprovechar la expresión de la EDO que relaciona la derivada primera de $y(t)$ con $f(t,y(t))$, y realizar la derivada segunda de acuerdo con el siguiente desarrollo (asumiendo que $f\\equiv f(t,z)$):\n",
    "\n",
    "$$y''(t)=\\frac{d}{dt}y'(t)=\\frac{d}{dt}(f(t,y(t)))=\\frac{df}{dt}(t,y(t))+\\frac{df}{dz}(t,y(t))\\,y'(t) \\\\= \\frac{df}{dt}(t,y(t))+\\frac{df}{dz}(t,y(t))\\,f(t,y(t)) \\equiv F_2(t,y(t))$$\n",
    "\n",
    "de manera que finalmente nuestro métodos de Taylor de orden $p=2$ quedaría como sigue:\n",
    "\n",
    "$$y(t+h)\\approx y(t)+h\\,F_1(t,y(t)) +\\frac{h^2}{2}\\, F_2(t,y(t))$$\n",
    "\n",
    "con $F_1(t,z)\\equiv f(t,z)$  y $F_2(t,z)\\equiv \\frac{df}{dt}(t,z)+\\frac{df}{dz}(t,z)\\,f(t,z)$."
   ]
  },
  {
   "cell_type": "markdown",
   "metadata": {},
   "source": [
    "Vamos pues a intentar implementar este método de Taylor de orden $p=2$ aprovechando las capacidadesd de cálculo simbólico que también nos proporciona el módulo de cálculo simbólico de Python, SymPy."
   ]
  },
  {
   "cell_type": "code",
   "execution_count": 69,
   "metadata": {},
   "outputs": [
    {
     "data": {
      "text/plain": [
       "(z, 0, 1)"
      ]
     },
     "execution_count": 69,
     "metadata": {},
     "output_type": "execute_result"
    }
   ],
   "source": [
    "f(t,z), sp.diff(f(t,z),t), sp.diff(f(t,z),z)"
   ]
  },
  {
   "cell_type": "code",
   "execution_count": 70,
   "metadata": {},
   "outputs": [],
   "source": [
    "def F1(t,z):\n",
    "    return f(t,z)\n",
    "\n",
    "def F2(t,z):\n",
    "    return sp.diff(f(t,z),t) + sp.diff(f(t,z),z)*F1(t,z)"
   ]
  },
  {
   "cell_type": "code",
   "execution_count": 71,
   "metadata": {},
   "outputs": [
    {
     "data": {
      "text/plain": [
       "(z, z)"
      ]
     },
     "execution_count": 71,
     "metadata": {},
     "output_type": "execute_result"
    }
   ],
   "source": [
    "F1(t,z), F2(t,z)"
   ]
  },
  {
   "cell_type": "code",
   "execution_count": 72,
   "metadata": {},
   "outputs": [
    {
     "name": "stdout",
     "output_type": "stream",
     "text": [
      "Overwriting Taylor2.py\n"
     ]
    }
   ],
   "source": [
    "%%file Taylor2.py\n",
    "# -*- coding: UTF-8 -*-\n",
    "## módulo Taylor2\n",
    "''' método del método de Taylor de orden 2 para resolver el PVI\n",
    "    X,Y     = integrate(F,x0,y0,xfinal,N).\n",
    "    {y}'    = {F(x,{y})}, donde\n",
    "    {y}     = {y[0],y[1],...y[N-1]}.\n",
    "    x0,y0   = condiciones iniciales \n",
    "    xfinal  = valor final de la variable x\n",
    "    h       = incremento de x usado para la integración\n",
    "    F       = función suplida por el usuario que devuelve \n",
    "            el array F(x,y) = {y'[0],y'[1],...,y'[N-1]}.\n",
    "'''\n",
    "def integrate(F,x0,y0,xfinal,N):  \n",
    "    import numpy as np\n",
    "    import sympy as sp\n",
    "    \n",
    "    t, z = sp.symbols('t, z')\n",
    "    \n",
    "    X = np.linspace(x0,xfinal,N+1)\n",
    "    Y = [y0]; h = (xfinal-x0)/N\n",
    "    \n",
    "    def F1(t,z):\n",
    "        return F(t,z)\n",
    "\n",
    "    def F2(t,z):\n",
    "        return sp.diff(F(t,z),t) + sp.diff(F(t,z),z)*F1(t,z)\n",
    "    \n",
    "    for n in range(N):\n",
    "        Y.append(Y[n]+h*F1(X[n],Y[n])+h**2/2*F2(t,z).subs({t:X[n],z:Y[n]}))\n",
    "    return np.array(X),np.array(Y)"
   ]
  },
  {
   "cell_type": "code",
   "execution_count": 73,
   "metadata": {},
   "outputs": [],
   "source": [
    "# %ls *.py"
   ]
  },
  {
   "cell_type": "code",
   "execution_count": 74,
   "metadata": {},
   "outputs": [],
   "source": [
    "# usar 'cat' o 'more' en Linux o Mac OS \n",
    "# !type Taylor2.py"
   ]
  },
  {
   "cell_type": "code",
   "execution_count": 75,
   "metadata": {},
   "outputs": [
    {
     "data": {
      "text/latex": [
       "$\\displaystyle z$"
      ],
      "text/plain": [
       "z"
      ]
     },
     "execution_count": 75,
     "metadata": {},
     "output_type": "execute_result"
    }
   ],
   "source": [
    "f(t,z)"
   ]
  },
  {
   "cell_type": "code",
   "execution_count": 76,
   "metadata": {},
   "outputs": [],
   "source": [
    "import Taylor2"
   ]
  },
  {
   "cell_type": "code",
   "execution_count": 77,
   "metadata": {},
   "outputs": [],
   "source": [
    "# Si posteriormente tuviéramos que volver a importarlo, con Pyhton 3\n",
    "# import importlib    # necesitaríamosimportar previamente este módulo\n",
    "# importlib.reload(Taylor2) #y ya podríamos cargarlo de nuevo cuando queramos\n",
    "# importlib.reload(eulerimplicito) # "
   ]
  },
  {
   "cell_type": "code",
   "execution_count": 78,
   "metadata": {},
   "outputs": [
    {
     "data": {
      "text/plain": [
       "(z, 0, 1)"
      ]
     },
     "execution_count": 78,
     "metadata": {},
     "output_type": "execute_result"
    }
   ],
   "source": [
    "f(t,z), sp.diff(f(t,z),t), sp.diff(f(t,z),z)"
   ]
  },
  {
   "cell_type": "code",
   "execution_count": 79,
   "metadata": {},
   "outputs": [],
   "source": [
    "# Apliquemos pues ahora este algoritmo del método de Taylor de orden 2\n",
    "N=10;  # con un valor concreto de N\n",
    "xx, yTaylor2 = Taylor2.integrate(f,a,ya,b,N)\n",
    "# y asignémosle los arrays que devuelve a las abcisas y ordenadas"
   ]
  },
  {
   "cell_type": "code",
   "execution_count": 80,
   "metadata": {},
   "outputs": [
    {
     "name": "stdout",
     "output_type": "stream",
     "text": [
      "[1 1.10500000000000 1.22102500000000 1.34923262500000 1.49090205062500\n",
      " 1.64744676594063 1.82042867636439 2.01157368738265 2.22278892455783\n",
      " 2.45618176163640 2.71408084660822]\n"
     ]
    }
   ],
   "source": [
    "print(yTaylor2)"
   ]
  },
  {
   "cell_type": "code",
   "execution_count": 81,
   "metadata": {},
   "outputs": [
    {
     "data": {
      "image/png": "[encoded data removed]",
      "text/plain": [
       "<Figure size 576x288 with 1 Axes>"
      ]
     },
     "metadata": {
      "needs_background": "light"
     },
     "output_type": "display_data"
    }
   ],
   "source": [
    "# que justo a continuación podremos dibujar y comparar con la sol. exacta\n",
    "fig, ax = plt.subplots(figsize=(8, 4))\n",
    "ax.plot(xx,yTaylor2, 'bo',label = \"aprox. mét. Taylor de orden 2\")\n",
    "ax.plot(xx, y_x(xx), label=\"sol. exacta\")\n",
    "ax.set_title(r\"Sol. exacta:  $y(t)=%s$\" % sp.latex(sol_exacta), fontsize=18)\n",
    "ax.set_xlabel(r\"$t$\", fontsize=18)\n",
    "ax.set_ylabel(r\"$y$\", fontsize=18)\n",
    "ax.legend()\n",
    "fig.tight_layout()\n",
    "graf_ptomedio = fig"
   ]
  },
  {
   "cell_type": "markdown",
   "metadata": {},
   "source": [
    "**Ejercicios:**\n",
    "1. Realice varios experimentos numéricos, con diferentes valores de $N$, y compare y ratifique los órdenes de convergencia de los diferentes métodos vistos hasta el momento.\n",
    " \n",
    "1. A partir de la implementación del algoritmo del método de Taylor de orden $p=2$, realice las modificaciones oportunas para obtener también una posible implementación correspondiente al método de Taylor de orden $p=3$."
   ]
  },
  {
   "cell_type": "markdown",
   "metadata": {},
   "source": [
    "# Métodos de Runge-Kutta"
   ]
  },
  {
   "cell_type": "markdown",
   "metadata": {},
   "source": [
    "## Runge-Kutta de orden 4"
   ]
  },
  {
   "cell_type": "code",
   "execution_count": 82,
   "metadata": {},
   "outputs": [
    {
     "name": "stdout",
     "output_type": "stream",
     "text": [
      "Overwriting RK4.py\n"
     ]
    }
   ],
   "source": [
    "%%file RK4.py\n",
    "## módulo RK4\n",
    "''' Método de Runge-Kutta de cuarto orden para resolver\n",
    "    el problema de valores iniciales {y}' = {F(x,{y})}, \n",
    "    donde    {y} = {y[0],y[1],...y[N-1]}.\n",
    "    X,Y    = integrate(F,x0,y0,xfinal,h).\n",
    "    x0,y0  = condiciones iniciales\n",
    "    xfinal = valor final de x\n",
    "    N      = número de subintervalos de la partición\n",
    "    h      = incremento de x usado en la integración\n",
    "    F      = función suplida por el usuario que devuelve el\n",
    "            array F(x,y) = {y'[0],y'[1],...,y'[N-1]}.\n",
    "'''\n",
    "import numpy as np\n",
    "def integrate(F,x0,y0,xfinal,N):\n",
    "    \n",
    "    def RK4(F,xn,yn,h):\n",
    "        K1 = F(xn,yn)\n",
    "        K2 = F(xn + h/2, yn + K1*h/2)\n",
    "        K3 = F(xn + h/2, yn + K2*h/2)\n",
    "        K4 = F(xn + h  , yn + K3*h)\n",
    "        return (K1 + 2*K2 + 2*K3 + K4)/6    \n",
    "    \n",
    "    X = np.linspace(x0,xfinal,N+1)\n",
    "    Y = [y0]; h = (xfinal-x0)/N\n",
    "    for n in range(N):\n",
    "        Y.append( Y[n] + h*RK4(F,X[n],Y[n],h) )\n",
    "    return np.array(X),np.array(Y)"
   ]
  },
  {
   "cell_type": "code",
   "execution_count": 83,
   "metadata": {},
   "outputs": [],
   "source": [
    "import RK4\n",
    "# importlib.reload(RK4)"
   ]
  },
  {
   "cell_type": "code",
   "execution_count": 84,
   "metadata": {},
   "outputs": [],
   "source": [
    "# Apliquemos pues ahora este algoritmo del método de Euler\n",
    "N=10;  # con un valor concreto de n\n",
    "xx, yRK4 = RK4.integrate(f,a,ya,b,N)\n",
    "# y asignémosle los arrays que devuelve a las abcisas y ordenadas"
   ]
  },
  {
   "cell_type": "code",
   "execution_count": 85,
   "metadata": {},
   "outputs": [
    {
     "data": {
      "image/png": "[encoded data removed]",
      "text/plain": [
       "<Figure size 576x288 with 1 Axes>"
      ]
     },
     "metadata": {
      "needs_background": "light"
     },
     "output_type": "display_data"
    }
   ],
   "source": [
    "# que justo a continuación podremos dibujar y comparar con la sol. exacta\n",
    "fig, ax = plt.subplots(figsize=(8, 4))\n",
    "ax.plot(xx,yRK4, 'bo',label = \"aprox. mét. RK4\")\n",
    "ax.plot(xx, y_x(xx), label=\"sol. exacta\")\n",
    "ax.set_title(r\"Sol. exacta:  $y(t)=%s$\" % sp.latex(sol_exacta), fontsize=18)\n",
    "ax.set_xlabel(r\"$t$\", fontsize=18)\n",
    "ax.set_ylabel(r\"$y$\", fontsize=18)\n",
    "ax.legend()\n",
    "fig.tight_layout()\n",
    "graf_RK4 = fig"
   ]
  },
  {
   "cell_type": "markdown",
   "metadata": {},
   "source": [
    "**Ejercicios:**\n",
    "1. Repita las aproximaciones anteriores con diferentes valores de $N$ (y por tanto de $h$) y compruebe el efecto en cuanto a mayor o menor precisión, estabilidad y coste computacional \n",
    "1. A partir de la implementación del algoritmo del método de Runge-Kutta de 4 evaluaciones, realice las modificaciones oportunas para intentar obtener también las implementaciones correspondientes a otros muchos métodos de tipo Runge-Kutta, tanto explícitos como implícitos, a partir del correspondiente arreglo de Butcher."
   ]
  },
  {
   "cell_type": "markdown",
   "metadata": {},
   "source": [
    "# Métodos Multipaso Lineales (MML)"
   ]
  },
  {
   "cell_type": "markdown",
   "metadata": {},
   "source": [
    "Recordamos que un método multipaso (con $k$ pasos) para el PVI considerado en esta práctica, tendría la siguiente forma:\n",
    "$$\n",
    "y_0, y_1, \\ldots, y_{k-1} \\text{ valores iniciales de partida}\\\\\n",
    "y_{n+k} = \\sum_{j=0}^{k-1} \\alpha_j \\, y_{n+j} + h\\, \\Phi(y_{n+k}, y_{n+k-1}, \\ldots, y_{n};\\, t_n,\\, h)\n",
    "$$\n",
    "donde la función $\\Phi$ cumple una condición de Lipschitz adecuada.\n",
    "\n",
    "Se dirá que uno de estos métodos se trata de un Método Multipaso Lineal (MML) si además la expresión que define el cálculo de $y_{n+k}$ se puede escribir de la siguiente manera:\n",
    "$$\n",
    "y_{n+k} = \\sum_{j=0}^{k-1} \\alpha_j \\, y_{n+j} + h\\,  \\sum_{j=0}^{k} \\beta_j \\, f_{n+j}\n",
    "$$\n",
    "usando la notación   $\\ f_i\\equiv f(t_i,y_i)$.\n",
    "\n",
    "Por otra parte, si $\\alpha_0=0=\\beta_0$ evidentemente, ya el método dejaría de ser de $k$ pasos, por lo que exigiremos que $|\\alpha_0|+|\\beta_0|\\neq 0$, tratándose de un método explícito si $\\beta_0=0$, e implícito en caso contrario."
   ]
  },
  {
   "cell_type": "markdown",
   "metadata": {},
   "source": [
    "## MML basados en cuadraturas"
   ]
  },
  {
   "cell_type": "markdown",
   "metadata": {},
   "source": [
    "Usando las fórmulas clásicas habituales de integración numérica, de tipo interpolatorio, podríamos diseñar innumerables nuevos métodos de resolución numérica de problemas de PVI de tipo MML, partiendo de que la ecuación diferencial de partida $y'(t)=f(t,y(t))$ se puede expresar también de forma equivalente, como \n",
    "$$y(\\tau_2)-y(\\tau_1)=\\int_{\\tau_1}^{\\tau_2} f(s,y(s))\\, ds, \\; \\forall \\tau_1, \\, \\tau_2 \\in [a,b],$$ \n",
    "entonces podremos también escribir, $\\forall 1\\leq q \\leq k$, notando $f_j\\equiv f(t_j,y_j)$,\n",
    "$$y(t_{n+k}) = y(t_{n+k-q}) + \\int_{t_{n+k-q}}^{t_{n+k}} f(s,y(s))\\, ds \\\\\n",
    "\\approx  y(t_{n+k-q}) + h\\, \\sum_{j=m}^{k-r} \\beta_j \\, f_{n+j}\n",
    "$$\n",
    "que será implícito si $r=0$, y explícito en cualquier otro caso. Y para que el método resultante sea efectivamente de $k$ pasos, deberá de aparecer por algún lado el término $y_n$, por lo que necesariamente $q=k$, o bien $m=0$.\n",
    "\n",
    "Dependiendo ahora de los valores de $q,\\, m, \\, r$ surgen algunas conocidas familias de métodos, que revisaremos a continuación."
   ]
  },
  {
   "cell_type": "markdown",
   "metadata": {},
   "source": [
    "## Métodos de tipo Adams"
   ]
  },
  {
   "cell_type": "markdown",
   "metadata": {},
   "source": [
    "Son aquellos con $q=1$, y por tanto $m=0$; y se podrían expresar como sigue:\n",
    "\n",
    "$$ y_{n+k} = y_{n+k-1} + h\\, (\\beta_0\\, f_n + \\ldots + \\beta_{k-r}\\, f_{n+k-r})\n",
    "$$"
   ]
  },
  {
   "cell_type": "markdown",
   "metadata": {},
   "source": [
    "### Métodos de tipo Adams-Bashforth (AB)"
   ]
  },
  {
   "cell_type": "markdown",
   "metadata": {},
   "source": [
    "Son métodos de tipo Adams explícitos, con exactitud máxima, y valores $q=1,\\, m=0,\\, r=1$.\n",
    "\n",
    "Por ejemplo, \n",
    "- con $k=1$ tendríamos de nuevo el método de Euler: $y_{n+1} = y_{n} + h\\, f_n$\n",
    "- y con $k=2$: $y_{n+2} = y_{n+1} + \\frac{h}{2} (3 f_{n+1} - f_{n})$"
   ]
  },
  {
   "cell_type": "code",
   "execution_count": 86,
   "metadata": {},
   "outputs": [
    {
     "name": "stdout",
     "output_type": "stream",
     "text": [
      "Overwriting AdamBashforth2.py\n"
     ]
    }
   ],
   "source": [
    "%%file AdamBashforth2.py\n",
    "## módulo AB2\n",
    "''' Método de Adams-Bashforth (con k = 2) para resolver\n",
    "    el problema de valores iniciales {y}' = {F(x,{y})}, \n",
    "    donde    {y} = {y[0],y[1],...y[N-1]}.\n",
    "    X,Y    = integrate(F,x0,y0,xfinal,N).\n",
    "    x0,y0  = condiciones iniciales\n",
    "    xfinal = valor final de x\n",
    "    N      = número de subintervalos de la partición\n",
    "    h      = incremento de x usado en la integración\n",
    "    F      = función suplida por el usuario que devuelve el\n",
    "            array F(x,y) = {y'[0],y'[1],...,y'[N-1]}.\n",
    "'''\n",
    "\n",
    "def integrate(F,x0,y0,xfinal,N):\n",
    "    \n",
    "    import numpy as np\n",
    "    \n",
    "    def AB2(F,x0,y0,y1,h):\n",
    "        return (3*F(x0+h,y1)-F(x0,y0))/2    \n",
    "    \n",
    "    X = np.linspace(x0,xfinal,N+1)\n",
    "    h = (xfinal-x0)/N\n",
    "    y1 = y0 + h*F(x0,y0); Y = [y0,y1]\n",
    "    for n in range(N-1):\n",
    "        Y.append(Y[n+1] + h*AB2(F,X[n],Y[n],Y[n+1],h))\n",
    "    return np.array(X),np.array(Y)"
   ]
  },
  {
   "cell_type": "code",
   "execution_count": 87,
   "metadata": {},
   "outputs": [],
   "source": [
    "import AdamBashforth2"
   ]
  },
  {
   "cell_type": "code",
   "execution_count": 88,
   "metadata": {},
   "outputs": [],
   "source": [
    "# Si posteriormente tuviéramos que volver a importarlo, con Pyhton 3\n",
    "# import importlib    # necesitaríamosimportar previamente este módulo\n",
    "# importlib.reload(AdamBashforth2) #y ya podríamos cargarlo de nuevo cuando queramos\n",
    "# importlib.reload(eulerimplicito) # "
   ]
  },
  {
   "cell_type": "code",
   "execution_count": 89,
   "metadata": {},
   "outputs": [],
   "source": [
    "# Apliquemos pues ahora este algoritmo del método de Euler\n",
    "N=10;  # con un valor concreto de n\n",
    "xx, yAB2 = AdamBashforth2.integrate(f,a,ya,b,N)\n",
    "# y asignémosle los arrays que devuelve a las abcisas y ordenadas"
   ]
  },
  {
   "cell_type": "code",
   "execution_count": 90,
   "metadata": {},
   "outputs": [
    {
     "data": {
      "image/png": "[encoded data removed]",
      "text/plain": [
       "<Figure size 576x288 with 1 Axes>"
      ]
     },
     "metadata": {
      "needs_background": "light"
     },
     "output_type": "display_data"
    }
   ],
   "source": [
    "# que justo a continuación podremos dibujar y comparar con la sol. exacta\n",
    "fig, ax = plt.subplots(figsize=(8, 4))\n",
    "ax.plot(xx,yAB2, 'bo',label = \"aprox. mét. AB2\")\n",
    "ax.plot(xx, y_x(xx), label=\"sol. exacta\")\n",
    "ax.set_title(r\"Sol. exacta:  $y(t)=%s$\" % sp.latex(sol_exacta), fontsize=18)\n",
    "ax.set_xlabel(r\"$t$\", fontsize=18)\n",
    "ax.set_ylabel(r\"$y$\", fontsize=18)\n",
    "ax.legend()\n",
    "fig.tight_layout()\n",
    "graf_AB2 = fig"
   ]
  },
  {
   "cell_type": "markdown",
   "metadata": {},
   "source": [
    "**Ejercicios:**\n",
    "1. A partir de la implementación del algoritmo del método de Adams-Bashforth anterior, realice las modificaciones oportunas para intentar obtener también las implementaciones correspondientes a otros muchos métodos de tipo Adams, como Adams-Moulton (AM), Milne-Simpson, Nyström y/o Newton-Cotes."
   ]
  },
  {
   "cell_type": "markdown",
   "metadata": {},
   "source": [
    "## Métodos Predictor-Corrector"
   ]
  },
  {
   "cell_type": "markdown",
   "metadata": {},
   "source": [
    "### Método de Adams-Bashforth-Moulton de orden 5"
   ]
  },
  {
   "cell_type": "markdown",
   "metadata": {},
   "source": [
    "Implementaremos a continuación un método MML Predictor-Corrector particular, combinando un predictor AB de 5 pasos con un corrector AM de 4, y aplicando una sólo corrección en cada iteración:\n",
    "\n",
    "P: $y_{n+5}^{(0)} = y_{n+4} + \\frac{h}{720} (1901 f_{n+4} -2774 f_{n+3} +2616 f_{n+2} - 1274 f_{n+1} + 251 f_n)$\n",
    "\n",
    "C$^1$: $y_{n+5} = y_{n+4} + \\frac{h}{720} (251 f(t_{n+5},y_{n+5}^{(0)}) + 646 f_{n+4} -264 f_{n+3} +106 f_{n+2} - 19 f_{n+1}$ "
   ]
  },
  {
   "cell_type": "markdown",
   "metadata": {},
   "source": [
    "**Ejercicios:**\n",
    "1. Intente la implementación del algoritmo de tipo Predictor-Corrector anterior, o cualquier otro adecuado, eligiendo convenientemente los otros métodos necesarios para proporcionar los valores previos necesarios."
   ]
  },
  {
   "cell_type": "code",
   "execution_count": null,
   "metadata": {},
   "outputs": [],
   "source": [
    "graf_exacta"
   ]
  },
  {
   "cell_type": "code",
   "execution_count": null,
   "metadata": {},
   "outputs": [],
   "source": [
    "a,b"
   ]
  },
  {
   "cell_type": "code",
   "execution_count": null,
   "metadata": {},
   "outputs": [],
   "source": [
    "ya"
   ]
  },
  {
   "cell_type": "code",
   "execution_count": null,
   "metadata": {},
   "outputs": [],
   "source": [
    "import eulerexplrapido"
   ]
  },
  {
   "cell_type": "code",
   "execution_count": null,
   "metadata": {},
   "outputs": [],
   "source": [
    "help(eulerexplrapido)"
   ]
  },
  {
   "cell_type": "code",
   "execution_count": null,
   "metadata": {},
   "outputs": [],
   "source": [
    "?f"
   ]
  },
  {
   "cell_type": "code",
   "execution_count": null,
   "metadata": {},
   "outputs": [],
   "source": [
    "f(t,z)"
   ]
  },
  {
   "cell_type": "code",
   "execution_count": null,
   "metadata": {},
   "outputs": [],
   "source": [
    "N =10\n",
    "x = np.linspace(a,b,N+1)\n",
    "x"
   ]
  },
  {
   "cell_type": "code",
   "execution_count": null,
   "metadata": {},
   "outputs": [],
   "source": [
    "h = (b-a)/N\n",
    "eulerexplrapido.integrate(f,a,ya,h)"
   ]
  },
  {
   "cell_type": "code",
   "execution_count": null,
   "metadata": {},
   "outputs": [],
   "source": [
    "Y = [ya]; k=5;\n",
    "for n in range(k-1):\n",
    "    y1 = eulerexplrapido.integrate(f,x[n],Y[n],h)\n",
    "    Y.append(y1)\n",
    "Y    "
   ]
  },
  {
   "cell_type": "code",
   "execution_count": null,
   "metadata": {},
   "outputs": [],
   "source": [
    "N-k"
   ]
  },
  {
   "cell_type": "code",
   "execution_count": null,
   "metadata": {},
   "outputs": [],
   "source": [
    "for n in range(N-k+1):\n",
    "    yn5P = Y[n+4]+h/720*(1901*f(x[n+4],Y[n+4])-2774*f(x[n+3],Y[n+3])+2616*f(x[n+2],Y[n+2])-1274*f(x[n+1],Y[n+1])+251*f(x[n],Y[n]))\n",
    "    yn5C = Y[n+4]+h/720*(251*f(x[n+5],yn5P)+646*f(x[n+4],Y[n+4])-264*f(x[n+3],Y[n+3])+106*f(x[n+2],Y[n+2])+19*f(x[n+1],Y[n+1]))\n",
    "    Y.append(yn5C)\n",
    "Y"
   ]
  },
  {
   "cell_type": "code",
   "execution_count": null,
   "metadata": {},
   "outputs": [],
   "source": [
    "len(x), len(Y)"
   ]
  },
  {
   "cell_type": "code",
   "execution_count": null,
   "metadata": {},
   "outputs": [],
   "source": [
    "# que justo a continuación podremos dibujar y comparar con la sol. exacta\n",
    "fig, ax = plt.subplots(figsize=(8, 4))\n",
    "ax.plot(xx,Y, 'bo',label = \"aprox. met. Predictor-Corrector\")\n",
    "ax.plot(xx, y_x(xx), label=\"sol. exacta\")\n",
    "# ax.set_title(r\"Sol. exacta:  $y(t)=%s$\" % sp.latex(sol_exacta), fontsize=18)\n",
    "ax.set_xlabel(r\"$t$\", fontsize=18)\n",
    "ax.set_ylabel(r\"$y$\", fontsize=18)\n",
    "ax.legend()\n",
    "fig.tight_layout()\n",
    "graf_ptomedio = fig"
   ]
  },
  {
   "cell_type": "markdown",
   "metadata": {},
   "source": [
    "## Integración Numerica de EDOs y sistemas de Ecs. Diferenciales usando SciPy  (Opcional)"
   ]
  },
  {
   "cell_type": "code",
   "execution_count": 85,
   "metadata": {},
   "outputs": [],
   "source": [
    "from scipy import integrate"
   ]
  },
  {
   "cell_type": "code",
   "execution_count": 86,
   "metadata": {},
   "outputs": [],
   "source": [
    "%matplotlib inline\n",
    "# %config InlineBackend.figure_format='retina'\n",
    "import matplotlib.pyplot as plt\n",
    "# import matplotlib as mpl\n",
    "# mpl.rcParams['text.usetex'] = True"
   ]
  },
  {
   "cell_type": "code",
   "execution_count": 87,
   "metadata": {},
   "outputs": [],
   "source": [
    "import numpy as np\n",
    "import sympy as sp\n",
    "# sp.init_printing()"
   ]
  },
  {
   "cell_type": "code",
   "execution_count": 88,
   "metadata": {},
   "outputs": [],
   "source": [
    "x = sp.symbols(\"x\")"
   ]
  },
  {
   "cell_type": "code",
   "execution_count": 89,
   "metadata": {},
   "outputs": [],
   "source": [
    "y = sp.Function(\"y\")"
   ]
  },
  {
   "cell_type": "code",
   "execution_count": 90,
   "metadata": {},
   "outputs": [],
   "source": [
    "f = y(x)**2 + x"
   ]
  },
  {
   "cell_type": "code",
   "execution_count": 91,
   "metadata": {},
   "outputs": [],
   "source": [
    "f_np = sp.lambdify((y(x), x), f, 'math')"
   ]
  },
  {
   "cell_type": "code",
   "execution_count": 92,
   "metadata": {},
   "outputs": [],
   "source": [
    "y0 = 0"
   ]
  },
  {
   "cell_type": "code",
   "execution_count": 93,
   "metadata": {},
   "outputs": [],
   "source": [
    "xp = np.linspace(0, 1.9, 100)"
   ]
  },
  {
   "cell_type": "code",
   "execution_count": 94,
   "metadata": {},
   "outputs": [
    {
     "data": {
      "text/plain": [
       "(100,)"
      ]
     },
     "execution_count": 94,
     "metadata": {},
     "output_type": "execute_result"
    }
   ],
   "source": [
    "xp.shape"
   ]
  },
  {
   "cell_type": "code",
   "execution_count": 95,
   "metadata": {},
   "outputs": [],
   "source": [
    "yp = integrate.odeint(f_np, y0, xp)"
   ]
  },
  {
   "cell_type": "code",
   "execution_count": 96,
   "metadata": {},
   "outputs": [],
   "source": [
    "xm = np.linspace(0, -5, 100)"
   ]
  },
  {
   "cell_type": "code",
   "execution_count": 97,
   "metadata": {},
   "outputs": [],
   "source": [
    "ym = integrate.odeint(f_np, y0, xm)"
   ]
  },
  {
   "cell_type": "code",
   "execution_count": 98,
   "metadata": {},
   "outputs": [],
   "source": [
    "def plot_direction_field(x, y_x, f_xy, x_lim=(-5, 5), y_lim=(-5, 5), ax=None):\n",
    "    \n",
    "    f_np = sp.lambdify((x, y_x), f_xy, 'numpy')\n",
    "    \n",
    "    x_vec = np.linspace(x_lim[0], x_lim[1], 20)\n",
    "    y_vec = np.linspace(y_lim[0], y_lim[1], 20)\n",
    "    \n",
    "    if ax is None:\n",
    "        _, ax = plt.subplots(figsize=(4, 4))\n",
    "\n",
    "    dx = x_vec[1] - x_vec[0]\n",
    "    dy = y_vec[1] - y_vec[0]\n",
    "\n",
    "    for m, xx in enumerate(x_vec):\n",
    "        for n, yy in enumerate(y_vec):\n",
    "            Dy = f_np(xx, yy) * dx\n",
    "            Dx = 0.8 * dx**2 / np.sqrt(dx**2 + Dy**2)\n",
    "            Dy = 0.8 * Dy*dy / np.sqrt(dx**2 + Dy**2)\n",
    "            ax.plot([xx - Dx/2, xx + Dx/2],\n",
    "                    [yy - Dy/2, yy + Dy/2], 'b', lw=0.5)\n",
    "    ax.axis('tight')"
   ]
  },
  {
   "cell_type": "code",
   "execution_count": 99,
   "metadata": {},
   "outputs": [
    {
     "data": {
      "image/png": "[encoded data removed]",
      "text/plain": [
       "<Figure size 288x288 with 1 Axes>"
      ]
     },
     "metadata": {
      "needs_background": "light"
     },
     "output_type": "display_data"
    }
   ],
   "source": [
    "fig, ax = plt.subplots(1, 1, figsize=(4, 4))\n",
    "plot_direction_field(x, y(x), f, ax=ax)\n",
    "ax.plot(xm, ym, 'b', lw=2)\n",
    "ax.plot(xp, yp, 'r', lw=2);\n",
    "# fig.savefig('odeint-ejemplo-ec-escalar.pdf')"
   ]
  },
  {
   "cell_type": "markdown",
   "metadata": {},
   "source": [
    "## Ecuaciones de Lotka-Volterra para poblaciones de tipo presa/predador\n",
    "\n",
    "$$\n",
    "x'(t) = a x - b x y\n",
    "$$\n",
    "\n",
    "$$\n",
    "y'(t) = c x y - d y\n",
    "$$"
   ]
  },
  {
   "cell_type": "code",
   "execution_count": 100,
   "metadata": {},
   "outputs": [],
   "source": [
    "a, b, c, d = 0.4, 0.002, 0.001, 0.7"
   ]
  },
  {
   "cell_type": "code",
   "execution_count": 101,
   "metadata": {},
   "outputs": [],
   "source": [
    "def f(xy, t):\n",
    "    x, y = xy\n",
    "    return [a * x - b * x * y,\n",
    "            c * x * y - d * y]"
   ]
  },
  {
   "cell_type": "code",
   "execution_count": 102,
   "metadata": {},
   "outputs": [],
   "source": [
    "xy0 = [600, 400]"
   ]
  },
  {
   "cell_type": "code",
   "execution_count": 103,
   "metadata": {},
   "outputs": [],
   "source": [
    "t = np.linspace(0, 50, 250)"
   ]
  },
  {
   "cell_type": "code",
   "execution_count": 104,
   "metadata": {},
   "outputs": [],
   "source": [
    "xy_t = integrate.odeint(f, xy0, t)"
   ]
  },
  {
   "cell_type": "code",
   "execution_count": 105,
   "metadata": {},
   "outputs": [
    {
     "data": {
      "text/plain": [
       "(250, 2)"
      ]
     },
     "execution_count": 105,
     "metadata": {},
     "output_type": "execute_result"
    }
   ],
   "source": [
    "xy_t.shape"
   ]
  },
  {
   "cell_type": "code",
   "execution_count": 106,
   "metadata": {},
   "outputs": [
    {
     "data": {
      "image/png": "[encoded data removed]",
      "text/plain": [
       "<Figure size 576x288 with 2 Axes>"
      ]
     },
     "metadata": {
      "needs_background": "light"
     },
     "output_type": "display_data"
    }
   ],
   "source": [
    "fig, axes = plt.subplots(1, 2, figsize=(8, 4))\n",
    "\n",
    "axes[0].plot(t, xy_t[:,0], 'r', label=\"Presa\")\n",
    "axes[0].plot(t, xy_t[:,1], 'b', label=\"Predador\")\n",
    "axes[0].set_xlabel(\"Tiempo\")\n",
    "axes[0].set_ylabel(\"Numero de animales\")\n",
    "axes[0].legend()\n",
    "\n",
    "axes[1].plot(xy_t[:,0], xy_t[:,1], 'k')\n",
    "axes[1].set_xlabel(\"Numero de presas\")\n",
    "axes[1].set_ylabel(\"Numero de predadores\")\n",
    "fig.tight_layout()\n",
    "fig.savefig('cap9-lokta-volterra.pdf')"
   ]
  },
  {
   "cell_type": "markdown",
   "metadata": {},
   "source": [
    "## Ecuaciones de Lorenz"
   ]
  },
  {
   "cell_type": "markdown",
   "metadata": {},
   "source": [
    "$$\n",
    "x'(t) = \\sigma(y - x)\n",
    "$$\n",
    "$$\n",
    "y'(t) = x(\\rho - z) - y \n",
    "$$\n",
    "$$\n",
    "z'(t) = x y - \\beta z\n",
    "$$"
   ]
  },
  {
   "cell_type": "code",
   "execution_count": 107,
   "metadata": {},
   "outputs": [],
   "source": [
    "def f(xyz, t, rho, sigma, beta):\n",
    "    x, y, z = xyz\n",
    "    return [sigma * (y - x),\n",
    "            x * (rho - z) - y,\n",
    "            x * y - beta * z]"
   ]
  },
  {
   "cell_type": "code",
   "execution_count": 108,
   "metadata": {},
   "outputs": [],
   "source": [
    "rho = 28\n",
    "sigma = 8\n",
    "beta = 8/3.0"
   ]
  },
  {
   "cell_type": "code",
   "execution_count": 109,
   "metadata": {},
   "outputs": [],
   "source": [
    "t = np.linspace(0, 25, 10000)"
   ]
  },
  {
   "cell_type": "code",
   "execution_count": 110,
   "metadata": {},
   "outputs": [],
   "source": [
    "xyz0 = [1.0, 1.0, 1.0]"
   ]
  },
  {
   "cell_type": "code",
   "execution_count": 111,
   "metadata": {},
   "outputs": [],
   "source": [
    "xyz1 = integrate.odeint(f, xyz0, t, args=(rho, sigma, beta))"
   ]
  },
  {
   "cell_type": "code",
   "execution_count": 112,
   "metadata": {},
   "outputs": [],
   "source": [
    "xyz2 = integrate.odeint(f, xyz0, t, args=(rho, sigma, 0.6*beta))"
   ]
  },
  {
   "cell_type": "code",
   "execution_count": 113,
   "metadata": {},
   "outputs": [],
   "source": [
    "xyz3 = integrate.odeint(f, xyz0, t, args=(rho, 2*sigma, 0.6*beta))"
   ]
  },
  {
   "cell_type": "code",
   "execution_count": 114,
   "metadata": {},
   "outputs": [
    {
     "data": {
      "text/plain": [
       "(10000, 3)"
      ]
     },
     "execution_count": 114,
     "metadata": {},
     "output_type": "execute_result"
    }
   ],
   "source": [
    "xyz3.shape"
   ]
  },
  {
   "cell_type": "code",
   "execution_count": 115,
   "metadata": {},
   "outputs": [],
   "source": [
    "from mpl_toolkits.mplot3d.axes3d import Axes3D"
   ]
  },
  {
   "cell_type": "code",
   "execution_count": 116,
   "metadata": {},
   "outputs": [
    {
     "data": {
      "image/png": "[encoded data removed]",
      "text/plain": [
       "<Figure size 864x252 with 3 Axes>"
      ]
     },
     "metadata": {
      "needs_background": "light"
     },
     "output_type": "display_data"
    }
   ],
   "source": [
    "fig, (ax1, ax2, ax3) = plt.subplots(1, 3, figsize=(12, 3.5), subplot_kw={'projection': '3d'})\n",
    "\n",
    "for ax, xyz, c in [(ax1, xyz1, 'r'), (ax2, xyz2, 'b'), (ax3, xyz3, 'g')]:\n",
    "    ax.plot(xyz[:,0], xyz[:,1], xyz[:,2], c, alpha=0.5)\n",
    "    ax.set_xlabel('$x$', fontsize=16)\n",
    "    ax.set_ylabel('$y$', fontsize=16)\n",
    "    ax.set_zlabel('$z$', fontsize=16)\n",
    "    ax.set_xticks([-15, 0, 15])\n",
    "    ax.set_yticks([-20, 0, 20])\n",
    "    ax.set_zticks([0, 20, 40])\n",
    "\n",
    "fig.tight_layout()\n",
    "fig.savefig('cap9-ecuaciones_Lorentz.pdf')"
   ]
  },
  {
   "cell_type": "markdown",
   "metadata": {},
   "source": [
    "## Muelles acoplados y amortigüados"
   ]
  },
  {
   "cell_type": "markdown",
   "metadata": {},
   "source": [
    "Como ecuaciones de segundo orden:\n",
    "\n",
    "\\begin{eqnarray}\n",
    "m_1 x_1''(t) + \\gamma_1 x_1'(t) + k_1 (x_1(t) - l_1) - k_2 (x_2(t) - x_1(t) - l_2) &=& 0\\\\\n",
    "m_2 x_2''(t) + \\gamma_2 x_2' + k_2 (x_2 - x_1 - l_2) &=& 0\n",
    "\\end{eqnarray}\n",
    "\n",
    "O de forma estándard:\n",
    "\n",
    "\\begin{align}\n",
    "y_1'(t) &= y_2(t) \\\\\n",
    "y_2'(t) &= -\\gamma_1/m_1 y_2(t) - k_1/m_1 (y_1(t) - l_1) + k_2 (y_3(t) - y_1(t) - l_2)/m_1 \\\\\n",
    "y_3'(t) &= y_4(t) \\\\\n",
    "y_4'(t) &= - \\gamma_2 y_4(t)/m_2 - k_2 (y_3(t) - y_1(t) - l_2)/m_2 \\\\\n",
    "\\end{align}"
   ]
  },
  {
   "cell_type": "code",
   "execution_count": 117,
   "metadata": {},
   "outputs": [],
   "source": [
    "def f(t, y, args):\n",
    "    m1, k1, g1, m2, k2, g2 = args\n",
    "    \n",
    "    return [y[1], \n",
    "            - k1/m1 * y[0] + k2/m1 * (y[2] - y[0]) - g1/m1 * y[1], \n",
    "            y[3], \n",
    "            - k2/m2 * (y[2] - y[0]) - g2/m2 * y[3] ]"
   ]
  },
  {
   "cell_type": "code",
   "execution_count": 118,
   "metadata": {},
   "outputs": [],
   "source": [
    "m1, k1, g1 = 1.0, 10.0, 0.5"
   ]
  },
  {
   "cell_type": "code",
   "execution_count": 119,
   "metadata": {},
   "outputs": [],
   "source": [
    "m2, k2, g2 = 2.0, 40.0, 0.25"
   ]
  },
  {
   "cell_type": "code",
   "execution_count": 120,
   "metadata": {},
   "outputs": [],
   "source": [
    "args = (m1, k1, g1, m2, k2, g2)"
   ]
  },
  {
   "cell_type": "code",
   "execution_count": 121,
   "metadata": {},
   "outputs": [],
   "source": [
    "y0 = [1.0, 0, 0.5, 0]"
   ]
  },
  {
   "cell_type": "code",
   "execution_count": 122,
   "metadata": {},
   "outputs": [],
   "source": [
    "t = np.linspace(0, 20, 1000)"
   ]
  },
  {
   "cell_type": "code",
   "execution_count": 123,
   "metadata": {},
   "outputs": [],
   "source": [
    "r = integrate.ode(f)"
   ]
  },
  {
   "cell_type": "code",
   "execution_count": 124,
   "metadata": {},
   "outputs": [],
   "source": [
    "r.set_integrator('lsoda');"
   ]
  },
  {
   "cell_type": "code",
   "execution_count": 125,
   "metadata": {},
   "outputs": [],
   "source": [
    "r.set_initial_value(y0, t[0]);"
   ]
  },
  {
   "cell_type": "code",
   "execution_count": 126,
   "metadata": {},
   "outputs": [],
   "source": [
    "r.set_f_params(args);"
   ]
  },
  {
   "cell_type": "code",
   "execution_count": 127,
   "metadata": {},
   "outputs": [],
   "source": [
    "dt = t[1] - t[0]\n",
    "y = np.zeros((len(t), len(y0)))\n",
    "idx = 0\n",
    "while r.successful() and r.t < t[-1]:\n",
    "    y[idx, :] = r.y\n",
    "    r.integrate(r.t + dt)\n",
    "    idx += 1"
   ]
  },
  {
   "cell_type": "code",
   "execution_count": 128,
   "metadata": {},
   "outputs": [
    {
     "data": {
      "image/png": "[encoded data removed]",
      "text/plain": [
       "<Figure size 720x288 with 3 Axes>"
      ]
     },
     "metadata": {
      "needs_background": "light"
     },
     "output_type": "display_data"
    }
   ],
   "source": [
    "fig = plt.figure(figsize=(10, 4))\n",
    "ax1 = plt.subplot2grid((2, 5), (0, 0), colspan=3)\n",
    "ax2 = plt.subplot2grid((2, 5), (1, 0), colspan=3)\n",
    "ax3 = plt.subplot2grid((2, 5), (0, 3), colspan=2, rowspan=2)\n",
    "\n",
    "ax1.plot(t, y[:, 0], 'r')\n",
    "ax1.set_ylabel('$x_1$', fontsize=18)\n",
    "ax1.set_yticks([-1, -.5, 0, .5, 1])\n",
    "\n",
    "ax2.plot(t, y[:, 2], 'b')\n",
    "ax2.set_xlabel('$t$', fontsize=18)\n",
    "ax2.set_ylabel('$x_2$', fontsize=18)\n",
    "ax2.set_yticks([-1, -.5, 0, .5, 1])\n",
    "\n",
    "ax3.plot(y[:, 0], y[:, 2], 'k')\n",
    "ax3.set_xlabel('$x_1$', fontsize=18)\n",
    "ax3.set_ylabel('$x_2$', fontsize=18)\n",
    "ax3.set_xticks([-1, -.5, 0, .5, 1])\n",
    "ax3.set_yticks([-1, -.5, 0, .5, 1])\n",
    "\n",
    "fig.tight_layout()\n",
    "# fig.savefig('cap9-muelles-acoplados.pdf')"
   ]
  },
  {
   "cell_type": "markdown",
   "metadata": {},
   "source": [
    "#### Realicemos ahora el mismo cálculo anterior, pero especificando también el Jacobiano:"
   ]
  },
  {
   "cell_type": "code",
   "execution_count": 129,
   "metadata": {},
   "outputs": [],
   "source": [
    "def jac(t, y, args):\n",
    "    m1, k1, g1, m2, k2, g2 = args\n",
    "    \n",
    "    return [[0, 1, 0, 0], \n",
    "            [- k1/m1 - k2/m1, - g1/m1 * y[1], k2/m1, 0],\n",
    "            [0, 0, 1, 0],\n",
    "            [k2/m2, 0, - k2/m2, - g2/m2]]"
   ]
  },
  {
   "cell_type": "code",
   "execution_count": 130,
   "metadata": {},
   "outputs": [],
   "source": [
    "r = integrate.ode(f, jac).set_f_params(args).set_jac_params(args).set_initial_value(y0, t[0])"
   ]
  },
  {
   "cell_type": "code",
   "execution_count": 131,
   "metadata": {},
   "outputs": [],
   "source": [
    "dt = t[1] - t[0]\n",
    "y = np.zeros((len(t), len(y0)))\n",
    "idx = 0\n",
    "while r.successful() and r.t < t[-1]:\n",
    "    y[idx, :] = r.y\n",
    "    r.integrate(r.t + dt)\n",
    "    idx += 1"
   ]
  },
  {
   "cell_type": "code",
   "execution_count": 132,
   "metadata": {},
   "outputs": [
    {
     "data": {
      "image/png": "[encoded data removed]",
      "text/plain": [
       "<Figure size 720x288 with 3 Axes>"
      ]
     },
     "metadata": {
      "needs_background": "light"
     },
     "output_type": "display_data"
    }
   ],
   "source": [
    "fig = plt.figure(figsize=(10, 4))\n",
    "ax1 = plt.subplot2grid((2, 5), (0, 0), colspan=3)\n",
    "ax2 = plt.subplot2grid((2, 5), (1, 0), colspan=3)\n",
    "ax3 = plt.subplot2grid((2, 5), (0, 3), colspan=2, rowspan=2)\n",
    "\n",
    "ax1.plot(t, y[:, 0], 'r')\n",
    "ax1.set_ylabel('$x_1$', fontsize=18)\n",
    "ax1.set_yticks([-1, -.5, 0, .5, 1])\n",
    "\n",
    "ax2.plot(t, y[:, 2], 'b')\n",
    "ax2.set_xlabel('$t$', fontsize=18)\n",
    "ax2.set_ylabel('$x_2$', fontsize=18)\n",
    "ax2.set_yticks([-1, -.5, 0, .5, 1])\n",
    "\n",
    "ax3.plot(y[:, 0], y[:, 2], 'k')\n",
    "ax3.set_xlabel('$x_1$', fontsize=18)\n",
    "ax3.set_ylabel('$x_2$', fontsize=18)\n",
    "ax3.set_xticks([-1, -.5, 0, .5, 1])\n",
    "ax3.set_yticks([-1, -.5, 0, .5, 1])\n",
    "\n",
    "fig.tight_layout()"
   ]
  },
  {
   "cell_type": "markdown",
   "metadata": {},
   "source": [
    "### Mismos cálculos, pero usando previamente SymPy para definir el problema para SciPy"
   ]
  },
  {
   "cell_type": "code",
   "execution_count": 133,
   "metadata": {},
   "outputs": [],
   "source": [
    "L1 = L2 = 0\n",
    "t = sp.symbols(\"t\")\n",
    "m1, k1, b1 = sp.symbols(\"m_1, k_1, b_1\")\n",
    "m2, k2, b2 = sp.symbols(\"m_2, k_2, b_2\")"
   ]
  },
  {
   "cell_type": "code",
   "execution_count": 134,
   "metadata": {},
   "outputs": [],
   "source": [
    "x1 = sp.Function(\"x_1\")\n",
    "x2 = sp.Function(\"x_2\")"
   ]
  },
  {
   "cell_type": "code",
   "execution_count": 135,
   "metadata": {},
   "outputs": [],
   "source": [
    "ode1 = sp.Eq(m1 * x1(t).diff(t,t,) + b1 * x1(t).diff(t) + k1*(x1(t)-L1) - k2*(x2(t)-x1(t) - L2),0)"
   ]
  },
  {
   "cell_type": "code",
   "execution_count": 136,
   "metadata": {},
   "outputs": [],
   "source": [
    "ode2 = sp.Eq(m2 * x2(t).diff(t,t,) + b2 * x2(t).diff(t) + k2*(x2(t)-x1(t)-L2),0)"
   ]
  },
  {
   "cell_type": "code",
   "execution_count": 137,
   "metadata": {},
   "outputs": [],
   "source": [
    "params = {m1: 1.0, k1: 10.0, b1: 0.5,\n",
    "          m2: 2.0, k2: 40.0, b2: 0.25}"
   ]
  },
  {
   "cell_type": "code",
   "execution_count": 138,
   "metadata": {},
   "outputs": [
    {
     "data": {
      "text/plain": [
       "(1.0, 10.0, 0.5, 2.0, 40.0, 0.25)"
      ]
     },
     "execution_count": 138,
     "metadata": {},
     "output_type": "execute_result"
    }
   ],
   "source": [
    "args"
   ]
  },
  {
   "cell_type": "code",
   "execution_count": 139,
   "metadata": {},
   "outputs": [],
   "source": [
    "y1 = sp.Function(\"y_1\")\n",
    "y2 = sp.Function(\"y_2\")\n",
    "y3 = sp.Function(\"y_3\")\n",
    "y4 = sp.Function(\"y_4\")"
   ]
  },
  {
   "cell_type": "code",
   "execution_count": 140,
   "metadata": {},
   "outputs": [],
   "source": [
    "varchange = {x1(t).diff(t, t): y2(t).diff(t), \n",
    "             x1(t): y1(t),\n",
    "             x2(t).diff(t, t): y4(t).diff(t), \n",
    "             x2(t): y3(t)}"
   ]
  },
  {
   "cell_type": "code",
   "execution_count": 141,
   "metadata": {},
   "outputs": [
    {
     "data": {
      "text/plain": [
       "(b_1*Derivative(y_1(t), t) + k_1*y_1(t) - k_2*(-y_1(t) + y_3(t)) + m_1*Derivative(y_2(t), t),\n",
       " b_2*Derivative(y_3(t), t) + k_2*(-y_1(t) + y_3(t)) + m_2*Derivative(y_4(t), t))"
      ]
     },
     "execution_count": 141,
     "metadata": {},
     "output_type": "execute_result"
    }
   ],
   "source": [
    "(ode1.subs(varchange).lhs, ode2.subs(varchange).lhs)"
   ]
  },
  {
   "cell_type": "code",
   "execution_count": 142,
   "metadata": {},
   "outputs": [],
   "source": [
    "ode3 = y1(t).diff(t) - y2(t)"
   ]
  },
  {
   "cell_type": "code",
   "execution_count": 143,
   "metadata": {},
   "outputs": [],
   "source": [
    "ode4 = y3(t).diff(t) - y4(t)"
   ]
  },
  {
   "cell_type": "code",
   "execution_count": 144,
   "metadata": {},
   "outputs": [],
   "source": [
    "vcsol = sp.solve((ode1.subs(varchange), ode2.subs(varchange), ode3, ode4),\n",
    "                    (y1(t).diff(t), y2(t).diff(t), y3(t).diff(t), y4(t).diff(t)))"
   ]
  },
  {
   "cell_type": "code",
   "execution_count": 145,
   "metadata": {},
   "outputs": [
    {
     "data": {
      "text/plain": [
       "{Derivative(y_1(t), t): y_2(t),\n",
       " Derivative(y_2(t), t): -b_1*y_2(t)/m_1 - k_1*y_1(t)/m_1 - k_2*y_1(t)/m_1 + k_2*y_3(t)/m_1,\n",
       " Derivative(y_3(t), t): y_4(t),\n",
       " Derivative(y_4(t), t): -b_2*y_4(t)/m_2 + k_2*y_1(t)/m_2 - k_2*y_3(t)/m_2}"
      ]
     },
     "execution_count": 145,
     "metadata": {},
     "output_type": "execute_result"
    }
   ],
   "source": [
    "vcsol"
   ]
  },
  {
   "cell_type": "code",
   "execution_count": 146,
   "metadata": {},
   "outputs": [],
   "source": [
    "ode_rhs = sp.Matrix([y1(t).diff(t), y2(t).diff(t), y3(t).diff(t), y4(t).diff(t)]).subs(vcsol)"
   ]
  },
  {
   "cell_type": "code",
   "execution_count": 147,
   "metadata": {},
   "outputs": [],
   "source": [
    "y = sp.Matrix([y1(t), y2(t), y3(t), y4(t)])"
   ]
  },
  {
   "cell_type": "code",
   "execution_count": 148,
   "metadata": {},
   "outputs": [
    {
     "data": {
      "text/latex": [
       "$\\displaystyle \\left[\\begin{matrix}\\frac{d}{d t} \\operatorname{y_{1}}{\\left(t \\right)}\\\\\\frac{d}{d t} \\operatorname{y_{2}}{\\left(t \\right)}\\\\\\frac{d}{d t} \\operatorname{y_{3}}{\\left(t \\right)}\\\\\\frac{d}{d t} \\operatorname{y_{4}}{\\left(t \\right)}\\end{matrix}\\right] = \\left[\\begin{matrix}\\operatorname{y_{2}}{\\left(t \\right)}\\\\- \\frac{b_{1} \\operatorname{y_{2}}{\\left(t \\right)}}{m_{1}} - \\frac{k_{1} \\operatorname{y_{1}}{\\left(t \\right)}}{m_{1}} - \\frac{k_{2} \\operatorname{y_{1}}{\\left(t \\right)}}{m_{1}} + \\frac{k_{2} \\operatorname{y_{3}}{\\left(t \\right)}}{m_{1}}\\\\\\operatorname{y_{4}}{\\left(t \\right)}\\\\- \\frac{b_{2} \\operatorname{y_{4}}{\\left(t \\right)}}{m_{2}} + \\frac{k_{2} \\operatorname{y_{1}}{\\left(t \\right)}}{m_{2}} - \\frac{k_{2} \\operatorname{y_{3}}{\\left(t \\right)}}{m_{2}}\\end{matrix}\\right]$"
      ],
      "text/plain": [
       "Eq(Matrix([\n",
       "[Derivative(y_1(t), t)],\n",
       "[Derivative(y_2(t), t)],\n",
       "[Derivative(y_3(t), t)],\n",
       "[Derivative(y_4(t), t)]]), Matrix([\n",
       "[                                                            y_2(t)],\n",
       "[-b_1*y_2(t)/m_1 - k_1*y_1(t)/m_1 - k_2*y_1(t)/m_1 + k_2*y_3(t)/m_1],\n",
       "[                                                            y_4(t)],\n",
       "[                 -b_2*y_4(t)/m_2 + k_2*y_1(t)/m_2 - k_2*y_3(t)/m_2]]))"
      ]
     },
     "execution_count": 148,
     "metadata": {},
     "output_type": "execute_result"
    }
   ],
   "source": [
    "sp.Eq(y.diff(t), ode_rhs)"
   ]
  },
  {
   "cell_type": "code",
   "execution_count": 149,
   "metadata": {},
   "outputs": [],
   "source": [
    "f_np = sp.lambdify((t, y), ode_rhs.subs(params), 'numpy')"
   ]
  },
  {
   "cell_type": "code",
   "execution_count": 150,
   "metadata": {},
   "outputs": [],
   "source": [
    "y0 = [1.0, 0, 0.5, 0]\n",
    "t = np.linspace(0, 20, 1000)\n",
    "\n",
    "r = integrate.ode(f_np)\n",
    "r.set_integrator('lsoda');\n",
    "r.set_initial_value(y0, t[0]);\n",
    "\n",
    "dt = t[1] - t[0]\n",
    "y = np.zeros((len(t), len(y0)))\n",
    "idx = 0\n",
    "while r.successful() and r.t < t[-1]:\n",
    "    y[idx, :] = r.y\n",
    "    r.integrate(r.t + dt)\n",
    "    idx += 1"
   ]
  },
  {
   "cell_type": "code",
   "execution_count": 151,
   "metadata": {},
   "outputs": [
    {
     "data": {
      "image/png": "[encoded data removed]",
      "text/plain": [
       "<Figure size 720x288 with 3 Axes>"
      ]
     },
     "metadata": {
      "needs_background": "light"
     },
     "output_type": "display_data"
    }
   ],
   "source": [
    "fig = plt.figure(figsize=(10, 4))\n",
    "ax1 = plt.subplot2grid((2, 5), (0, 0), colspan=3)\n",
    "ax2 = plt.subplot2grid((2, 5), (1, 0), colspan=3)\n",
    "ax3 = plt.subplot2grid((2, 5), (0, 3), colspan=2, rowspan=2)\n",
    "\n",
    "ax1.plot(t, y[:, 0], 'r')\n",
    "ax1.set_ylabel('$x_1$', fontsize=18)\n",
    "ax1.set_yticks([-1, -.5, 0, .5, 1])\n",
    "\n",
    "ax2.plot(t, y[:, 2], 'b')\n",
    "ax2.set_xlabel('$t$', fontsize=18)\n",
    "ax2.set_ylabel('$x_2$', fontsize=18)\n",
    "ax2.set_yticks([-1, -.5, 0, .5, 1])\n",
    "\n",
    "ax3.plot(y[:, 0], y[:, 2], 'k')\n",
    "ax3.set_xlabel('$x_1$', fontsize=18)\n",
    "ax3.set_ylabel('$x_2$', fontsize=18)\n",
    "ax3.set_xticks([-1, -.5, 0, .5, 1])\n",
    "ax3.set_yticks([-1, -.5, 0, .5, 1])\n",
    "\n",
    "fig.tight_layout()"
   ]
  },
  {
   "cell_type": "markdown",
   "metadata": {},
   "source": [
    "## Doble péndulo"
   ]
  },
  {
   "cell_type": "markdown",
   "metadata": {},
   "source": [
    "http://scienceworld.wolfram.com/physics/DoublePendulum.html"
   ]
  },
  {
   "cell_type": "markdown",
   "metadata": {},
   "source": [
    "$$\n",
    "(m_1+m_2) l_1\\theta_1'' + m_2l_2\\theta_2''\\cos(\\theta_1-\\theta_2)\n",
    "+ m_2l_2(\\theta_2')^2\\sin(\\theta_1-\\theta_2)+g(m_1+m_2)\\sin(\\theta_1) = 0\n",
    "$$\n",
    "\n",
    "$$\n",
    "m_2l_2\\theta_2'' + m_2l_1\\theta_1''\\cos(\\theta_1-\\theta_2) - m_2l_1 (\\theta_1')^2 \\sin(\\theta_1-\\theta_2)\n",
    "+m_2g\\sin(\\theta_2) = 0\n",
    "$$"
   ]
  },
  {
   "cell_type": "code",
   "execution_count": 152,
   "metadata": {},
   "outputs": [],
   "source": [
    "t, g, m1, l1, m2, l2 = sp.symbols(\"t, g, m_1, l_1, m_2, l_2\")"
   ]
  },
  {
   "cell_type": "code",
   "execution_count": 153,
   "metadata": {},
   "outputs": [],
   "source": [
    "theta1, theta2 = sp.symbols(\"theta_1, theta_2\", cls=sp.Function)"
   ]
  },
  {
   "cell_type": "code",
   "execution_count": 154,
   "metadata": {},
   "outputs": [
    {
     "data": {
      "text/latex": [
       "$\\displaystyle g \\left(m_{1} + m_{2}\\right) \\sin{\\left(\\theta_{1}{\\left(t \\right)} \\right)} + l_{1} \\left(m_{1} + m_{2}\\right) \\frac{d^{2}}{d t^{2}} \\theta_{1}{\\left(t \\right)} + l_{2} m_{2} \\sin{\\left(\\theta_{1}{\\left(t \\right)} - \\theta_{2}{\\left(t \\right)} \\right)} \\left(\\frac{d}{d t} \\theta_{2}{\\left(t \\right)}\\right)^{2} + l_{2} m_{2} \\frac{d^{2}}{d t^{2}} \\theta_{2}{\\left(t \\right)} = 0$"
      ],
      "text/plain": [
       "Eq(g*(m_1 + m_2)*sin(theta_1(t)) + l_1*(m_1 + m_2)*Derivative(theta_1(t), (t, 2)) + l_2*m_2*sin(theta_1(t) - theta_2(t))*Derivative(theta_2(t), t)**2 + l_2*m_2*Derivative(theta_2(t), (t, 2)), 0)"
      ]
     },
     "execution_count": 154,
     "metadata": {},
     "output_type": "execute_result"
    }
   ],
   "source": [
    "ode1 = sp.Eq((m1+m2)*l1 * theta1(t).diff(t,t) +\n",
    "                m2*l2 * theta2(t).diff(t,t) +\n",
    "                m2*l2 * theta2(t).diff(t)**2 * sp.sin(theta1(t)-theta2(t)) + \n",
    "                g*(m1+m2) * sp.sin(theta1(t)),0)\n",
    "ode1"
   ]
  },
  {
   "cell_type": "code",
   "execution_count": 155,
   "metadata": {},
   "outputs": [
    {
     "data": {
      "text/latex": [
       "$\\displaystyle g m_{2} \\sin{\\left(\\theta_{2}{\\left(t \\right)} \\right)} - l_{1} m_{2} \\sin{\\left(\\theta_{1}{\\left(t \\right)} - \\theta_{2}{\\left(t \\right)} \\right)} \\left(\\frac{d}{d t} \\theta_{1}{\\left(t \\right)}\\right)^{2} + l_{1} m_{2} \\cos{\\left(\\theta_{1}{\\left(t \\right)} - \\theta_{2}{\\left(t \\right)} \\right)} \\frac{d^{2}}{d t^{2}} \\theta_{1}{\\left(t \\right)} + l_{2} m_{2} \\frac{d^{2}}{d t^{2}} \\theta_{2}{\\left(t \\right)} = 0$"
      ],
      "text/plain": [
       "Eq(g*m_2*sin(theta_2(t)) - l_1*m_2*sin(theta_1(t) - theta_2(t))*Derivative(theta_1(t), t)**2 + l_1*m_2*cos(theta_1(t) - theta_2(t))*Derivative(theta_1(t), (t, 2)) + l_2*m_2*Derivative(theta_2(t), (t, 2)), 0)"
      ]
     },
     "execution_count": 155,
     "metadata": {},
     "output_type": "execute_result"
    }
   ],
   "source": [
    "ode2 = sp.Eq(m2*l2 * theta2(t).diff(t,t) +\n",
    "                m2*l1 * theta1(t).diff(t,t) * sp.cos(theta1(t)-theta2(t)) -\n",
    "                m2*l1 * theta1(t).diff(t)**2 * sp.sin(theta1(t) - theta2(t)) +\n",
    "                m2*g * sp.sin(theta2(t)),0)\n",
    "ode2"
   ]
  },
  {
   "cell_type": "code",
   "execution_count": 156,
   "metadata": {},
   "outputs": [
    {
     "name": "stdout",
     "output_type": "stream",
     "text": [
      "cannot determine truth value of Relational\n"
     ]
    }
   ],
   "source": [
    "# Esto resultará infructuoso, ya que Sympy no puede resolver simbólicamente estas EDOs\n",
    "try:\n",
    "    sp.dsolve(ode1, ode2)\n",
    "except Exception as e:\n",
    "    print(e)"
   ]
  },
  {
   "cell_type": "code",
   "execution_count": 157,
   "metadata": {},
   "outputs": [],
   "source": [
    "y1, y2, y3, y4 = sp.symbols(\"y_1, y_2, y_3, y_4\", cls=sp.Function)"
   ]
  },
  {
   "cell_type": "code",
   "execution_count": 158,
   "metadata": {},
   "outputs": [],
   "source": [
    "varchange = {theta1(t).diff(t, t): y2(t).diff(t), \n",
    "             theta1(t): y1(t),\n",
    "             theta2(t).diff(t, t): y4(t).diff(t), \n",
    "             theta2(t): y3(t)}"
   ]
  },
  {
   "cell_type": "code",
   "execution_count": 159,
   "metadata": {},
   "outputs": [],
   "source": [
    "ode1_vc = ode1.subs(varchange)"
   ]
  },
  {
   "cell_type": "code",
   "execution_count": 160,
   "metadata": {},
   "outputs": [],
   "source": [
    "ode2_vc = ode2.subs(varchange)"
   ]
  },
  {
   "cell_type": "code",
   "execution_count": 161,
   "metadata": {},
   "outputs": [],
   "source": [
    "ode3 = y1(t).diff(t) - y2(t)"
   ]
  },
  {
   "cell_type": "code",
   "execution_count": 162,
   "metadata": {},
   "outputs": [],
   "source": [
    "ode4 = y3(t).diff(t) - y4(t)"
   ]
  },
  {
   "cell_type": "code",
   "execution_count": 163,
   "metadata": {},
   "outputs": [],
   "source": [
    "y = sp.Matrix([y1(t), y2(t), y3(t), y4(t)])"
   ]
  },
  {
   "cell_type": "code",
   "execution_count": 164,
   "metadata": {},
   "outputs": [],
   "source": [
    "vcsol = sp.solve((ode1_vc, ode2_vc, ode3, ode4), y.diff(t), dict=True)"
   ]
  },
  {
   "cell_type": "code",
   "execution_count": 165,
   "metadata": {},
   "outputs": [],
   "source": [
    "f = y.diff(t).subs(vcsol[0])"
   ]
  },
  {
   "cell_type": "code",
   "execution_count": 166,
   "metadata": {},
   "outputs": [
    {
     "data": {
      "text/latex": [
       "$\\displaystyle \\left[\\begin{matrix}\\frac{d}{d t} \\operatorname{y_{1}}{\\left(t \\right)}\\\\\\frac{d}{d t} \\operatorname{y_{2}}{\\left(t \\right)}\\\\\\frac{d}{d t} \\operatorname{y_{3}}{\\left(t \\right)}\\\\\\frac{d}{d t} \\operatorname{y_{4}}{\\left(t \\right)}\\end{matrix}\\right] = \\left[\\begin{matrix}\\operatorname{y_{2}}{\\left(t \\right)}\\\\\\frac{- g m_{1} \\sin{\\left(\\operatorname{y_{1}}{\\left(t \\right)} \\right)} - g m_{2} \\sin{\\left(\\operatorname{y_{1}}{\\left(t \\right)} \\right)} + g m_{2} \\sin{\\left(\\operatorname{y_{3}}{\\left(t \\right)} \\right)} - l_{1} m_{2} \\operatorname{y_{2}}^{2}{\\left(t \\right)} \\sin{\\left(\\operatorname{y_{1}}{\\left(t \\right)} - \\operatorname{y_{3}}{\\left(t \\right)} \\right)} - l_{2} m_{2} \\operatorname{y_{4}}^{2}{\\left(t \\right)} \\sin{\\left(\\operatorname{y_{1}}{\\left(t \\right)} - \\operatorname{y_{3}}{\\left(t \\right)} \\right)}}{l_{1} \\left(m_{1} - m_{2} \\cos{\\left(\\operatorname{y_{1}}{\\left(t \\right)} - \\operatorname{y_{3}}{\\left(t \\right)} \\right)} + m_{2}\\right)}\\\\\\operatorname{y_{4}}{\\left(t \\right)}\\\\\\frac{g m_{1} \\sin{\\left(2 \\operatorname{y_{1}}{\\left(t \\right)} - \\operatorname{y_{3}}{\\left(t \\right)} \\right)} - g m_{1} \\sin{\\left(\\operatorname{y_{3}}{\\left(t \\right)} \\right)} + g m_{2} \\sin{\\left(2 \\operatorname{y_{1}}{\\left(t \\right)} - \\operatorname{y_{3}}{\\left(t \\right)} \\right)} - g m_{2} \\sin{\\left(\\operatorname{y_{3}}{\\left(t \\right)} \\right)} + 2 l_{1} m_{1} \\operatorname{y_{2}}^{2}{\\left(t \\right)} \\sin{\\left(\\operatorname{y_{1}}{\\left(t \\right)} - \\operatorname{y_{3}}{\\left(t \\right)} \\right)} + 2 l_{1} m_{2} \\operatorname{y_{2}}^{2}{\\left(t \\right)} \\sin{\\left(\\operatorname{y_{1}}{\\left(t \\right)} - \\operatorname{y_{3}}{\\left(t \\right)} \\right)} + l_{2} m_{2} \\operatorname{y_{4}}^{2}{\\left(t \\right)} \\sin{\\left(2 \\operatorname{y_{1}}{\\left(t \\right)} - 2 \\operatorname{y_{3}}{\\left(t \\right)} \\right)}}{2 l_{2} \\left(m_{1} - m_{2} \\cos{\\left(\\operatorname{y_{1}}{\\left(t \\right)} - \\operatorname{y_{3}}{\\left(t \\right)} \\right)} + m_{2}\\right)}\\end{matrix}\\right]$"
      ],
      "text/plain": [
       "Eq(Matrix([\n",
       "[Derivative(y_1(t), t)],\n",
       "[Derivative(y_2(t), t)],\n",
       "[Derivative(y_3(t), t)],\n",
       "[Derivative(y_4(t), t)]]), Matrix([\n",
       "[                                                                                                                                                                                                                                                                                 y_2(t)],\n",
       "[                                                                                            (-g*m_1*sin(y_1(t)) - g*m_2*sin(y_1(t)) + g*m_2*sin(y_3(t)) - l_1*m_2*y_2(t)**2*sin(y_1(t) - y_3(t)) - l_2*m_2*y_4(t)**2*sin(y_1(t) - y_3(t)))/(l_1*(m_1 - m_2*cos(y_1(t) - y_3(t)) + m_2))],\n",
       "[                                                                                                                                                                                                                                                                                 y_4(t)],\n",
       "[(g*m_1*sin(2*y_1(t) - y_3(t)) - g*m_1*sin(y_3(t)) + g*m_2*sin(2*y_1(t) - y_3(t)) - g*m_2*sin(y_3(t)) + 2*l_1*m_1*y_2(t)**2*sin(y_1(t) - y_3(t)) + 2*l_1*m_2*y_2(t)**2*sin(y_1(t) - y_3(t)) + l_2*m_2*y_4(t)**2*sin(2*y_1(t) - 2*y_3(t)))/(2*l_2*(m_1 - m_2*cos(y_1(t) - y_3(t)) + m_2))]]))"
      ]
     },
     "execution_count": 166,
     "metadata": {},
     "output_type": "execute_result"
    }
   ],
   "source": [
    "sp.Eq(y.diff(t), f)"
   ]
  },
  {
   "cell_type": "code",
   "execution_count": 167,
   "metadata": {},
   "outputs": [],
   "source": [
    "params = {m1: 5.0, l1: 2.0,\n",
    "          m2: 1.0, l2: 1.0, g: 10.0}"
   ]
  },
  {
   "cell_type": "code",
   "execution_count": 168,
   "metadata": {},
   "outputs": [],
   "source": [
    "f_np = sp.lambdify((t, y), f.subs(params), 'numpy')"
   ]
  },
  {
   "cell_type": "code",
   "execution_count": 169,
   "metadata": {},
   "outputs": [],
   "source": [
    "jac = sp.Matrix([[fj.diff(yi) for yi in y] for fj in f])"
   ]
  },
  {
   "cell_type": "code",
   "execution_count": 170,
   "metadata": {},
   "outputs": [],
   "source": [
    "jac_np = sp.lambdify((t, y), jac.subs(params), 'numpy')"
   ]
  },
  {
   "cell_type": "code",
   "execution_count": 171,
   "metadata": {},
   "outputs": [],
   "source": [
    "y0 = [2.0, 0, 0.0, 0]"
   ]
  },
  {
   "cell_type": "code",
   "execution_count": 172,
   "metadata": {},
   "outputs": [],
   "source": [
    "t = np.linspace(0, 20, 1000)"
   ]
  },
  {
   "cell_type": "code",
   "execution_count": 173,
   "metadata": {},
   "outputs": [
    {
     "data": {
      "text/plain": [
       "array([[ 0.        ,  1.        ,  0.        ,  0.        ],\n",
       "       [ 2.54831741, -0.        ,  0.1767457 , -0.        ],\n",
       "       [ 0.        ,  0.        ,  0.        ,  1.        ],\n",
       "       [-5.61099875,  0.        , -2.12094846, -0.        ]])"
      ]
     },
     "execution_count": 173,
     "metadata": {},
     "output_type": "execute_result"
    }
   ],
   "source": [
    "jac_np(0, y0)"
   ]
  },
  {
   "cell_type": "code",
   "execution_count": 174,
   "metadata": {},
   "outputs": [],
   "source": [
    "r = integrate.ode(f_np, jac_np).set_initial_value(y0, t[0]);\n",
    " \n",
    "dt = t[1] - t[0]\n",
    "y = np.zeros((len(t), len(y0)))\n",
    "idx = 0\n",
    "while r.successful() and r.t < t[-1]:\n",
    "    y[idx, :] = r.y\n",
    "    r.integrate(r.t + dt)\n",
    "    idx += 1"
   ]
  },
  {
   "cell_type": "code",
   "execution_count": 175,
   "metadata": {},
   "outputs": [
    {
     "data": {
      "image/png": "[encoded data removed]",
      "text/plain": [
       "<Figure size 720x288 with 3 Axes>"
      ]
     },
     "metadata": {
      "needs_background": "light"
     },
     "output_type": "display_data"
    }
   ],
   "source": [
    "fig = plt.figure(figsize=(10, 4))\n",
    "ax1 = plt.subplot2grid((2, 5), (0, 0), colspan=3)\n",
    "ax2 = plt.subplot2grid((2, 5), (1, 0), colspan=3)\n",
    "ax3 = plt.subplot2grid((2, 5), (0, 3), colspan=2, rowspan=2)\n",
    "\n",
    "ax1.plot(t, y[:, 0], 'r')\n",
    "ax1.set_ylabel(r'$\\theta_1$', fontsize=18)\n",
    "\n",
    "ax2.plot(t, y[:, 2], 'b')\n",
    "ax2.set_xlabel('$t$', fontsize=18)\n",
    "ax2.set_ylabel(r'$\\theta_2$', fontsize=18)\n",
    "\n",
    "ax3.plot(y[:, 0], y[:, 2], 'k')\n",
    "ax3.set_xlabel(r'$\\theta_1$', fontsize=18)\n",
    "ax3.set_ylabel(r'$\\theta_2$', fontsize=18)\n",
    "\n",
    "fig.tight_layout()"
   ]
  },
  {
   "cell_type": "code",
   "execution_count": 176,
   "metadata": {},
   "outputs": [],
   "source": [
    "theta1_np, theta2_np = y[:, 0], y[:, 2]"
   ]
  },
  {
   "cell_type": "code",
   "execution_count": 177,
   "metadata": {},
   "outputs": [],
   "source": [
    "x1 = params[l1] * np.sin(theta1_np)\n",
    "y1 = -params[l1] * np.cos(theta1_np)\n",
    "x2 = x1 + params[l2] * np.sin(theta2_np)\n",
    "y2 = y1 - params[l2] * np.cos(theta2_np)"
   ]
  },
  {
   "cell_type": "code",
   "execution_count": 178,
   "metadata": {},
   "outputs": [
    {
     "data": {
      "image/png": "[encoded data removed]",
      "text/plain": [
       "<Figure size 720x288 with 3 Axes>"
      ]
     },
     "metadata": {
      "needs_background": "light"
     },
     "output_type": "display_data"
    }
   ],
   "source": [
    "fig = plt.figure(figsize=(10, 4))\n",
    "ax1 = plt.subplot2grid((2, 5), (0, 0), colspan=3)\n",
    "ax2 = plt.subplot2grid((2, 5), (1, 0), colspan=3)\n",
    "ax3 = plt.subplot2grid((2, 5), (0, 3), colspan=2, rowspan=2)\n",
    "\n",
    "ax1.plot(t, x1, 'r')\n",
    "ax1.plot(t, y1, 'b')\n",
    "ax1.set_ylabel('$x_1, y_1$', fontsize=18)\n",
    "ax1.set_yticks([-3, 0, 3])\n",
    "\n",
    "ax2.plot(t, x2, 'r')\n",
    "ax2.plot(t, y2, 'b')\n",
    "ax2.set_xlabel('$t$', fontsize=18)\n",
    "ax2.set_ylabel('$x_2, y_2$', fontsize=18)\n",
    "ax2.set_yticks([-3, 0, 3])\n",
    "\n",
    "ax3.plot(x1, y1, 'r')\n",
    "ax3.plot(x2, y2, 'b', lw=0.5)\n",
    "ax3.set_xlabel('$x$', fontsize=18)\n",
    "ax3.set_ylabel('$y$', fontsize=18)\n",
    "ax3.set_xticks([-3, 0, 3])\n",
    "ax3.set_yticks([-3, 0, 3])\n",
    "\n",
    "fig.tight_layout()\n",
    "# fig.savefig('ch9-double-pendulum.pdf')"
   ]
  },
  {
   "cell_type": "markdown",
   "metadata": {},
   "source": [
    "## Versiones"
   ]
  },
  {
   "cell_type": "code",
   "execution_count": 179,
   "metadata": {},
   "outputs": [],
   "source": [
    "%reload_ext version_information"
   ]
  },
  {
   "cell_type": "code",
   "execution_count": 180,
   "metadata": {},
   "outputs": [
    {
     "data": {
      "application/json": {
       "Software versions": [
        {
         "module": "Python",
         "version": "3.9.7 64bit [MSC v.1916 64 bit (AMD64)]"
        },
        {
         "module": "IPython",
         "version": "7.31.1"
        },
        {
         "module": "OS",
         "version": "Windows 10 10.0.19043 SP0"
        },
        {
         "module": "numpy",
         "version": "1.20.3"
        },
        {
         "module": "scipy",
         "version": "1.7.3"
        },
        {
         "module": "sympy",
         "version": "1.9"
        },
        {
         "module": "matplotlib",
         "version": "3.5.1"
        }
       ]
      },
      "text/html": [
       "<table><tr><th>Software</th><th>Version</th></tr><tr><td>Python</td><td>3.9.7 64bit [MSC v.1916 64 bit (AMD64)]</td></tr><tr><td>IPython</td><td>7.31.1</td></tr><tr><td>OS</td><td>Windows 10 10.0.19043 SP0</td></tr><tr><td>numpy</td><td>1.20.3</td></tr><tr><td>scipy</td><td>1.7.3</td></tr><tr><td>sympy</td><td>1.9</td></tr><tr><td>matplotlib</td><td>3.5.1</td></tr><tr><td colspan='2'>Mon May 30 15:12:48 2022 Hora de verano romance</td></tr></table>"
      ],
      "text/latex": [
       "\\begin{tabular}{|l|l|}\\hline\n",
       "{\\bf Software} & {\\bf Version} \\\\ \\hline\\hline\n",
       "Python & 3.9.7 64bit [MSC v.1916 64 bit (AMD64)] \\\\ \\hline\n",
       "IPython & 7.31.1 \\\\ \\hline\n",
       "OS & Windows 10 10.0.19043 SP0 \\\\ \\hline\n",
       "numpy & 1.20.3 \\\\ \\hline\n",
       "scipy & 1.7.3 \\\\ \\hline\n",
       "sympy & 1.9 \\\\ \\hline\n",
       "matplotlib & 3.5.1 \\\\ \\hline\n",
       "\\hline \\multicolumn{2}{|l|}{Mon May 30 15:12:48 2022 Hora de verano romance} \\\\ \\hline\n",
       "\\end{tabular}\n"
      ],
      "text/plain": [
       "Software versions\n",
       "Python 3.9.7 64bit [MSC v.1916 64 bit (AMD64)]\n",
       "IPython 7.31.1\n",
       "OS Windows 10 10.0.19043 SP0\n",
       "numpy 1.20.3\n",
       "scipy 1.7.3\n",
       "sympy 1.9\n",
       "matplotlib 3.5.1\n",
       "Mon May 30 15:12:48 2022 Hora de verano romance"
      ]
     },
     "execution_count": 180,
     "metadata": {},
     "output_type": "execute_result"
    }
   ],
   "source": [
    "%version_information numpy, scipy, sympy, matplotlib"
   ]
  }
 ],
 "metadata": {
  "anaconda-cloud": {},
  "kernelspec": {
   "display_name": "Python 3 (ipykernel)",
   "language": "python",
   "name": "python3"
  },
  "language_info": {
   "codemirror_mode": {
    "name": "ipython",
    "version": 3
   },
   "file_extension": ".py",
   "mimetype": "text/x-python",
   "name": "python",
   "nbconvert_exporter": "python",
   "pygments_lexer": "ipython3",
   "version": "3.9.7"
  }
 },
 "nbformat": 4,
 "nbformat_minor": 1
}
