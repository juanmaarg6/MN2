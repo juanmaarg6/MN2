{
 "cells": [
  {
   "cell_type": "markdown",
   "id": "ee239392",
   "metadata": {},
   "source": [
    "## Métodos Numéricos II: Ejercicios Práctica 3"
   ]
  },
  {
   "cell_type": "markdown",
   "id": "67d38d8b",
   "metadata": {},
   "source": [
    "#### Autor: Juan Manuel Rodríguez Gómez"
   ]
  },
  {
   "cell_type": "code",
   "execution_count": 1,
   "id": "448aab60",
   "metadata": {},
   "outputs": [],
   "source": [
    "import sympy as sp\n",
    "\n",
    "import numpy as np\n",
    "\n",
    "from tabulate import tabulate # Si no se encuentra el módulo, hacer \"conda install tabulate\" en la consola con el actual\n",
    "                              # environment activado (se puede abrir desde Anaconda)"
   ]
  },
  {
   "cell_type": "markdown",
   "id": "2f43ce98",
   "metadata": {},
   "source": [
    "## Métodos de Euler\n",
    "\n",
    "#### 1. Repita las aproximaciones anteriores con diferentes valores de $N$ (y por tanto de $h$) y compruebe el efecto en cuanto a mayor o menor precisión, estabilidad y coste computacional."
   ]
  },
  {
   "cell_type": "code",
   "execution_count": 2,
   "id": "7c4d38ef",
   "metadata": {},
   "outputs": [],
   "source": [
    "t, z = sp.symbols('t, z')\n",
    "\n",
    "def f(t,z):\n",
    "    return z # Ecuacion y'(t)=y(t) ( la solución exacta es exp(t) )"
   ]
  },
  {
   "cell_type": "code",
   "execution_count": 3,
   "id": "6ce180be",
   "metadata": {},
   "outputs": [],
   "source": [
    "def euler_explicito(F,x0,y0,xfinal,N):\n",
    "    ''' método de Euler explicito para resolver el PVI\n",
    "    X,Y     = euler_explicito(F,x0,y0,xfinal,N).\n",
    "    {y}'    = {F(x,{y})}, donde\n",
    "    {y}     = {y[0],y[1],...y[N-1]}.\n",
    "    x0,y0   = condiciones iniciales \n",
    "    xfinal  = valor final de la variable x\n",
    "    h       = incremento de x usado para la integración\n",
    "    F       = función suplida por el usuario que devuelve \n",
    "            el array F(x,y) = {y'[0],y'[1],...,y'[N-1]}.\n",
    "    '''\n",
    "    X = np.linspace(x0,xfinal,N+1)\n",
    "    Y = [y0]\n",
    "    h = (xfinal-x0)/N\n",
    "    \n",
    "    for n in range(N):\n",
    "        Y.append(Y[n] + h*F(X[n],Y[n]))\n",
    "        \n",
    "    return np.array(X),np.array(Y)"
   ]
  },
  {
   "cell_type": "code",
   "execution_count": 4,
   "id": "06ffa06b",
   "metadata": {},
   "outputs": [],
   "source": [
    "a = 0; b = 1   # Extremos inferior y superior del intervalo \n",
    "ya = 1          # Condición inicial del PVI"
   ]
  },
  {
   "cell_type": "code",
   "execution_count": 5,
   "id": "3ae6bb6e",
   "metadata": {},
   "outputs": [
    {
     "name": "stdout",
     "output_type": "stream",
     "text": [
      "30.4 µs ± 500 ns per loop (mean ± std. dev. of 7 runs, 10000 loops each)\n"
     ]
    }
   ],
   "source": [
    "%%timeit # Veamos cuánto tarda en ejecutarse para N = 10\n",
    "N = 10\n",
    "xx, yEulerexpl= euler_explicito(f,a,ya, b, N)"
   ]
  },
  {
   "cell_type": "code",
   "execution_count": 6,
   "id": "6b720417",
   "metadata": {},
   "outputs": [
    {
     "name": "stdout",
     "output_type": "stream",
     "text": [
      "64.1 µs ± 6.19 µs per loop (mean ± std. dev. of 7 runs, 10000 loops each)\n"
     ]
    }
   ],
   "source": [
    "%%timeit # Veamos cuánto tarda en ejecutarse para N = 100\n",
    "N = 100\n",
    "xx, yEulerexpl= euler_explicito(f,a,ya, b, N)"
   ]
  },
  {
   "cell_type": "code",
   "execution_count": 7,
   "id": "d8bafa4b",
   "metadata": {},
   "outputs": [
    {
     "name": "stdout",
     "output_type": "stream",
     "text": [
      "341 µs ± 4.16 µs per loop (mean ± std. dev. of 7 runs, 1000 loops each)\n"
     ]
    }
   ],
   "source": [
    "%%timeit # Veamos cuánto tarda en ejecutarse para N = 1000\n",
    "N = 1000\n",
    "xx, yEulerexpl= euler_explicito(f,a,ya, b, N)"
   ]
  },
  {
   "cell_type": "markdown",
   "id": "4facee81",
   "metadata": {},
   "source": [
    "Como era de esperar, a mayor N, mayor tiempo de cómputo (esto ocurre así también con el resto de métodos)"
   ]
  },
  {
   "cell_type": "code",
   "execution_count": 8,
   "id": "72c0c8c4",
   "metadata": {},
   "outputs": [],
   "source": [
    "def euler_implicito(F,x0,y0,xfinal,N):\n",
    "    ''' método de Euler implicito para resolver el PVI\n",
    "    X,Y     = euler_implicito(F,x0,y0,xfinal,N).\n",
    "    {y}'    = {F(x,{y})}, donde\n",
    "    {y}     = {y[0],y[1],...y[N-1]}.\n",
    "    x0,y0   = condiciones iniciales \n",
    "    xfinal  = valor final de la variable x\n",
    "    h       = incremento de x usado para la integración\n",
    "    F       = función suplida por el usuario que devuelve \n",
    "            el array F(x,y) = {y'[0],y'[1],...,y'[N-1]}.\n",
    "    '''\n",
    "    X = np.linspace(x0,xfinal,N+1)\n",
    "    Y = [y0]\n",
    "    h = (xfinal-x0)/N\n",
    "    \n",
    "    y1 = sp.Symbol('y1') # Usaremos esta variable como incógnita de la ecuación a resolver en cada iteración\n",
    "    \n",
    "    for n in range(N):   \n",
    "        Y.append(sp.solve(Y[n]+h*F(X[n+1],y1)-y1,y1)[0]) # y1 es yn+1, lo demas es resultado de despejar\n",
    "        \n",
    "    return np.array(X),np.array(Y)"
   ]
  },
  {
   "cell_type": "code",
   "execution_count": 9,
   "id": "3a10c6a9",
   "metadata": {},
   "outputs": [
    {
     "name": "stdout",
     "output_type": "stream",
     "text": [
      "2.13 s ± 64.5 ms per loop (mean ± std. dev. of 7 runs, 1 loop each)\n"
     ]
    }
   ],
   "source": [
    "%%timeit # Veamos cuánto tarda en ejecutarse para N = 100\n",
    "N = 100\n",
    "xx, yEulerimpl= euler_implicito(f,a,ya, b, N)"
   ]
  },
  {
   "cell_type": "markdown",
   "id": "289fdf60",
   "metadata": {},
   "source": [
    "Nótese el aumento del tiempo de cómputo comparado con Euler Explícito para N = 100. Esto es así porque en Euler Implícito tenemos que resolver una ecuación en cada iteración."
   ]
  },
  {
   "cell_type": "code",
   "execution_count": 10,
   "id": "7b63a3dc",
   "metadata": {},
   "outputs": [],
   "source": [
    "def euler_implicito_aprox(F,x0,y0,xfinal,N):    \n",
    "    ''' método de Euler implicito aproximado para resolver el PVI\n",
    "    X,Y     = euler_implicito_aprox(F,x0,y0,xfinal,N).\n",
    "    {y}'    = {F(x,{y})}, donde\n",
    "    {y}     = {y[0],y[1],...y[N-1]}.\n",
    "    x0,y0   = condiciones iniciales \n",
    "    xfinal  = valor final de la variable x\n",
    "    h       = incremento de x usado para la integración\n",
    "    F       = función suplida por el usuario que devuelve \n",
    "            el array F(x,y) = {y'[0],y'[1],...,y'[N-1]}.\n",
    "    '''\n",
    "    X = np.linspace(x0,xfinal,N+1)\n",
    "    Y = [y0]\n",
    "    h = (xfinal-x0)/N\n",
    "    \n",
    "    for n in range(N):   \n",
    "        y1 = Y[n] + h*F(X[n],Y[n])    # Valor inicial para una iteración de punto fijo\n",
    "        Y.append(Y[n]+h*F(X[n+1],y1)) \n",
    "        \n",
    "    return np.array(X),np.array(Y)"
   ]
  },
  {
   "cell_type": "code",
   "execution_count": 11,
   "id": "8580e7f3",
   "metadata": {},
   "outputs": [
    {
     "name": "stdout",
     "output_type": "stream",
     "text": [
      "84.2 µs ± 751 ns per loop (mean ± std. dev. of 7 runs, 10000 loops each)\n"
     ]
    }
   ],
   "source": [
    "%%timeit # Veamos cuánto tarda en ejecutarse para N = 100\n",
    "N = 100\n",
    "xx, yEulerimplaprox= euler_implicito_aprox(f,a,ya, b, N)"
   ]
  },
  {
   "cell_type": "markdown",
   "id": "ee839f16",
   "metadata": {},
   "source": [
    "Nótese la disminución del tiempo de cómputo comparado con Euler Implícito para N = 100."
   ]
  },
  {
   "cell_type": "code",
   "execution_count": 12,
   "id": "82ae3efc",
   "metadata": {},
   "outputs": [
    {
     "name": "stdout",
     "output_type": "stream",
     "text": [
      "  N    Error Euler expl    Error Euler impl    Error Euler impl aprox\n",
      "---  ------------------  ------------------  ------------------------\n",
      " 10           0.124539            0.14969                   0.121139\n",
      " 50           0.0266938           0.0276909                 0.0265927\n",
      "100           0.013468            0.0137172                 0.013444\n"
     ]
    }
   ],
   "source": [
    "ENES = [10,50,100]\n",
    "errores = []\n",
    "valor_real = np.exp(1)\n",
    "\n",
    "for N in ENES:\n",
    "    xx, yEulerexpl = euler_explicito(f,a,ya, b, N)\n",
    "    xx, yEulerimpl = euler_implicito(f,a,ya, b, N)\n",
    "    xx, yEulerimplaprox = euler_implicito_aprox(f,a,ya, b, N)\n",
    "  \n",
    "    error_expl = abs(yEulerexpl[N]-valor_real)\n",
    "    error_impl = abs(yEulerimpl[N]-valor_real)\n",
    "    error_impl_aprox = abs(yEulerimplaprox[N]-valor_real)\n",
    " \n",
    "    \n",
    "    errores.append([N, error_expl, error_impl, error_impl_aprox])\n",
    "    \n",
    "\n",
    "print(tabulate(errores, headers=[\"N\",\"Error Euler expl\", \"Error Euler impl\", \"Error Euler impl aprox\"]))"
   ]
  },
  {
   "cell_type": "markdown",
   "id": "a5354105",
   "metadata": {},
   "source": [
    "Aunque a mayor N aumente el tiempo de cómputo (debido a la realización de más operaciones), como h es menor, entonces obtenemos valores más aproximados (el error es menor), es decir, tenemos más precisión."
   ]
  },
  {
   "cell_type": "markdown",
   "id": "2a7c2d54",
   "metadata": {},
   "source": [
    "Obsérvese también que los tres métodos nos dan un valor de error parecido."
   ]
  },
  {
   "cell_type": "markdown",
   "id": "9728ec32",
   "metadata": {},
   "source": [
    "Veamos ahora la estabilidad. Para ello, ponemos una nueva condición inicial muy cercana a la que teníamos y ejecutamos los métodos."
   ]
  },
  {
   "cell_type": "code",
   "execution_count": 13,
   "id": "b6f57c40",
   "metadata": {},
   "outputs": [],
   "source": [
    "ya_perturbado = 0.999"
   ]
  },
  {
   "cell_type": "code",
   "execution_count": 14,
   "id": "323c0ab3",
   "metadata": {},
   "outputs": [
    {
     "name": "stdout",
     "output_type": "stream",
     "text": [
      "  N    EulerExpl    EulerExplPerturbado    EulerImpl    EulerImplPerturbado    EulerImplAprox    EulerImplAproxPerturbado\n",
      "---  -----------  ---------------------  -----------  ---------------------  ----------------  --------------------------\n",
      " 10    0.124539               0.127133     0.14969                0.146822          0.121139                    0.1183\n",
      " 50    0.0266938              0.0293854    0.0276909              0.0249449         0.0265927                   0.0238478\n",
      "100    0.013468               0.0161728    0.0137172              0.0109852         0.013444                    0.0107123\n"
     ]
    }
   ],
   "source": [
    "ENES = [10,50,100]\n",
    "errores = []\n",
    "valor_real = np.exp(1)\n",
    "\n",
    "for N in ENES:\n",
    "    xx, yEulerexpl = euler_explicito(f,a,ya, b, N)\n",
    "    xx, yEulerexpl_perturbado = euler_explicito(f,a,ya_perturbado, b, N)\n",
    "\n",
    "    xx, yEulerimpl = euler_implicito(f,a,ya, b, N)\n",
    "    xx, yEulerimpl_perturbado = euler_implicito(f,a,ya_perturbado, b, N)\n",
    "\n",
    "    xx, yEulerimplaprox = euler_implicito_aprox(f,a,ya, b, N)\n",
    "    xx, yEulerimplaprox_perturbado = euler_implicito_aprox(f,a,ya_perturbado, b, N)\n",
    "\n",
    "    error_expl = abs(yEulerexpl[N]-valor_real)\n",
    "    error_expl_perturbado = abs(yEulerexpl_perturbado[N]-valor_real)\n",
    "\n",
    "    error_impl = abs(yEulerimpl[N]-valor_real)\n",
    "    error_impl_perturbado = abs(yEulerimpl_perturbado[N]-valor_real)\n",
    "\n",
    "    error_impl_aprox = abs(yEulerimplaprox[N]-valor_real)\n",
    "    error_impl_aprox_perturbado = abs(yEulerimplaprox_perturbado[N]-valor_real)\n",
    "\n",
    "    \n",
    "    errores.append([N, error_expl, error_expl_perturbado, error_impl, error_impl_perturbado, error_impl_aprox, error_impl_aprox_perturbado])\n",
    "    \n",
    "\n",
    "print(tabulate(errores, headers=[\"N\",\"EulerExpl\", \"EulerExplPerturbado\", \"EulerImpl\", \"EulerImplPerturbado\", \"EulerImplAprox\", \"EulerImplAproxPerturbado\"]))"
   ]
  },
  {
   "cell_type": "markdown",
   "id": "91db9350",
   "metadata": {},
   "source": [
    "Con la perturbación introducida, comprobamos que el error no aumenta mucho con respecto a los resultados sin perturbación. Por tanto, todos estos métodos de Euler son estables."
   ]
  },
  {
   "cell_type": "markdown",
   "id": "91932812",
   "metadata": {},
   "source": [
    "#### 2. A partir de la implementación del algoritmo del método de Euler explícito, realice las modificaciones oportunas para obtener también las implementaciones correspondientes a los métodos de Euler mejorado (o del punto medio), así como del de Euler modificado (o de Heun)."
   ]
  },
  {
   "cell_type": "code",
   "execution_count": 15,
   "id": "71d1434f",
   "metadata": {},
   "outputs": [],
   "source": [
    "def euler_mejorado(F,x0,y0,xfinal,N):    \n",
    "    ''' método de Euler mejorado (o del punto medio) aproximado para resolver el PVI\n",
    "    X,Y     = euler_mejorado(F,x0,y0,xfinal,N).\n",
    "    {y}'    = {F(x,{y})}, donde\n",
    "    {y}     = {y[0],y[1],...y[N-1]}.\n",
    "    x0,y0   = condiciones iniciales \n",
    "    xfinal  = valor final de la variable x\n",
    "    h       = incremento de x usado para la integración\n",
    "    F       = función suplida por el usuario que devuelve \n",
    "            el array F(x,y) = {y'[0],y'[1],...,y'[N-1]}.\n",
    "    '''\n",
    "    X = np.linspace(x0,xfinal,N+1)\n",
    "    Y = [y0]\n",
    "    h = (xfinal-x0)/N\n",
    "    \n",
    "    for n in range(N):\n",
    "        Y.append(Y[n] + h*F(X[n]+(h/2),Y[n]+(h/2)*F(X[n],Y[n])))\n",
    "        \n",
    "    return np.array(X),np.array(Y)"
   ]
  },
  {
   "cell_type": "code",
   "execution_count": 16,
   "id": "af2e0fbb",
   "metadata": {},
   "outputs": [],
   "source": [
    "def euler_modificado(F,x0,y0,xfinal,N):    \n",
    "    ''' método de Euler modificado (o de Heun) aproximado para resolver el PVI\n",
    "    X,Y     = euler_modificado(F,x0,y0,xfinal,N).\n",
    "    {y}'    = {F(x,{y})}, donde\n",
    "    {y}     = {y[0],y[1],...y[N-1]}.\n",
    "    x0,y0   = condiciones iniciales \n",
    "    xfinal  = valor final de la variable x\n",
    "    h       = incremento de x usado para la integración\n",
    "    F       = función suplida por el usuario que devuelve \n",
    "            el array F(x,y) = {y'[0],y'[1],...,y'[N-1]}.\n",
    "    '''\n",
    "    X = np.linspace(x0,xfinal,N+1)\n",
    "    Y = [y0]\n",
    "    h = (xfinal-x0)/N\n",
    "    \n",
    "    for n in range(N):\n",
    "        Y.append(Y[n] + (h/2)*(F(X[n],Y[n])+F(X[n],Y[n]+h*F(X[n],Y[n]))))\n",
    "        \n",
    "    return np.array(X),np.array(Y)"
   ]
  },
  {
   "cell_type": "code",
   "execution_count": 17,
   "id": "0466203f",
   "metadata": {
    "scrolled": true
   },
   "outputs": [
    {
     "name": "stdout",
     "output_type": "stream",
     "text": [
      "  N    Error Euler expl    Error Euler impl    Error Euler impl aprox    Error Euler mejorado    Error Euler modificado\n",
      "---  ------------------  ------------------  ------------------------  ----------------------  ------------------------\n",
      " 10           0.124539            0.14969                   0.121139              0.00420098                0.00420098\n",
      " 50           0.0266938           0.0276909                 0.0265927             0.000178516               0.000178516\n",
      "100           0.013468            0.0137172                 0.013444              4.49659e-05               4.49659e-05\n"
     ]
    }
   ],
   "source": [
    "ENES = [10,50,100]\n",
    "errores = []\n",
    "valor_real = np.exp(1)\n",
    "\n",
    "for N in ENES:\n",
    "    xx, yEulerexpl = euler_explicito(f,a,ya, b, N)\n",
    "    xx, yEulerimpl = euler_implicito(f,a,ya, b, N)\n",
    "    xx, yEulerimplaprox = euler_implicito_aprox(f,a,ya, b, N)\n",
    "    xx, yEulermej = euler_mejorado(f,a,ya, b, N)\n",
    "    xx, yEulermod = euler_modificado(f,a,ya, b, N)\n",
    "    \n",
    "    error_expl = abs(yEulerexpl[N]-valor_real)\n",
    "    error_impl = abs(yEulerimpl[N]-valor_real)\n",
    "    error_impl_aprox = abs(yEulerimplaprox[N]-valor_real)\n",
    "    error_mej = abs(yEulermej[N]-valor_real)\n",
    "    error_mod = abs(yEulermod[N]-valor_real)\n",
    "    \n",
    "    errores.append([N, error_expl, error_impl, error_impl_aprox, error_mej, error_mod])\n",
    "    \n",
    "\n",
    "print(tabulate(errores, headers=[\"N\",\"Error Euler expl\", \"Error Euler impl\", \"Error Euler impl aprox\", \"Error Euler mejorado\", \"Error Euler modificado\"]))"
   ]
  },
  {
   "cell_type": "markdown",
   "id": "0a351568",
   "metadata": {},
   "source": [
    "Obsérvese como los Métodos de Euler Mejorado y de Euler Modificados nos dan un valor de error mucho menor comparado con el resto de Métodos de Euler."
   ]
  },
  {
   "cell_type": "markdown",
   "id": "f81ac6dc",
   "metadata": {},
   "source": [
    "## Métodos de Taylor\n",
    "\n",
    "#### 1. Realice varios experimentos numéricos, con diferentes valores de $N$, y compare y ratifique los órdenes de convergencia de los diferentes métodos vistos hasta el momento."
   ]
  },
  {
   "cell_type": "code",
   "execution_count": 18,
   "id": "9164c31a",
   "metadata": {},
   "outputs": [],
   "source": [
    "def taylor2(F,x0,y0,xfinal,N): \n",
    "    ''' método de Taylor de orden p = 2 para resolver el PVI\n",
    "    X,Y     = taylor2(F,x0,y0,xfinal,N).\n",
    "    {y}'    = {F(x,{y})}, donde\n",
    "    {y}     = {y[0],y[1],...y[N-1]}.\n",
    "    x0,y0   = condiciones iniciales \n",
    "    xfinal  = valor final de la variable x\n",
    "    h       = incremento de x usado para la integración\n",
    "    F       = función suplida por el usuario que devuelve \n",
    "            el array F(x,y) = {y'[0],y'[1],...,y'[N-1]}.\n",
    "    '''\n",
    "    t, z = sp.symbols('t, z')\n",
    "    \n",
    "    X = np.linspace(x0,xfinal,N+1)\n",
    "    Y = [y0]\n",
    "    h = (xfinal-x0)/N\n",
    "    \n",
    "    def F1(t,z):\n",
    "        return F(t,z)\n",
    "\n",
    "    def F2(t,z):\n",
    "        return sp.diff(F(t,z),t) + sp.diff(F(t,z),z)*F1(t,z)\n",
    "    \n",
    "    for n in range(N):\n",
    "        Y.append(Y[n]+h*F1(X[n],Y[n])+h**2/2*F2(t,z).subs({t:X[n],z:Y[n]}))\n",
    "\n",
    "    return np.array(X),np.array(Y)"
   ]
  },
  {
   "cell_type": "code",
   "execution_count": 19,
   "id": "067d5724",
   "metadata": {
    "scrolled": true
   },
   "outputs": [
    {
     "name": "stdout",
     "output_type": "stream",
     "text": [
      "  N    Error Taylor\n",
      "---  --------------\n",
      " 10     0.00420098\n",
      " 50     0.000178516\n",
      "100     4.49659e-05\n"
     ]
    }
   ],
   "source": [
    "ENES = [10,50,100]\n",
    "errores = []\n",
    "valor_real = np.exp(1)\n",
    "\n",
    "for N in ENES:\n",
    "    xx, yTaylor2 = taylor2(f,a,ya,b,N)\n",
    "    \n",
    "    error_taylor = abs(yTaylor2[N]-valor_real)\n",
    "    \n",
    "    errores.append([N, error_taylor])\n",
    "    \n",
    "\n",
    "print(tabulate(errores, headers=[\"N\", \"Error Taylor\"]))"
   ]
  },
  {
   "cell_type": "markdown",
   "id": "bcb9fe9c",
   "metadata": {},
   "source": [
    "A mayor N, como h es menor, obtenemos valores más aproximados (el error es menor), es decir, tenemos más precisión."
   ]
  },
  {
   "cell_type": "markdown",
   "id": "7144df3d",
   "metadata": {},
   "source": [
    "Vemos que obtenemos los mismos valores de error que obtuvimos con Euler Mejorado y Euler Modificado."
   ]
  },
  {
   "cell_type": "markdown",
   "id": "2778a266",
   "metadata": {},
   "source": [
    "#### 2. A partir de la implementación del algoritmo del método de Taylor de orden $p=2$, realice las modificaciones oportunas para obtener también una posible implementación correspondiente al método de Taylor de orden $p=3$."
   ]
  },
  {
   "cell_type": "code",
   "execution_count": 20,
   "id": "06201d12",
   "metadata": {},
   "outputs": [],
   "source": [
    "def taylor3(F,x0,y0,xfinal,N): \n",
    "    ''' método de Taylor de orden p = 3 para resolver el PVI\n",
    "    X,Y     = euler_modificado(F,x0,y0,xfinal,N).\n",
    "    {y}'    = {F(x,{y})}, donde\n",
    "    {y}     = {y[0],y[1],...y[N-1]}.\n",
    "    x0,y0   = condiciones iniciales \n",
    "    xfinal  = valor final de la variable x\n",
    "    h       = incremento de x usado para la integración\n",
    "    F       = función suplida por el usuario que devuelve \n",
    "            el array F(x,y) = {y'[0],y'[1],...,y'[N-1]}.\n",
    "    '''\n",
    "    t, z = sp.symbols('t, z')\n",
    "    \n",
    "    X = np.linspace(x0,xfinal,N+1)\n",
    "    Y = [y0]\n",
    "    h = (xfinal-x0)/N\n",
    "    \n",
    "    def F1(t,z):\n",
    "        return F(t,z)\n",
    "\n",
    "    def F2(t,z):\n",
    "        return sp.diff(F(t,z),t) + sp.diff(F(t,z),z)*F1(t,z)\n",
    "    \n",
    "    def F3(t,z):\n",
    "        return sp.diff(F2(t,z),t) + sp.diff(F2(t,z),z)*F1(t,z)\n",
    "    \n",
    "    for n in range(N):\n",
    "        Y.append(Y[n]+h*F1(X[n],Y[n])+ h**2/2*F2(t,z).subs({t:X[n],z:Y[n]}) + h**3/6*F3(t,z).subs({t:X[n],z:Y[n]}))\n",
    "        \n",
    "    return np.array(X),np.array(Y)"
   ]
  },
  {
   "cell_type": "code",
   "execution_count": 21,
   "id": "9d56210c",
   "metadata": {
    "scrolled": true
   },
   "outputs": [
    {
     "name": "stdout",
     "output_type": "stream",
     "text": [
      "  N    Error Taylor2    Error Taylor3\n",
      "---  ---------------  ---------------\n",
      " 10      0.00420098       0.000104566\n",
      " 50      0.000178516      8.91716e-07\n",
      "100      4.49659e-05      1.12359e-07\n",
      "500      1.80947e-06      9.04639e-10\n"
     ]
    }
   ],
   "source": [
    "ENES = [10,50,100,500]\n",
    "errores = []\n",
    "valor_real = np.exp(1)\n",
    "\n",
    "for N in ENES:\n",
    "    xx, yTaylor2 = taylor2(f,a,ya,b,N)\n",
    "    xx, yTaylor3 = taylor3(f,a,ya,b,N)\n",
    "    \n",
    "    error_taylor2 = abs(yTaylor2[N]-valor_real)\n",
    "    error_taylor3 = abs(yTaylor3[N]-valor_real)\n",
    "    \n",
    "    errores.append([N, error_taylor2, error_taylor3])\n",
    "    \n",
    "\n",
    "print(tabulate(errores, headers=[\"N\", \"Error Taylor2\", \"Error Taylor3\"]))"
   ]
  },
  {
   "cell_type": "markdown",
   "id": "1b188f57",
   "metadata": {},
   "source": [
    "Obsérvese que el método de Taylor de orden p = 3 es mucho más preciso que el de orden p = 2 (para N = 50 ya obtenemos una solución muy aproximada)"
   ]
  },
  {
   "cell_type": "markdown",
   "id": "a30d92ae",
   "metadata": {},
   "source": [
    "## Métodos de Runge-Kutta"
   ]
  },
  {
   "cell_type": "markdown",
   "id": "ca06abc4",
   "metadata": {},
   "source": [
    "#### 1. Repita las aproximaciones anteriores con diferentes valores de $N$ (y por tanto de $h$) y compruebe el efecto en cuanto a mayor o menor precisión, estabilidad y coste computacional."
   ]
  },
  {
   "cell_type": "code",
   "execution_count": 22,
   "id": "b1efcf83",
   "metadata": {},
   "outputs": [],
   "source": [
    "def RK4(F,x0,y0,xfinal,N):\n",
    "    ''' método de Runge-Kutta de 4 evaluaciones para resolver el PVI\n",
    "    X,Y     = RK4(F,x0,y0,xfinal,N).\n",
    "    {y}'    = {F(x,{y})}, donde\n",
    "    {y}     = {y[0],y[1],...y[N-1]}.\n",
    "    x0,y0   = condiciones iniciales \n",
    "    xfinal  = valor final de la variable x\n",
    "    h       = incremento de x usado para la integración\n",
    "    F       = función suplida por el usuario que devuelve \n",
    "            el array F(x,y) = {y'[0],y'[1],...,y'[N-1]}.\n",
    "    '''\n",
    "    def ecuacionesRK4(F,xn,yn,h):\n",
    "        K1 = F(xn,yn)\n",
    "        K2 = F(xn + h/2, yn + K1*h/2)\n",
    "        K3 = F(xn + h/2, yn + K2*h/2)\n",
    "        K4 = F(xn + h  , yn + K3*h)\n",
    "        return (K1 + 2*K2 + 2*K3 + K4)/6    \n",
    "    \n",
    "    X = np.linspace(x0,xfinal,N+1)\n",
    "    Y = [y0]\n",
    "    h = (xfinal-x0)/N\n",
    "    for n in range(N):\n",
    "        Y.append( Y[n] + h*ecuacionesRK4(F,X[n],Y[n],h) )\n",
    "        \n",
    "    return np.array(X),np.array(Y)"
   ]
  },
  {
   "cell_type": "code",
   "execution_count": 23,
   "id": "6e1f6c4f",
   "metadata": {},
   "outputs": [
    {
     "name": "stdout",
     "output_type": "stream",
     "text": [
      "  N    Euler expl    Euler impl    Euler impl aprx    Euler mejorado    Euler modificado      Taylor2      Taylor3          RK4\n",
      "---  ------------  ------------  -----------------  ----------------  ------------------  -----------  -----------  -----------\n",
      " 10    0.124539      0.14969            0.121139         0.00420098          0.00420098   0.00420098   0.000104566  2.08432e-06\n",
      " 50    0.0266938     0.0276909          0.0265927        0.000178516         0.000178516  0.000178516  8.91716e-07  3.56449e-09\n",
      "100    0.013468      0.0137172          0.013444         4.49659e-05         4.49659e-05  4.49659e-05  1.12359e-07  2.24641e-10\n",
      "500    0.00271331    0.00272327         0.00271239       1.80947e-06         1.80947e-06  1.80947e-06  9.04639e-10  3.61045e-13\n"
     ]
    }
   ],
   "source": [
    "ENES = [10,50,100,500]\n",
    "errores = []\n",
    "valor_real = np.exp(1)\n",
    "\n",
    "for N in ENES:\n",
    "    xx, yEulerexpl = euler_explicito(f,a,ya, b, N)\n",
    "    xx, yEulerimpl = euler_implicito(f,a,ya, b, N)\n",
    "    xx, yEulerimplaprox = euler_implicito_aprox(f,a,ya, b, N)\n",
    "    xx, yEulermej = euler_mejorado(f,a,ya, b, N)\n",
    "    xx, yEulermod = euler_modificado(f,a,ya, b, N)\n",
    "    xx, yTaylor2 = taylor2(f,a,ya,b,N)\n",
    "    xx, yTaylor3 = taylor3(f,a,ya,b,N)\n",
    "    xx, yRK4 = RK4(f,a,ya,b,N)\n",
    "    \n",
    "    error_expl = abs(yEulerexpl[N]-valor_real)\n",
    "    error_impl = abs(yEulerimpl[N]-valor_real)\n",
    "    error_impl_aprox = abs(yEulerimplaprox[N]-valor_real)\n",
    "    error_mej = abs(yEulermej[N]-valor_real)\n",
    "    error_mod = abs(yEulermod[N]-valor_real)\n",
    "    error_taylor2 = abs(yTaylor2[N]-valor_real)\n",
    "    error_taylor3 = abs(yTaylor3[N]-valor_real)\n",
    "    error_RK4 = abs(yRK4[N]-valor_real)\n",
    "    \n",
    "    errores.append([N, error_expl, error_impl, error_impl_aprox, error_mej, error_mod, error_taylor2, error_taylor3, error_RK4])\n",
    "    \n",
    "\n",
    "print(tabulate(errores, headers=[\"N\",\"Euler expl\", \"Euler impl\", \"Euler impl aprx\", \"Euler mejorado\", \"Euler modificado\", \"Taylor2\", \"Taylor3\", \"RK4\"]))"
   ]
  },
  {
   "cell_type": "markdown",
   "id": "7b966d34",
   "metadata": {},
   "source": [
    "A mayor N, como h es menor, obtenemos valores más aproximados (el error es menor), es decir, tenemos más precisión.\n",
    "\n",
    "Comparando el método de Runge-Kutta de 4 evaluaciones con el resto de métodos, podemos observar que con este método es el que se comete un error más pequeño"
   ]
  },
  {
   "cell_type": "markdown",
   "id": "b9ada380",
   "metadata": {},
   "source": [
    "Veamos ahora la estabilidad. Para ello, ponemos una nueva condición inicial muy cercana a la que teníamos y ejecutamos el método."
   ]
  },
  {
   "cell_type": "code",
   "execution_count": 24,
   "id": "561355d0",
   "metadata": {},
   "outputs": [],
   "source": [
    "ya_perturbado = 0.999"
   ]
  },
  {
   "cell_type": "code",
   "execution_count": 25,
   "id": "6be0d8d5",
   "metadata": {},
   "outputs": [
    {
     "name": "stdout",
     "output_type": "stream",
     "text": [
      "  N          RK4    RK4 Perturbado\n",
      "---  -----------  ----------------\n",
      " 10  2.08432e-06        0.00272036\n",
      " 50  3.56449e-09        0.00271829\n",
      "100  2.24641e-10        0.00271828\n"
     ]
    }
   ],
   "source": [
    "ENES = [10,50,100]\n",
    "errores = []\n",
    "valor_real = np.exp(1)\n",
    "\n",
    "for N in ENES:\n",
    "    xx, yRK4 = RK4(f,a,ya,b,N)\n",
    "    xx, yRK4_perturbado = RK4(f,a,ya_perturbado,b,N)\n",
    "    \n",
    "    error_RK4 = abs(yRK4[N]-valor_real)\n",
    "    error_RK4_perturbado = abs(yRK4_perturbado[N]-valor_real)\n",
    "\n",
    "    errores.append([N, error_RK4, error_RK4_perturbado])\n",
    "    \n",
    "\n",
    "print(tabulate(errores, headers=[\"N\",\"RK4\", \"RK4 Perturbado\"]))"
   ]
  },
  {
   "cell_type": "markdown",
   "id": "ac0a0449",
   "metadata": {},
   "source": [
    "Con la perturbación introducida, comprobamos que el error aumenta un poco con respecto a los resultados sin perturbación pero tampoco se dispara. Por tanto, el método de Runge-Kutta de 4 evaluaciones es estable."
   ]
  },
  {
   "cell_type": "markdown",
   "id": "2b4ade0b",
   "metadata": {},
   "source": [
    "#### 2. A partir de la implementación del algoritmo del método de Runge-Kutta de 4 evaluaciones, realice las modificaciones oportunas para intentar obtener también las implementaciones correspondientes a otros muchos métodos de tipo Runge-Kutta, tanto explícitos como implícitos, a partir del correspondiente arreglo de Butcher."
   ]
  },
  {
   "cell_type": "code",
   "execution_count": 26,
   "id": "ea11875d",
   "metadata": {},
   "outputs": [],
   "source": [
    "def RK2(F,x0,y0,xfinal,N,butcher):\n",
    "    ''' método de Runge-Kutta de 2 evaluaciones para resolver el PVI\n",
    "    X,Y     = RK2(F,x0,y0,xfinal,N).\n",
    "    {y}'    = {F(x,{y})}, donde\n",
    "    {y}     = {y[0],y[1],...y[N-1]}.\n",
    "    x0,y0   = condiciones iniciales \n",
    "    xfinal  = valor final de la variable x\n",
    "    h       = incremento de x usado para la integración\n",
    "    F       = función suplida por el usuario que devuelve \n",
    "            el array F(x,y) = {y'[0],y'[1],...,y'[N-1]}.\n",
    "    butcher = Arreglo de Butcher (determina cualquier método de Runge-Kutta)\n",
    "    '''\n",
    "    def ecuacionesRK(xn,yn):\n",
    "        K=[]\n",
    "        for i in range(butcher[0]):\n",
    "            aux = 0\n",
    "            for j in range(i):\n",
    "                aux = aux + butcher[1][i][j]*K[j]\n",
    "            K.append(F(xn + butcher[3][i]*h,yn + h*aux))\n",
    "            \n",
    "        suma = 0\n",
    "        for i in range(butcher[0]):\n",
    "            suma += butcher[2][i]*K[i]\n",
    "        return suma\n",
    "    \n",
    "    X = np.linspace(x0,xfinal,N+1)\n",
    "    Y = [y0]\n",
    "    h = (xfinal-x0)/N\n",
    "    \n",
    "    for n in range(N):\n",
    "        Y.append(Y[n] + h * ecuacionesRK(X[n],Y[n]))\n",
    "        \n",
    "    return np.array(X),np.array(Y)"
   ]
  },
  {
   "cell_type": "code",
   "execution_count": 27,
   "id": "b217c78e",
   "metadata": {},
   "outputs": [
    {
     "name": "stdout",
     "output_type": "stream",
     "text": [
      "  N          RK4          RK2\n",
      "---  -----------  -----------\n",
      " 10  2.08432e-06  0.00420098\n",
      " 50  3.56449e-09  0.000178516\n",
      "100  2.24641e-10  4.49659e-05\n",
      "500  3.61045e-13  1.80947e-06\n"
     ]
    }
   ],
   "source": [
    "butcher = [2, [[0,0],[1,0]],[1/2,1/2],[0,1]] # Primero le indicamos la dimensión de la matriz, luego las a_ij, luego las b_i\n",
    "                                             # y luego las c_i, con i,j = 1...m (siendo m el número de evaluaciones del método)\n",
    "ENES = [10,50,100,500]\n",
    "errores = []\n",
    "valor_real = np.exp(1)\n",
    "\n",
    "for N in ENES:\n",
    "    xx, yRK4 = RK4(f,a,ya,b,N)\n",
    "    xx, yRK2 = RK2(f,a,ya,b,N,butcher)\n",
    "    \n",
    "    error_RK4 = abs(yRK4[N]-valor_real)\n",
    "    error_RK2 = abs(yRK2[N]-valor_real)\n",
    "    \n",
    "    errores.append([N,error_RK4, error_RK2])\n",
    "    \n",
    "\n",
    "print(tabulate(errores, headers=[\"N\", \"RK4\", \"RK2\"]))"
   ]
  },
  {
   "cell_type": "markdown",
   "id": "6e100556",
   "metadata": {},
   "source": [
    "Podemos observar que obtenemos valores muy aproximados a la solución exacta con el método de Runge-Kutta de 2 evaluaciones, pero no tanto como el método de Runge-Kutta de 4 evaluaciones.\n",
    "\n",
    "Además, nótese que para esos valores del arreglo de Butcher, basándonos en lo visto en teoría, el método de Runge-Kutta de 2 evaluaciones coincide con el método de Euler Mejorado (o del Punto Medio)."
   ]
  },
  {
   "cell_type": "markdown",
   "id": "3a1660c9",
   "metadata": {},
   "source": [
    "## Métodos Multipaso Lineales (MML)"
   ]
  },
  {
   "cell_type": "markdown",
   "id": "2724e0bf",
   "metadata": {},
   "source": [
    "### Métodos de tipo Adams"
   ]
  },
  {
   "cell_type": "markdown",
   "id": "8ecbc6f7",
   "metadata": {},
   "source": [
    "#### 1. A partir de la implementación del algoritmo del método de Adams-Bashforth anterior, realice las modificaciones oportunas para intentar obtener también las implementaciones correspondientes a otros muchos métodos de tipo Adams, como Adams-Moulton (AM), Milne-Simpson, Nyström y/o Newton-Cotes."
   ]
  },
  {
   "cell_type": "code",
   "execution_count": 28,
   "id": "3877978f",
   "metadata": {},
   "outputs": [],
   "source": [
    "# Método de Adams-Bashfort (con k = 2)\n",
    "\n",
    "def AB2(F,x0,y0,xfinal,N):\n",
    "    ''' método de Adams-Bashfort (con k = 2) para resolver el PVI\n",
    "    X,Y     = ecuacionAB(F,x0,y0,xfinal,N).\n",
    "    {y}'    = {F(x,{y})}, donde\n",
    "    {y}     = {y[0],y[1],...y[N-1]}.\n",
    "    x0,y0   = condiciones iniciales \n",
    "    xfinal  = valor final de la variable x\n",
    "    h       = incremento de x usado para la integración\n",
    "    F       = función suplida por el usuario que devuelve \n",
    "            el array F(x,y) = {y'[0],y'[1],...,y'[N-1]}.\n",
    "    '''\n",
    "    def ecuacionAB2(F,x0,y0,y1,h):\n",
    "        return (3*F(x0+h,y1)-F(x0,y0))/2    \n",
    "    \n",
    "    X = np.linspace(x0,xfinal,N+1)\n",
    "    h = (xfinal-x0)/N\n",
    "    y1 = y0 + h*F(x0,y0)\n",
    "    Y = [y0,y1]\n",
    "    \n",
    "    for n in range(N-1):\n",
    "        Y.append(Y[n+1] + h*ecuacionAB2(F,X[n],Y[n],Y[n+1],h))\n",
    "        \n",
    "    return np.array(X),np.array(Y)"
   ]
  },
  {
   "cell_type": "code",
   "execution_count": 29,
   "id": "912d2a64",
   "metadata": {},
   "outputs": [],
   "source": [
    "# Método de Adams-Moulton (con k = 1)\n",
    "\n",
    "def AM(F,x0,y0,xfinal,N):    \n",
    "    ''' método de Adams-Moulton (con k = 1) para resolver el PVI\n",
    "    X,Y     = ecuacionAM(F,x0,y0,xfinal,N).\n",
    "    {y}'    = {F(x,{y})}, donde\n",
    "    {y}     = {y[0],y[1],...y[N-1]}.\n",
    "    x0,y0   = condiciones iniciales \n",
    "    xfinal  = valor final de la variable x\n",
    "    h       = incremento de x usado para la integración\n",
    "    F       = función suplida por el usuario que devuelve \n",
    "            el array F(x,y) = {y'[0],y'[1],...,y'[N-1]}.\n",
    "    '''\n",
    "    def ecuacionAM(F,x0,y0,t,h):\n",
    "        return 1/2*(F(x0,y0)+F(x0+h,t))\n",
    "    \n",
    "    X = np.linspace(x0,xfinal,N+1)\n",
    "    Y = [y0]\n",
    "    h = (xfinal-x0)/N\n",
    "    \n",
    "    t = sp.Symbol('t')\n",
    "    \n",
    "    for n in range(N): \n",
    "        Y.append(sp.solve(Y[n]+h*ecuacionAM(F,X[n],Y[n],t,h)-t,t)[0])\n",
    "    \n",
    "    return np.array(X),np.array(Y)"
   ]
  },
  {
   "cell_type": "code",
   "execution_count": 30,
   "id": "72066553",
   "metadata": {},
   "outputs": [],
   "source": [
    "# Método de Milne-Simpson\n",
    "\n",
    "def MS(F,x0,y0,xfinal,N):    \n",
    "    ''' método de Milne-Simpson para resolver el PVI\n",
    "    X,Y     = ecuacionAM(F,x0,y0,xfinal,N).\n",
    "    {y}'    = {F(x,{y})}, donde\n",
    "    {y}     = {y[0],y[1],...y[N-1]}.\n",
    "    x0,y0   = condiciones iniciales \n",
    "    xfinal  = valor final de la variable x\n",
    "    h       = incremento de x usado para la integración\n",
    "    F       = función suplida por el usuario que devuelve \n",
    "            el array F(x,y) = {y'[0],y'[1],...,y'[N-1]}.\n",
    "    '''\n",
    "    def ecuacionMS(F,x0,y0,y1,y2,h):\n",
    "        return (F(x0,y0)+4*F(x0+h,y1)+F(x0+2*h,y2))/3\n",
    "    \n",
    "    X = np.linspace(x0,xfinal,N+1)\n",
    "    h = (xfinal-x0)/N\n",
    "    y1 = y0 + h*F(x0,y0)\n",
    "    y2 = y1 + h*F(x0+h,y1)\n",
    "    Y = [y0,y1]\n",
    "    \n",
    "    t = sp.Symbol('t')\n",
    "    \n",
    "    for n in range(N):\n",
    "        Y.append(sp.solve(Y[n]+h*ecuacionMS(F,X[n],Y[n],Y[n+1],t,h)-t,t)[0])\n",
    "    \n",
    "    return np.array(X),np.array(Y)"
   ]
  },
  {
   "cell_type": "code",
   "execution_count": 31,
   "id": "862a0e51",
   "metadata": {},
   "outputs": [],
   "source": [
    "# Método de Nyström\n",
    "\n",
    "def Nys(F,x0,y0,xfinal,N):    \n",
    "    ''' método de Nyström para resolver el PVI\n",
    "    X,Y     = ecuacionAM(F,x0,y0,xfinal,N).\n",
    "    {y}'    = {F(x,{y})}, donde\n",
    "    {y}     = {y[0],y[1],...y[N-1]}.\n",
    "    x0,y0   = condiciones iniciales \n",
    "    xfinal  = valor final de la variable x\n",
    "    h       = incremento de x usado para la integración\n",
    "    F       = función suplida por el usuario que devuelve \n",
    "            el array F(x,y) = {y'[0],y'[1],...,y'[N-1]}.\n",
    "    '''\n",
    "    def ecuacionNys(F,x0,y1,h):\n",
    "        return 2*F(x0+h,y1)\n",
    "    \n",
    "    X = np.linspace(x0,xfinal,N+1)\n",
    "    h = (xfinal-x0)/N\n",
    "    y1 = y0 + h*F(x0,y0)\n",
    "    Y = [y0,y1]\n",
    "    \n",
    "    t = sp.Symbol('t')\n",
    "    \n",
    "    for n in range(N):  \n",
    "        Y.append(sp.solve(Y[n]+h*ecuacionNys(F,X[n],Y[n+1],h)-t,t)[0])\n",
    "    \n",
    "    return np.array(X),np.array(Y)"
   ]
  },
  {
   "cell_type": "code",
   "execution_count": 32,
   "id": "3b754e92",
   "metadata": {},
   "outputs": [],
   "source": [
    "# Método de Newton-Cotes\n",
    "\n",
    "def NC(F,x0,y0,xfinal,N):    \n",
    "    ''' método de Newton-Cotes para resolver el PVI\n",
    "    X,Y     = ecuacionAM(F,x0,y0,xfinal,N).\n",
    "    {y}'    = {F(x,{y})}, donde\n",
    "    {y}     = {y[0],y[1],...y[N-1]}.\n",
    "    x0,y0   = condiciones iniciales \n",
    "    xfinal  = valor final de la variable x\n",
    "    h       = incremento de x usado para la integración\n",
    "    F       = función suplida por el usuario que devuelve \n",
    "            el array F(x,y) = {y'[0],y'[1],...,y'[N-1]}.\n",
    "    '''\n",
    "    def ecuacionNC(F,x0,y0,y1,h):\n",
    "        return (F(x0,y0) + F(x0+h,y1))/2\n",
    "    \n",
    "    X = np.linspace(x0,xfinal,N+1)\n",
    "    Y = [y0]\n",
    "    h = (xfinal-x0)/N\n",
    "    \n",
    "    t = sp.Symbol('t')\n",
    "    \n",
    "    for n in range(N):  \n",
    "        Y.append(sp.solve(Y[n]+h*ecuacionNC(F,X[n],Y[n],t,h)-t,t)[0])\n",
    "    \n",
    "    return np.array(X),np.array(Y)"
   ]
  },
  {
   "cell_type": "code",
   "execution_count": 33,
   "id": "e3b5b868",
   "metadata": {},
   "outputs": [
    {
     "name": "stdout",
     "output_type": "stream",
     "text": [
      "  N    Adams-Bashfort (k=2)    Adams-Moulton (k=1)    Milne-Simpson      Nyström    Newton-Cotes\n",
      "---  ----------------------  ---------------------  ---------------  -----------  --------------\n",
      " 10             0.0226833              0.00226959       0.00499273   0.0103261       0.00226959\n",
      " 50             0.000980007            9.06163e-05      0.000200156  0.000416129     9.06163e-05\n",
      "100             0.000247112            2.26528e-05      5.00426e-05  0.000104057     2.26528e-05\n",
      "500             9.95068e-06            9.06095e-07      2.00175e-06  4.16258e-06     9.06095e-07\n"
     ]
    }
   ],
   "source": [
    "ENES = [10,50,100,500]\n",
    "errores = []\n",
    "valor_real = np.exp(1)\n",
    "\n",
    "for N in ENES:\n",
    "    xx, yAB2 = AB2(f,a,ya, b, N)\n",
    "    xx, yAM = AM(f,a,ya, b, N)\n",
    "    xx, yMS = MS(f,a,ya, b, N)\n",
    "    xx, yNys = Nys(f,a,ya, b, N)\n",
    "    xx, yNC = NC(f,a,ya, b, N)\n",
    "    \n",
    "    error_AB2 = abs(yAB2[N]-valor_real)\n",
    "    error_AM = abs(yAM[N]-valor_real)\n",
    "    error_MS = abs(yMS[N]-valor_real)\n",
    "    error_Nys = abs(yNys[N]-valor_real)\n",
    "    error_NC = abs(yNC[N]-valor_real)\n",
    "\n",
    "    \n",
    "    errores.append([N, error_AB2, error_AM, error_MS, error_Nys, error_NC])\n",
    "    \n",
    "\n",
    "print(tabulate(errores, headers=[\"N\",\"Adams-Bashfort (k=2)\", \"Adams-Moulton (k=1)\", \"Milne-Simpson\", \"Nyström\", \"Newton-Cotes\"]))"
   ]
  },
  {
   "cell_type": "markdown",
   "id": "2c33e0f9",
   "metadata": {},
   "source": [
    "A la hora de ejecutar estos métodos podemos ver que el tiempo de cómputo aumenta mucho con respecto a otros (especialmentes aquellos que son implícitos).\n",
    "\n",
    "Por otro lado, se puede observar que el error cometido es bastante similar en todos los métodos para los diferentes valores de N."
   ]
  },
  {
   "cell_type": "markdown",
   "id": "4ec8e2b4",
   "metadata": {},
   "source": [
    "## Métodos Predictor-Corrector"
   ]
  },
  {
   "cell_type": "markdown",
   "id": "06c6ea5a",
   "metadata": {},
   "source": [
    "#### 1. Intente la implementación del algoritmo de tipo Predictor-Corrector anterior, o cualquier otro adecuado, eligiendo convenientemente los otros métodos necesarios para proporcionar los valores previos necesarios."
   ]
  },
  {
   "cell_type": "markdown",
   "id": "90e73b3e",
   "metadata": {},
   "source": [
    "Implementaremos a continuación un método MML Predictor-Corrector particular, combinando un predictor AB de 5 pasos con un corrector AM de 4, y aplicando una sólo corrección en cada iteración:\n",
    "\n",
    "P: $y_{n+5}^{(0)} = y_{n+4} + \\frac{h}{720} (1901 f_{n+4} -2774 f_{n+3} +2616 f_{n+2} - 1274 f_{n+1} + 251 f_n)$\n",
    "\n",
    "C$^1$: $y_{n+5} = y_{n+4} + \\frac{h}{720} (251 f(t_{n+5},y_{n+5}^{(0)}) + 646 f_{n+4} -264 f_{n+3} +106 f_{n+2} - 19 f_{n+1}$ "
   ]
  },
  {
   "cell_type": "code",
   "execution_count": 34,
   "id": "19ad1c7f",
   "metadata": {},
   "outputs": [],
   "source": [
    "def predictor_corrector(F,x0,y0,xfinal,N):    \n",
    "    ''' método predictor-corrector para resolver el PVI\n",
    "    X,Y     = ecuacionAM(F,x0,y0,xfinal,N).\n",
    "    {y}'    = {F(x,{y})}, donde\n",
    "    {y}     = {y[0],y[1],...y[N-1]}.\n",
    "    x0,y0   = condiciones iniciales \n",
    "    xfinal  = valor final de la variable x\n",
    "    h       = incremento de x usado para la integración\n",
    "    F       = función suplida por el usuario que devuelve \n",
    "            el array F(x,y) = {y'[0],y'[1],...,y'[N-1]}.\n",
    "    '''\n",
    "    \n",
    "    # Predictor\n",
    "    def P(F,x0,y0,y1,y2,y3,y4,h):\n",
    "        return (1901*F(x0+4*h,y4)-2774*F(x0+3*h,y3)+2616*F(x0+2*h,y2)-1274*F(x0+h,y1)+251*F(x0,y0))/720\n",
    "    \n",
    "    # Corrector\n",
    "    def C(F,x0,y0,y1,y2,y3,y4,y5,h):\n",
    "        return (251*F(x0+5*h,y5)+646*F(x0+4*h,y4)-264*F(x0+3*h,y3)+106*F(x0+2*h,y2)-19*F(x0+h,y1))/720\n",
    "    \n",
    "    X = np.linspace(x0,xfinal,N+1)\n",
    "    h = (xfinal-x0)/N\n",
    "    y1 = y0 + h*F(x0,y0)\n",
    "    y2 = y1 + h*F(x0+h,y1)\n",
    "    y3 = y2 + h*F(x0+2*h,y2)\n",
    "    y4 = y3 + h*F(x0+3*h,y3)\n",
    "    Y = [y0,y1,y2,y3,y4]\n",
    "    \n",
    "    t = sp.Symbol('t')\n",
    "    \n",
    "    for n in range(N-4):  \n",
    "        y5 = Y[n+4]+h*P(F,X[n],Y[n],Y[n+1],Y[n+2],Y[n+3],Y[n+4],h)\n",
    "        Y.append(Y[n+4]+h*C(F,X[n],Y[n],Y[n+1],Y[n+2],Y[n+3],Y[n+4],y5,h))\n",
    "    \n",
    "    return np.array(X),np.array(Y)"
   ]
  },
  {
   "cell_type": "code",
   "execution_count": 35,
   "id": "5f3e0624",
   "metadata": {},
   "outputs": [
    {
     "name": "stdout",
     "output_type": "stream",
     "text": [
      "  N    Predictor-Corrector\n",
      "---  ---------------------\n",
      " 10            0.0506218\n",
      " 50            0.0021461\n",
      "100            0.000540118\n",
      "500            2.17181e-05\n"
     ]
    }
   ],
   "source": [
    "ENES = [10,50,100,500]\n",
    "errores = []\n",
    "valor_real = np.exp(1)\n",
    "\n",
    "for N in ENES:\n",
    "    xx, yPredictorCorrector = predictor_corrector(f,a,ya, b, N)\n",
    "    \n",
    "    error_PredictorCorrector = abs(yPredictorCorrector[N]-valor_real)\n",
    "\n",
    "    errores.append([N, error_PredictorCorrector])\n",
    "    \n",
    "\n",
    "print(tabulate(errores, headers=[\"N\",\"Predictor-Corrector\"]))"
   ]
  },
  {
   "cell_type": "markdown",
   "id": "82049c01",
   "metadata": {},
   "source": [
    "Podemos observar que el error cometido es mayor que algunos otros métodos que hayamos visto. Sin embargo, al ser un método de 5 pasos tenemos una rápidez en los cálculos mucho mayor que en otros métodos de un paso (esto se nota al ejecutarlo)."
   ]
  }
 ],
 "metadata": {
  "kernelspec": {
   "display_name": "Python 3 (ipykernel)",
   "language": "python",
   "name": "python3"
  },
  "language_info": {
   "codemirror_mode": {
    "name": "ipython",
    "version": 3
   },
   "file_extension": ".py",
   "mimetype": "text/x-python",
   "name": "python",
   "nbconvert_exporter": "python",
   "pygments_lexer": "ipython3",
   "version": "3.9.7"
  }
 },
 "nbformat": 4,
 "nbformat_minor": 5
}
