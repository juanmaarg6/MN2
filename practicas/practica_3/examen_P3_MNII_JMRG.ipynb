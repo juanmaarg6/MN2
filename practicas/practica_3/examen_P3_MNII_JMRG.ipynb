{
 "cells": [
  {
   "cell_type": "markdown",
   "id": "e6930020",
   "metadata": {},
   "source": [
    "## Métodos Numéricos II: Examen Práctica 3"
   ]
  },
  {
   "cell_type": "markdown",
   "id": "bd9df7ab",
   "metadata": {},
   "source": [
    "#### Autor: Juan Manuel Rodríguez Gómez"
   ]
  },
  {
   "cell_type": "code",
   "execution_count": 1,
   "id": "c6772d44",
   "metadata": {},
   "outputs": [],
   "source": [
    "import sympy as sp\n",
    "\n",
    "import numpy as np\n",
    "\n",
    "from tabulate import tabulate # Si no se encuentra el módulo, hacer \"conda install tabulate\" en la consola con el actual\n",
    "                              # environment activado (se puede abrir desde Anaconda)"
   ]
  },
  {
   "cell_type": "code",
   "execution_count": 2,
   "id": "bcab81a0",
   "metadata": {},
   "outputs": [],
   "source": [
    "t, y0, z = sp.symbols('t, y_0,  z')\n",
    "\n",
    "def f(t,y):\n",
    "    return (t-y)/2 # Ecuación y'(t)=(t-y(t))/2 "
   ]
  },
  {
   "cell_type": "code",
   "execution_count": 3,
   "id": "353eafe5",
   "metadata": {},
   "outputs": [],
   "source": [
    "a = 0; b = 1;   # Extremos inferior y superior del intervalo \n",
    "ya = 1          # Condición inicial del PVI\n",
    "N = 10 # Como h = 0.1, tomamos N = 10 puesto que h=(b-a)/N"
   ]
  },
  {
   "cell_type": "code",
   "execution_count": 4,
   "id": "ff410528",
   "metadata": {},
   "outputs": [
    {
     "data": {
      "text/latex": [
       "$\\displaystyle - \\frac{t}{2} + \\frac{y{\\left(t \\right)}}{2} + \\frac{d}{d t} y{\\left(t \\right)} = 0$"
      ],
      "text/plain": [
       "Eq(-t/2 + y(t)/2 + Derivative(y(t), t), 0)"
      ]
     },
     "execution_count": 4,
     "metadata": {},
     "output_type": "execute_result"
    }
   ],
   "source": [
    "# Vamos a empezar definiendo la Ec. Dif. Ordinaria (edo) a resolver\n",
    "y = sp.Function('y')\n",
    "edo = y(t).diff(t)-f(t,y(t))\n",
    "sp.Eq(edo,0)"
   ]
  },
  {
   "cell_type": "code",
   "execution_count": 5,
   "id": "51bdd965",
   "metadata": {},
   "outputs": [
    {
     "data": {
      "text/latex": [
       "$\\displaystyle y{\\left(t \\right)} = C_{1} e^{- \\frac{t}{2}} + t - 2$"
      ],
      "text/plain": [
       "Eq(y(t), C1*exp(-t/2) + t - 2)"
      ]
     },
     "execution_count": 5,
     "metadata": {},
     "output_type": "execute_result"
    }
   ],
   "source": [
    "# La resolvemos simbólicamente mediante la orden dsolve de SymPy\n",
    "edo_sol = sp.dsolve(edo)\n",
    "edo_sol"
   ]
  },
  {
   "cell_type": "code",
   "execution_count": 6,
   "id": "c5de5d1d",
   "metadata": {},
   "outputs": [
    {
     "data": {
      "text/plain": [
       "{y(0): y_0}"
      ]
     },
     "execution_count": 6,
     "metadata": {},
     "output_type": "execute_result"
    }
   ],
   "source": [
    "# Veámos ahora cómo imponer las condiciones iniciales a través de una entrada de diccionario\n",
    "ics = {y(0): y0} \n",
    "ics"
   ]
  },
  {
   "cell_type": "code",
   "execution_count": 7,
   "id": "8bb62a4b",
   "metadata": {},
   "outputs": [
    {
     "data": {
      "text/plain": [
       "(C1 - 2, y_0)"
      ]
     },
     "execution_count": 7,
     "metadata": {},
     "output_type": "execute_result"
    }
   ],
   "source": [
    "# De esta manera haríamos la sustituciones correspondientes\n",
    "edo_sol.rhs.subs(t, 0),edo_sol.lhs.subs(t, 0).subs(ics)"
   ]
  },
  {
   "cell_type": "code",
   "execution_count": 8,
   "id": "9e1d7c0d",
   "metadata": {},
   "outputs": [
    {
     "data": {
      "text/latex": [
       "$\\displaystyle y_{0} = C_{1} - 2$"
      ],
      "text/plain": [
       "Eq(y_0, C1 - 2)"
      ]
     },
     "execution_count": 8,
     "metadata": {},
     "output_type": "execute_result"
    }
   ],
   "source": [
    "CI_eq = sp.Eq(edo_sol.lhs.subs(t, 0).subs(ics),edo_sol.rhs.subs(t, 0))\n",
    "CI_eq   # Esta sería finalmente la ecuación asociada a la imposición de la condición inicial del PVI"
   ]
  },
  {
   "cell_type": "code",
   "execution_count": 9,
   "id": "0eef3c82",
   "metadata": {},
   "outputs": [
    {
     "data": {
      "text/plain": [
       "{C1: y_0 + 2}"
      ]
     },
     "execution_count": 9,
     "metadata": {},
     "output_type": "execute_result"
    }
   ],
   "source": [
    "CI_sol = sp.solve(CI_eq) # Resolvemos mediante la orden solve y extraemos la única solución de ésta\n",
    "CI_sol[0]               "
   ]
  },
  {
   "cell_type": "code",
   "execution_count": 10,
   "id": "30f9a3aa",
   "metadata": {},
   "outputs": [
    {
     "data": {
      "text/latex": [
       "$\\displaystyle y{\\left(t \\right)} = C_{1} e^{- \\frac{t}{2}} + t - 2$"
      ],
      "text/plain": [
       "Eq(y(t), C1*exp(-t/2) + t - 2)"
      ]
     },
     "execution_count": 10,
     "metadata": {},
     "output_type": "execute_result"
    }
   ],
   "source": [
    "edo_sol   # Usaremos finalmente la solución analítica general"
   ]
  },
  {
   "cell_type": "code",
   "execution_count": 11,
   "id": "a42e1f10",
   "metadata": {},
   "outputs": [
    {
     "data": {
      "text/latex": [
       "$\\displaystyle y{\\left(t \\right)} = t + \\left(y_{0} + 2\\right) e^{- \\frac{t}{2}} - 2$"
      ],
      "text/plain": [
       "Eq(y(t), t + (y_0 + 2)*exp(-t/2) - 2)"
      ]
     },
     "execution_count": 11,
     "metadata": {},
     "output_type": "execute_result"
    }
   ],
   "source": [
    "# Así como la obtención de las constantes de integración en función de las condiciones iniciales\n",
    "edo_sol.subs(CI_sol[0])"
   ]
  },
  {
   "cell_type": "code",
   "execution_count": 12,
   "id": "9f5a6577",
   "metadata": {},
   "outputs": [
    {
     "data": {
      "text/latex": [
       "$\\displaystyle t - 2 + 3 e^{- \\frac{t}{2}}$"
      ],
      "text/plain": [
       "t - 2 + 3*exp(-t/2)"
      ]
     },
     "execution_count": 12,
     "metadata": {},
     "output_type": "execute_result"
    }
   ],
   "source": [
    "# para obtener la única solución exacta de nuestro PVI \n",
    "sol_exacta = edo_sol.rhs.subs(CI_sol[0]).subs({y0:ya})\n",
    "sol_exacta"
   ]
  },
  {
   "cell_type": "code",
   "execution_count": 13,
   "id": "19f51c01",
   "metadata": {},
   "outputs": [],
   "source": [
    "def solucion_exacta(t):\n",
    "    return t-2+3*np.exp(-t/2)"
   ]
  },
  {
   "cell_type": "code",
   "execution_count": 14,
   "id": "0559f38b",
   "metadata": {
    "scrolled": true
   },
   "outputs": [
    {
     "data": {
      "text/plain": [
       "[1.0,\n",
       " 0.9536882735021419,\n",
       " 0.9145122541078787,\n",
       " 0.8821239292751735,\n",
       " 0.8561922592339455,\n",
       " 0.8364023492142145,\n",
       " 0.8224546620451538,\n",
       " 0.8140642691561406,\n",
       " 0.8109601381069178,\n",
       " 0.81288445486532]"
      ]
     },
     "execution_count": 14,
     "metadata": {},
     "output_type": "execute_result"
    }
   ],
   "source": [
    "ySolExacta = []\n",
    "\n",
    "for h in range(0,10,1):\n",
    "    ySolExacta.append(solucion_exacta(h*0.1)) \n",
    "\n",
    "    \n",
    "ySolExacta # Valores de la Solución Exacta del PVI"
   ]
  },
  {
   "cell_type": "code",
   "execution_count": 15,
   "id": "61c41461",
   "metadata": {},
   "outputs": [],
   "source": [
    "def euler_mejorado(F,x0,y0,xfinal,N):    \n",
    "    ''' método de Euler mejorado (o del punto medio) aproximado para resolver el PVI\n",
    "    X,Y     = euler_mejorado(F,x0,y0,xfinal,N).\n",
    "    {y}'    = {F(x,{y})}, donde\n",
    "    {y}     = {y[0],y[1],...y[N-1]}.\n",
    "    x0,y0   = condiciones iniciales \n",
    "    xfinal  = valor final de la variable x\n",
    "    h       = incremento de x usado para la integración\n",
    "    F       = función suplida por el usuario que devuelve \n",
    "            el array F(x,y) = {y'[0],y'[1],...,y'[N-1]}.\n",
    "    '''\n",
    "    X = np.linspace(x0,xfinal,N+1)\n",
    "    Y = [y0]\n",
    "    h = (xfinal-x0)/N\n",
    "    \n",
    "    for n in range(N):\n",
    "        Y.append(Y[n] + h*F(X[n]+(h/2),Y[n]+(h/2)*F(X[n],Y[n])))\n",
    "        \n",
    "    return np.array(X),np.array(Y)"
   ]
  },
  {
   "cell_type": "code",
   "execution_count": 16,
   "id": "570be192",
   "metadata": {},
   "outputs": [],
   "source": [
    "def euler_modificado(F,x0,y0,xfinal,N):    \n",
    "    ''' método de Euler modificado (o de Heun) aproximado para resolver el PVI\n",
    "    X,Y     = euler_modificado(F,x0,y0,xfinal,N).\n",
    "    {y}'    = {F(x,{y})}, donde\n",
    "    {y}     = {y[0],y[1],...y[N-1]}.\n",
    "    x0,y0   = condiciones iniciales \n",
    "    xfinal  = valor final de la variable x\n",
    "    h       = incremento de x usado para la integración\n",
    "    F       = función suplida por el usuario que devuelve \n",
    "            el array F(x,y) = {y'[0],y'[1],...,y'[N-1]}.\n",
    "    '''\n",
    "    X = np.linspace(x0,xfinal,N+1)\n",
    "    Y = [y0]\n",
    "    h = (xfinal-x0)/N\n",
    "    \n",
    "    for n in range(N):\n",
    "        Y.append(Y[n] + (h/2)*(F(X[n],Y[n])+F(X[n],Y[n]+h*F(X[n],Y[n]))))\n",
    "        \n",
    "    return np.array(X),np.array(Y)"
   ]
  },
  {
   "cell_type": "code",
   "execution_count": 17,
   "id": "a8f76d3b",
   "metadata": {},
   "outputs": [
    {
     "data": {
      "text/plain": [
       "array([1.        , 0.95375   , 0.91462969, 0.88229149, 0.85640478,\n",
       "       0.83665505, 0.82274311, 0.81438439, 0.81130815, 0.81325688,\n",
       "       0.8199856 ])"
      ]
     },
     "execution_count": 17,
     "metadata": {},
     "output_type": "execute_result"
    }
   ],
   "source": [
    "xx, yEulerMejorado = euler_mejorado(f,a,ya, b, N)\n",
    "\n",
    "yEulerMejorado # Valores de la solución aproximada del PVI con el Método de Euler Mejorado (o del Punto Medio)"
   ]
  },
  {
   "cell_type": "code",
   "execution_count": 18,
   "id": "83179eef",
   "metadata": {},
   "outputs": [
    {
     "data": {
      "text/plain": [
       "array([1.        , 0.95125   , 0.90975156, 0.87515117, 0.84711255,\n",
       "       0.82531582, 0.80945667, 0.79924566, 0.79440743, 0.79468007,\n",
       "       0.79981442])"
      ]
     },
     "execution_count": 18,
     "metadata": {},
     "output_type": "execute_result"
    }
   ],
   "source": [
    "xx, yEulerModificado = euler_modificado(f,a,ya, b, N)\n",
    "\n",
    "yEulerModificado # Valores de la solución aproximada del PVI con el Método de Euler Modificado"
   ]
  },
  {
   "cell_type": "code",
   "execution_count": 19,
   "id": "d8f04bfc",
   "metadata": {},
   "outputs": [
    {
     "name": "stdout",
     "output_type": "stream",
     "text": [
      "  i    Solución Exacta    Euler Mejorado (Punto Medio)    Euler Modificado\n",
      "---  -----------------  ------------------------------  ------------------\n",
      "  0           1                               1                   1\n",
      "  1           0.953688                        0.95375             0.95125\n",
      "  2           0.914512                        0.91463             0.909752\n",
      "  3           0.882124                        0.882291            0.875151\n",
      "  4           0.856192                        0.856405            0.847113\n",
      "  5           0.836402                        0.836655            0.825316\n",
      "  6           0.822455                        0.822743            0.809457\n",
      "  7           0.814064                        0.814384            0.799246\n",
      "  8           0.81096                         0.811308            0.794407\n",
      "  9           0.812884                        0.813257            0.79468\n"
     ]
    }
   ],
   "source": [
    "valores = []\n",
    "\n",
    "for i in range(0,10,1):  \n",
    "    valores.append([i,ySolExacta[i], yEulerMejorado[i], yEulerModificado[i]])\n",
    "    \n",
    "\n",
    "print(tabulate(valores, headers=[\"i\", \"Solución Exacta\", \"Euler Mejorado (Punto Medio)\", \"Euler Modificado\"]))"
   ]
  },
  {
   "cell_type": "markdown",
   "id": "16c50b0c",
   "metadata": {},
   "source": [
    "#### Vemos que con el Método de Euler Mejorado (o del Punto Medio) obtenemos una mejor aproximación  a la solución exacta con respecto al Método de Euler Modificado (o de Heun)."
   ]
  },
  {
   "cell_type": "code",
   "execution_count": 20,
   "id": "ba93f983",
   "metadata": {},
   "outputs": [],
   "source": [
    "def RK2(F,x0,y0,xfinal,N):\n",
    "    ''' método de Runge-Kutta óptimo (alpha = 3/4, beta = 2/3) de m = 2 evaluaciones para resolver el PVI\n",
    "    X,Y     = euler_modificado(F,x0,y0,xfinal,N).\n",
    "    {y}'    = {F(x,{y})}, donde\n",
    "    {y}     = {y[0],y[1],...y[N-1]}.\n",
    "    x0,y0   = condiciones iniciales \n",
    "    xfinal  = valor final de la variable x\n",
    "    h       = incremento de x usado para la integración\n",
    "    F       = función suplida por el usuario que devuelve \n",
    "            el array F(x,y) = {y'[0],y'[1],...,y'[N-1]}.\n",
    "    '''\n",
    "    X = np.linspace(x0,xfinal,N+1)\n",
    "    Y = [y0]\n",
    "    h = (xfinal-x0)/N\n",
    "    \n",
    "    for n in range(N):\n",
    "        Y.append(Y[n] + (h/4)*(F(X[n], Y[n]) + 3*F(X[n] + (2/3)*h, Y[n] + (2/3)*h*F(X[n],Y[n]))))\n",
    "        \n",
    "    return np.array(X),np.array(Y)"
   ]
  },
  {
   "cell_type": "code",
   "execution_count": 21,
   "id": "51a41f84",
   "metadata": {
    "scrolled": true
   },
   "outputs": [
    {
     "data": {
      "text/plain": [
       "array([1.        , 0.95375   , 0.91462969, 0.88229149, 0.85640478,\n",
       "       0.83665505, 0.82274311, 0.81438439, 0.81130815, 0.81325688,\n",
       "       0.8199856 ])"
      ]
     },
     "execution_count": 21,
     "metadata": {},
     "output_type": "execute_result"
    }
   ],
   "source": [
    "xx, yRK2 = RK2(f,a,ya, b, N)\n",
    "\n",
    "yRK2 # Valores de la solución aproximada del PVI con el Método de Runge-Kutta óptimo de m = 2 evaluaciones"
   ]
  },
  {
   "cell_type": "code",
   "execution_count": 22,
   "id": "50e120cc",
   "metadata": {
    "scrolled": true
   },
   "outputs": [
    {
     "name": "stdout",
     "output_type": "stream",
     "text": [
      "  i    Solución Exacta    Euler Mejorado (Punto Medio)    Euler Modificado       RK2\n",
      "---  -----------------  ------------------------------  ------------------  --------\n",
      "  0           1                               1                   1         1\n",
      "  1           0.953688                        0.95375             0.95125   0.95375\n",
      "  2           0.914512                        0.91463             0.909752  0.91463\n",
      "  3           0.882124                        0.882291            0.875151  0.882291\n",
      "  4           0.856192                        0.856405            0.847113  0.856405\n",
      "  5           0.836402                        0.836655            0.825316  0.836655\n",
      "  6           0.822455                        0.822743            0.809457  0.822743\n",
      "  7           0.814064                        0.814384            0.799246  0.814384\n",
      "  8           0.81096                         0.811308            0.794407  0.811308\n",
      "  9           0.812884                        0.813257            0.79468   0.813257\n"
     ]
    }
   ],
   "source": [
    "valores = []\n",
    "\n",
    "for i in range(0,10,1):  \n",
    "    valores.append([i,ySolExacta[i], yEulerMejorado[i], yEulerModificado[i], yRK2[i]])\n",
    "    \n",
    "\n",
    "print(tabulate(valores, headers=[\"i\", \"Solución Exacta\", \"Euler Mejorado (Punto Medio)\", \"Euler Modificado\", \"RK2\"]))"
   ]
  },
  {
   "cell_type": "markdown",
   "id": "7f77c2f8",
   "metadata": {},
   "source": [
    "#### Vemos que no hay mucha diferencia entre el Método de Euler Mejorado y el Método de Runge-Kutta óptimo de 2 evaluaciones."
   ]
  },
  {
   "cell_type": "code",
   "execution_count": 23,
   "id": "1a9d5725",
   "metadata": {
    "scrolled": true
   },
   "outputs": [
    {
     "name": "stdout",
     "output_type": "stream",
     "text": [
      "  i    Errores Euler Mejorado (Punto Medio)    Errores Euler Modificado    Errores RK2\n",
      "---  --------------------------------------  --------------------------  -------------\n",
      "  0                             0                            0             0\n",
      "  1                             6.17265e-05                  0.00243827    6.17265e-05\n",
      "  2                             0.000117433                  0.00476069    0.000117433\n",
      "  3                             0.000167561                  0.00697276    0.000167561\n",
      "  4                             0.000212521                  0.00907971    0.000212521\n",
      "  5                             0.000252698                  0.0110865     0.000252698\n",
      "  6                             0.000288451                  0.012998      0.000288451\n",
      "  7                             0.000320118                  0.0148186     0.000320118\n",
      "  8                             0.00034801                   0.0165527     0.00034801\n",
      "  9                             0.000372421                  0.0182044     0.000372421\n"
     ]
    }
   ],
   "source": [
    "errores = []\n",
    "\n",
    "for i in range(0,10,1):  \n",
    "    \n",
    "    error_euler_mejorado = abs(yEulerMejorado[i]-ySolExacta[i])\n",
    "    error_euler_modificado = abs(yEulerModificado[i]-ySolExacta[i])\n",
    "    error_rk2 = abs(yRK2[i]-ySolExacta[i])\n",
    "    \n",
    "    errores.append([i, error_euler_mejorado, error_euler_modificado, error_rk2])\n",
    "    \n",
    "\n",
    "print(tabulate(errores, headers=[\"i\", \"Errores Euler Mejorado (Punto Medio)\", \"Errores Euler Modificado\", \"Errores RK2\"]))"
   ]
  },
  {
   "cell_type": "code",
   "execution_count": 24,
   "id": "9450e29c",
   "metadata": {},
   "outputs": [
    {
     "name": "stdout",
     "output_type": "stream",
     "text": [
      "Error Máximo Euler Mejorado: 0.0003724208012951813\n",
      "Error Máximo Euler Modificado: 0.018204384742865454\n",
      "Error Máximo RK2: 0.0003724208012951813\n"
     ]
    }
   ],
   "source": [
    "error_max_euler_mejorado = np.max(error_euler_mejorado)\n",
    "error_max_euler_modificado = np.max(error_euler_modificado)\n",
    "error_max_rk2 = np.max(error_rk2)\n",
    "\n",
    "\n",
    "print('Error Máximo Euler Mejorado:', error_max_euler_mejorado)\n",
    "print('Error Máximo Euler Modificado:', error_max_euler_modificado)\n",
    "print('Error Máximo RK2:', error_max_rk2)"
   ]
  },
  {
   "cell_type": "markdown",
   "id": "5da4c499",
   "metadata": {},
   "source": [
    "#### Observamos que el Método de Euler Modificado es el que tiene el mayor error máximo comparado con los otros dos métodos, luego, es el que peor se aproxima (aunque tampoco se dispara mucho). Por otro lado, el Método de Euler Mejorado y el Método de RK2 tienen el mismo error máximo, luego, se aproximan númericamente igual de bien hacia la solución exacta del PVI.\n",
    "\n",
    "#### Esto es así porque todos los métodos tienen el mismo orden, p = 2. De hecho, para determinados valores de alpha y beta en el método de Runge-Kutta de 2 evaluaciones, obtenemos precisamente los métodos de Euler Mejorado (alpha = 1, beta = 1/2) y Euler Modificado (alpha = 1/2, beta = 1)."
   ]
  }
 ],
 "metadata": {
  "kernelspec": {
   "display_name": "Python 3 (ipykernel)",
   "language": "python",
   "name": "python3"
  },
  "language_info": {
   "codemirror_mode": {
    "name": "ipython",
    "version": 3
   },
   "file_extension": ".py",
   "mimetype": "text/x-python",
   "name": "python",
   "nbconvert_exporter": "python",
   "pygments_lexer": "ipython3",
   "version": "3.9.7"
  }
 },
 "nbformat": 4,
 "nbformat_minor": 5
}
