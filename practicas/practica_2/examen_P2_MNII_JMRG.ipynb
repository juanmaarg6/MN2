{
 "cells": [
  {
   "cell_type": "markdown",
   "id": "ce772dc0",
   "metadata": {},
   "source": [
    "## Métodos Numéricos II: Examen Práctica 2"
   ]
  },
  {
   "cell_type": "markdown",
   "id": "3bfa15f7",
   "metadata": {},
   "source": [
    "#### Autor: Juan Manuel Rodríguez Gómez"
   ]
  },
  {
   "cell_type": "code",
   "execution_count": 1,
   "id": "5e630ecf",
   "metadata": {},
   "outputs": [],
   "source": [
    "import sympy as sp\n",
    "\n",
    "from scipy.integrate import quad"
   ]
  },
  {
   "cell_type": "code",
   "execution_count": 2,
   "id": "478f9670",
   "metadata": {},
   "outputs": [
    {
     "data": {
      "text/plain": [
       "(49, 6.125)"
      ]
     },
     "execution_count": 2,
     "metadata": {},
     "output_type": "execute_result"
    }
   ],
   "source": [
    "dni = [4,9,5,5,9,4,9,4]\n",
    "s = sum(dni)\n",
    "m = s / 8\n",
    "\n",
    "s,m"
   ]
  },
  {
   "cell_type": "code",
   "execution_count": 3,
   "id": "153beba1",
   "metadata": {},
   "outputs": [],
   "source": [
    "x = sp.Symbol('x')"
   ]
  },
  {
   "cell_type": "code",
   "execution_count": 4,
   "id": "5dfa48ce",
   "metadata": {},
   "outputs": [],
   "source": [
    "def f(x):\n",
    "    \"\"\"función s*x**(m)*sp.log(x)\"\"\"\n",
    "    return s*x**(m)*sp.log(x)"
   ]
  },
  {
   "cell_type": "code",
   "execution_count": 5,
   "id": "a9aea9aa",
   "metadata": {},
   "outputs": [
    {
     "data": {
      "text/latex": [
       "$\\displaystyle 49 x^{6.125} \\log{\\left(x \\right)}$"
      ],
      "text/plain": [
       "49*x**6.125*log(x)"
      ]
     },
     "execution_count": 5,
     "metadata": {},
     "output_type": "execute_result"
    }
   ],
   "source": [
    "f(x)"
   ]
  },
  {
   "cell_type": "code",
   "execution_count": 6,
   "id": "9b55b284",
   "metadata": {},
   "outputs": [],
   "source": [
    "a = 4\n",
    "b = 9;\n",
    "tolerancia = 10**(-6)"
   ]
  },
  {
   "cell_type": "code",
   "execution_count": 7,
   "id": "269baaa1",
   "metadata": {},
   "outputs": [],
   "source": [
    "def subintervalos(n):\n",
    "    return 10*2**n"
   ]
  },
  {
   "cell_type": "code",
   "execution_count": 8,
   "id": "4fa3f957",
   "metadata": {},
   "outputs": [],
   "source": [
    "def Simpsoncompuesta(f,a,b,m):\n",
    "    \"\"\"fórmula de Simpson compuesta\"\"\"\n",
    "    h= (b-a)/(2*m)\n",
    "    P = sum([f(a+2*i*h) for i in range(1,m)])\n",
    "    I = sum([f(a+(2*i-1)*h) for i in range(1,m+1)])\n",
    "    E = f(a)+f(b)\n",
    "    return h/3*(E+2*P+4*I)"
   ]
  },
  {
   "cell_type": "code",
   "execution_count": 9,
   "id": "915777c0",
   "metadata": {},
   "outputs": [],
   "source": [
    "def SimpsonConTolerancia(f, a, b, tol):\n",
    "    simpson0 = Simpsoncompuesta(f,a,b,subintervalos(1))\n",
    "    simpson1 = Simpsoncompuesta(f,a,b,subintervalos(2))\n",
    "    n = 2\n",
    "    print(\"n =\", n, \"   error =\", float(simpson0-simpson1))\n",
    "    while (abs(simpson0-simpson1)>= tol):\n",
    "        n = n+1\n",
    "        simpson0 = simpson1\n",
    "        simpson1 = Simpsoncompuesta(f,a,b,subintervalos(n))\n",
    "        print(\"n =\", n, \"   error =\", float(simpson0-simpson1))\n",
    "        \n",
    "    return simpson1"
   ]
  },
  {
   "cell_type": "code",
   "execution_count": 10,
   "id": "1fa30e26",
   "metadata": {},
   "outputs": [
    {
     "name": "stdout",
     "output_type": "stream",
     "text": [
      "n = 2    error = 20.434854153720188\n",
      "n = 3    error = 1.2773220931130882\n",
      "n = 4    error = 0.07983485334308123\n",
      "n = 5    error = 0.004989715780770654\n",
      "n = 6    error = 0.0003118377754866453\n",
      "n = 7    error = 1.955091107782584e-05\n",
      "n = 8    error = 1.2147384330474414e-06\n",
      "n = 9    error = -7.808419839327143e-08\n"
     ]
    }
   ],
   "source": [
    "valor_aproximado_integralf = SimpsonConTolerancia(f, a, b, tolerancia)"
   ]
  },
  {
   "cell_type": "code",
   "execution_count": 11,
   "id": "5dc9508f",
   "metadata": {},
   "outputs": [
    {
     "data": {
      "text/plain": [
       "88875420.8858623"
      ]
     },
     "execution_count": 11,
     "metadata": {},
     "output_type": "execute_result"
    }
   ],
   "source": [
    "float(valor_aproximado_integralf)"
   ]
  },
  {
   "cell_type": "code",
   "execution_count": 12,
   "id": "1f9c5570",
   "metadata": {},
   "outputs": [
    {
     "data": {
      "text/plain": [
       "88875420.88586219"
      ]
     },
     "execution_count": 12,
     "metadata": {},
     "output_type": "execute_result"
    }
   ],
   "source": [
    "# Usamos quad en vez de sp.N(sp.integrate(f(x),[x,a,b])) ya que esta última da error debido a que m=6.125 es decimal.\n",
    "# Si hacemos m=6 (número entero) entonces sp.N(sp.integrate(f(x),[x,a,b])) no da error.\n",
    "    \n",
    "valor_exacto_integralf, abserr = quad(f,a,b)\n",
    "\n",
    "valor_exacto_integralf"
   ]
  },
  {
   "cell_type": "code",
   "execution_count": 13,
   "id": "b2430eea",
   "metadata": {},
   "outputs": [
    {
     "data": {
      "text/plain": [
       "1.156308971267481e-07"
      ]
     },
     "execution_count": 13,
     "metadata": {},
     "output_type": "execute_result"
    }
   ],
   "source": [
    "error_cometido = abs(valor_aproximado_integralf - valor_exacto_integralf)\n",
    "\n",
    "float(error_cometido)"
   ]
  },
  {
   "cell_type": "markdown",
   "id": "aad15048",
   "metadata": {},
   "source": [
    "Observamos que se comete un error pequeño, luego, la aproximación es buena"
   ]
  }
 ],
 "metadata": {
  "kernelspec": {
   "display_name": "Python 3 (ipykernel)",
   "language": "python",
   "name": "python3"
  },
  "language_info": {
   "codemirror_mode": {
    "name": "ipython",
    "version": 3
   },
   "file_extension": ".py",
   "mimetype": "text/x-python",
   "name": "python",
   "nbconvert_exporter": "python",
   "pygments_lexer": "ipython3",
   "version": "3.9.7"
  }
 },
 "nbformat": 4,
 "nbformat_minor": 5
}
