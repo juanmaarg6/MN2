{
 "cells": [
  {
   "cell_type": "markdown",
   "id": "07c44ad7",
   "metadata": {},
   "source": [
    "## Métodos Numéricos II: Ejercicios Práctica 2"
   ]
  },
  {
   "cell_type": "markdown",
   "id": "20d2cab2",
   "metadata": {},
   "source": [
    "#### Autor: Juan Manuel Rodríguez Gómez"
   ]
  },
  {
   "cell_type": "code",
   "execution_count": 1,
   "id": "581327e7",
   "metadata": {},
   "outputs": [],
   "source": [
    "import numpy as np\n",
    "\n",
    "import sympy as sp\n",
    "\n",
    "import matplotlib.pyplot as plt\n",
    "%matplotlib inline\n",
    "\n",
    "from tabulate import tabulate # Si no se encuentra el módulo, hacer \"conda install tabulate\" en la consola con el actual\n",
    "                              # environment activado (se puede abrir desde Anaconda)"
   ]
  },
  {
   "cell_type": "markdown",
   "id": "84b782fd",
   "metadata": {},
   "source": [
    "## Ejercicio 1\n",
    "#### Obtenga mediante interpolación en el espacio $\\mathbb{P}_2$ una fórmula para aproximar $f''(a)$ del tipo combinación de $f(a-h)$, $f(a)$ y $f(a+h)$."
   ]
  },
  {
   "cell_type": "code",
   "execution_count": 2,
   "id": "3f3d3d52",
   "metadata": {},
   "outputs": [
    {
     "data": {
      "text/plain": [
       "[f(a - h), f(a), f(a + h)]"
      ]
     },
     "execution_count": 2,
     "metadata": {},
     "output_type": "execute_result"
    }
   ],
   "source": [
    "f = sp.Function('f')\n",
    "a,h = sp.symbols('a,h')\n",
    "\n",
    "x = [a-h,a,a+h]  # Nodos de interpolación\n",
    "y = [f(x[0]),f(x[1]),f(x[2])]  # Valores interpolados\n",
    "z = sp.Symbol('z')  # Utilizaremos z como variable simbólica\n",
    "\n",
    "y"
   ]
  },
  {
   "cell_type": "code",
   "execution_count": 3,
   "id": "23f8efee",
   "metadata": {},
   "outputs": [],
   "source": [
    "p0 = y[0]  # Vamos a ir construyendo el polinomio de interpolación\n",
    "p1 = p0 + (z-x[0])/(x[1]-x[0])*(y[1]-y[0]) # usando la idea de Newton"
   ]
  },
  {
   "cell_type": "code",
   "execution_count": 4,
   "id": "fa09c4aa",
   "metadata": {},
   "outputs": [
    {
     "data": {
      "text/latex": [
       "$\\displaystyle D \\left(- a + z\\right) \\left(- a + h + z\\right) + f{\\left(a - h \\right)} + \\frac{\\left(f{\\left(a \\right)} - f{\\left(a - h \\right)}\\right) \\left(- a + h + z\\right)}{h}$"
      ],
      "text/plain": [
       "D*(-a + z)*(-a + h + z) + f(a - h) + (f(a) - f(a - h))*(-a + h + z)/h"
      ]
     },
     "execution_count": 4,
     "metadata": {},
     "output_type": "execute_result"
    }
   ],
   "source": [
    "D = sp.Symbol('D')   # D será la correspondiente diferencia dividida\n",
    "p2 = p1 + (z-x[0])*(z-x[1])*D # D = f[x0,x1,x2]\n",
    "p2  # Ya tenemos la expresión genérica de dicho polinomio de grado 2"
   ]
  },
  {
   "cell_type": "code",
   "execution_count": 5,
   "id": "23b02ecc",
   "metadata": {},
   "outputs": [
    {
     "data": {
      "text/plain": [
       "(True, True)"
      ]
     },
     "execution_count": 5,
     "metadata": {},
     "output_type": "execute_result"
    }
   ],
   "source": [
    "p2.subs({z:x[0]})==y[0],p2.subs({z:x[1]})==y[1] \n",
    "# Comprobamos que p2 interpola a y0 e y1"
   ]
  },
  {
   "cell_type": "code",
   "execution_count": 6,
   "id": "563887bf",
   "metadata": {},
   "outputs": [
    {
     "data": {
      "text/plain": [
       "[(-2*f(a) + f(a - h) + f(a + h))/(2*h**2)]"
      ]
     },
     "execution_count": 6,
     "metadata": {},
     "output_type": "execute_result"
    }
   ],
   "source": [
    "# Pero tenemos aún que garantizar que p(x2) = y2\n",
    "\n",
    "sol2 = sp.solve(p2.subs({z:x[2]})-y[2],D)  # Para ello resolvemos\n",
    "sol2    # la ecuación correspondiente y despejamos el valor de D"
   ]
  },
  {
   "cell_type": "code",
   "execution_count": 7,
   "id": "0bc43d9f",
   "metadata": {},
   "outputs": [
    {
     "data": {
      "text/latex": [
       "$\\displaystyle f{\\left(a - h \\right)} + \\frac{\\left(f{\\left(a \\right)} - f{\\left(a - h \\right)}\\right) \\left(- a + h + z\\right)}{h} + \\frac{\\left(- a + z\\right) \\left(- a + h + z\\right) \\left(- 2 f{\\left(a \\right)} + f{\\left(a - h \\right)} + f{\\left(a + h \\right)}\\right)}{2 h^{2}}$"
      ],
      "text/plain": [
       "f(a - h) + (f(a) - f(a - h))*(-a + h + z)/h + (-a + z)*(-a + h + z)*(-2*f(a) + f(a - h) + f(a + h))/(2*h**2)"
      ]
     },
     "execution_count": 7,
     "metadata": {},
     "output_type": "execute_result"
    }
   ],
   "source": [
    "D = sol2[0]\n",
    "\n",
    "p2 = p1 + (z-x[0])*(z-x[1])*D\n",
    "p2 # Polinomio final de interpolación "
   ]
  },
  {
   "cell_type": "code",
   "execution_count": 8,
   "id": "c024e180",
   "metadata": {},
   "outputs": [
    {
     "data": {
      "text/plain": [
       "True"
      ]
     },
     "execution_count": 8,
     "metadata": {},
     "output_type": "execute_result"
    }
   ],
   "source": [
    "p2.subs({z:x[2]})==y[2] # Comprobamos que p2 interpola a y2"
   ]
  },
  {
   "cell_type": "code",
   "execution_count": 9,
   "id": "7cc497a2",
   "metadata": {},
   "outputs": [
    {
     "data": {
      "text/latex": [
       "$\\displaystyle \\frac{- f{\\left(a - h \\right)} + f{\\left(a + h \\right)}}{2 h}$"
      ],
      "text/plain": [
       "(-f(a - h) + f(a + h))/(2*h)"
      ]
     },
     "execution_count": 9,
     "metadata": {},
     "output_type": "execute_result"
    }
   ],
   "source": [
    "# Obtenemos la primera derivada\n",
    "\n",
    "sp.diff(p2,z).subs({z:a}).simplify() # Derivo y evalúo en z=a"
   ]
  },
  {
   "cell_type": "code",
   "execution_count": 10,
   "id": "0d5df02c",
   "metadata": {},
   "outputs": [
    {
     "data": {
      "text/latex": [
       "$\\displaystyle \\frac{- 2 f{\\left(a \\right)} + f{\\left(a - h \\right)} + f{\\left(a + h \\right)}}{h^{2}}$"
      ],
      "text/plain": [
       "(-2*f(a) + f(a - h) + f(a + h))/h**2"
      ]
     },
     "execution_count": 10,
     "metadata": {},
     "output_type": "execute_result"
    }
   ],
   "source": [
    "# Obtenemos la segunda derivada\n",
    "\n",
    "sp.diff(p2,z,2) \n",
    "# Nótese que en este caso, ni siquiera hemos tenido\n",
    "# que evaluar dicha derivada en el punto x=a, al ser esta constante."
   ]
  },
  {
   "cell_type": "markdown",
   "id": "42c54d69",
   "metadata": {},
   "source": [
    "## Ejercicio 2\n",
    "#### Con la fórmula obtenida en el ejercicio 1, halle una tabla de aproximaciones y errores de $f_1''(2.5)$, siendo $f_1(x)=x^x$, para $h=10^{-i},\\; i=1,\\ldots,5.$"
   ]
  },
  {
   "cell_type": "code",
   "execution_count": 11,
   "id": "0a56c2eb",
   "metadata": {},
   "outputs": [],
   "source": [
    "def f1(z):\n",
    "    \"\"\"función x**x\"\"\"\n",
    "    return (z**z)"
   ]
  },
  {
   "cell_type": "code",
   "execution_count": 12,
   "id": "3a797bfe",
   "metadata": {},
   "outputs": [
    {
     "data": {
      "text/latex": [
       "$\\displaystyle z^{z}$"
      ],
      "text/plain": [
       "z**z"
      ]
     },
     "execution_count": 12,
     "metadata": {},
     "output_type": "execute_result"
    }
   ],
   "source": [
    "f1(z)"
   ]
  },
  {
   "cell_type": "code",
   "execution_count": 13,
   "id": "84eceba5",
   "metadata": {},
   "outputs": [
    {
     "data": {
      "text/latex": [
       "$\\displaystyle 40.2416648563875$"
      ],
      "text/plain": [
       "40.2416648563875"
      ]
     },
     "execution_count": 13,
     "metadata": {},
     "output_type": "execute_result"
    }
   ],
   "source": [
    "# Valor exacto de f1'' en el punto a = 2.5\n",
    "\n",
    "a = 2.5 \n",
    "valor_exacto_derivadasegundaf1 = (sp.diff(f1(z),z,2)).subs({z:a}) # La segunda derivada de f1 es x**x(ln(x)+1)**2 + x**(x-1)\n",
    "valor_exacto_derivadasegundaf1"
   ]
  },
  {
   "cell_type": "code",
   "execution_count": 14,
   "id": "2afb45ad",
   "metadata": {},
   "outputs": [
    {
     "name": "stdout",
     "output_type": "stream",
     "text": [
      "[40.4205683  40.24345023 40.24168271 40.24166476 40.24164113]\n"
     ]
    }
   ],
   "source": [
    "# Mediante la fórmula numérica obtenida en el ejercicio 1\n",
    "# calculamos las aproximaciones de f1'' en a = 2.5\n",
    "# con h desde 10^1 hasta el valor 10^(-n).\n",
    "\n",
    "n = 5 \n",
    "valores_aproximados_derivadasegundaf1 = np.array([(-2*f1(a)+f1(a-10**(-j))+f1(a+10**(-j)))/(10**(-j))**2 for j in range(1,n+1)])\n",
    "print(valores_aproximados_derivadasegundaf1)"
   ]
  },
  {
   "cell_type": "code",
   "execution_count": 15,
   "id": "e6fb48c5",
   "metadata": {},
   "outputs": [
    {
     "name": "stdout",
     "output_type": "stream",
     "text": [
      "[0.178903441570853 0.00178537455153815 1.78514991731049e-5\n",
      " 1.00363045874019e-7 2.37259090170028e-5]\n"
     ]
    }
   ],
   "source": [
    "# Errores cometidos (es decir, valores aproximados menos los valores exactos)\n",
    "\n",
    "errores = abs(np.array(valores_aproximados_derivadasegundaf1) - valor_exacto_derivadasegundaf1)\n",
    "print(errores)  "
   ]
  },
  {
   "cell_type": "code",
   "execution_count": 16,
   "id": "d2f25f2c",
   "metadata": {},
   "outputs": [
    {
     "name": "stdout",
     "output_type": "stream",
     "text": [
      "     Exacto       Aproximacion        Error\n",
      "40.2416648563875 | 40.420568 | 0.178903441570853 \n",
      "40.2416648563875 | 40.243450 | 0.00178537455153815 \n",
      "40.2416648563875 | 40.241683 | 0.0000178514991731049 \n",
      "40.2416648563875 | 40.241665 | 0.000000100363045874019 \n",
      "40.2416648563875 | 40.241641 | 0.0000237259090170028 \n"
     ]
    }
   ],
   "source": [
    "# Tabla con los errores cometidos\n",
    "\n",
    "print('     Exacto       Aproximacion        Error')\n",
    "for x in range(0,n):\n",
    "    print ('{0:2f} {3} {1:3f} {3} {2:4f} '.format(valor_exacto_derivadasegundaf1, valores_aproximados_derivadasegundaf1[x], errores[x], '|'))"
   ]
  },
  {
   "cell_type": "markdown",
   "id": "555bd2a5",
   "metadata": {},
   "source": [
    "## Ejercicio 3\n",
    "#### Sea $f_2(x)=\\frac{x^2+40}{x+\\sqrt{5x}+7}$. Calcule una tabla que recoja las derivadas de $f_2$ en $x_i=1,2,\\ldots,10$, utilizando alguna de las fórmulas de derivación numérica de primer orden obtenidas al inicio de la práctica, con $h=10^{-3}$, y muestre al mismo tiempo el error cometido en cada punto. Repita el ejercicio con la fórmula centrada obtenida para la derivada primera y, finalmente, para la obtenida en el ejercicio 1 (con respecto a la segunda derivada)."
   ]
  },
  {
   "cell_type": "code",
   "execution_count": 17,
   "id": "8f1f2d7e",
   "metadata": {},
   "outputs": [],
   "source": [
    "def f2(z):\n",
    "    \"\"\"función (x**2+40)/(x+(5*x)**(1/2)+7)\"\"\"\n",
    "    return (z**2+40)/(z+(5*z)**(1/2)+7)"
   ]
  },
  {
   "cell_type": "code",
   "execution_count": 18,
   "id": "00d43c62",
   "metadata": {},
   "outputs": [
    {
     "data": {
      "text/latex": [
       "$\\displaystyle \\frac{z^{2} + 40}{2.23606797749979 z^{0.5} + z + 7}$"
      ],
      "text/plain": [
       "(z**2 + 40)/(2.23606797749979*z**0.5 + z + 7)"
      ]
     },
     "execution_count": 18,
     "metadata": {},
     "output_type": "execute_result"
    }
   ],
   "source": [
    "f2(z)"
   ]
  },
  {
   "cell_type": "code",
   "execution_count": 19,
   "id": "0ef98870",
   "metadata": {},
   "outputs": [
    {
     "name": "stdout",
     "output_type": "stream",
     "text": [
      "[-0.633413841504903 -0.203729991363422 0.0135536765957583\n",
      " 0.152356382446352 0.250865051903114 0.325234486346073 0.383753089267232\n",
      " 0.431201820656649 0.470566739057635 0.503824070415537]\n"
     ]
    }
   ],
   "source": [
    "# Valores exactos de f2' en los puntos x_i = 1,2,...,10\n",
    "\n",
    "n = 10 \n",
    "valores_exactos_derivadaprimeraf2 = np.array([(sp.diff(f2(z),z)).subs({z:i}) for i in range(1,n+1)])\n",
    "print(valores_exactos_derivadaprimeraf2) "
   ]
  },
  {
   "cell_type": "code",
   "execution_count": 20,
   "id": "d29baddc",
   "metadata": {},
   "outputs": [
    {
     "name": "stdout",
     "output_type": "stream",
     "text": [
      "[-0.63307585 -0.20358841  0.01363783  0.15241383  0.25090736  0.3252672\n",
      "  0.38377927  0.43122332  0.47058476  0.50383942]\n"
     ]
    }
   ],
   "source": [
    "# Mediante la fórmula numérica ( f(a+h) - f(a) ) / h\n",
    "# calculamos las aproximaciones de f2' en x_i = 1,2,...,10\n",
    "# con h = 10^-3.\n",
    "\n",
    "valores_aproximados1_derivadaprimeraf2 = np.array([(f2(i+10**(-3))-f2(i))/(10**(-3)) for i in range(1,n+1)])\n",
    "print(valores_aproximados1_derivadaprimeraf2) \n"
   ]
  },
  {
   "cell_type": "code",
   "execution_count": 21,
   "id": "9c5c23f6",
   "metadata": {},
   "outputs": [
    {
     "name": "stdout",
     "output_type": "stream",
     "text": [
      "[0.000337990681841038 0.000141580338231473 8.41579481308807e-5\n",
      " 5.74471912467844e-5 4.23072889731979e-5 3.27156186125110e-5\n",
      " 2.61842658260680e-5 2.15041391883886e-5 1.80199924058044e-5\n",
      " 1.53477178297390e-5]\n"
     ]
    }
   ],
   "source": [
    "# Errores cometidos (es decir, valores aproximados menos los valores exactos)\n",
    "\n",
    "errores1 = abs(np.array(valores_aproximados1_derivadaprimeraf2) - np.array(valores_exactos_derivadaprimeraf2))\n",
    "print(errores1)                       "
   ]
  },
  {
   "cell_type": "code",
   "execution_count": 22,
   "id": "b18d3930",
   "metadata": {},
   "outputs": [
    {
     "name": "stdout",
     "output_type": "stream",
     "text": [
      "       Exacto       Aproximacion        Error\n",
      "-0.633413841504903 | -0.633076 | 0.000337990681841038 \n",
      "-0.203729991363422 | -0.203588 | 0.000141580338231473 \n",
      "0.0135536765957583 | 0.013638 | 0.0000841579481308807 \n",
      "0.152356382446352 | 0.152414 | 0.0000574471912467844 \n",
      "0.250865051903114 | 0.250907 | 0.0000423072889731979 \n",
      "0.325234486346073 | 0.325267 | 0.0000327156186125110 \n",
      "0.383753089267232 | 0.383779 | 0.0000261842658260680 \n",
      "0.431201820656649 | 0.431223 | 0.0000215041391883886 \n",
      "0.470566739057635 | 0.470585 | 0.0000180199924058044 \n",
      "0.503824070415537 | 0.503839 | 0.0000153477178297390 \n"
     ]
    }
   ],
   "source": [
    "# Tabla con los errores cometidos\n",
    "\n",
    "print('       Exacto       Aproximacion        Error')\n",
    "for x in range(0,n):\n",
    "    print ('{0:2f} {3} {1:3f} {3} {2:4f} '.format(valores_exactos_derivadaprimeraf2[x], valores_aproximados1_derivadaprimeraf2[x], errores1[x], '|'))"
   ]
  },
  {
   "cell_type": "code",
   "execution_count": 23,
   "id": "0aa574c3",
   "metadata": {},
   "outputs": [
    {
     "name": "stdout",
     "output_type": "stream",
     "text": [
      "[-0.63341398 -0.20373002  0.01355366  0.15235638  0.25086505  0.32523448\n",
      "  0.38375309  0.43120182  0.47056674  0.50382407]\n"
     ]
    }
   ],
   "source": [
    "# Mediante la fórmula centrada para la derivada primera ( f(a+h) - f(a-h) ) / 2h\n",
    "# calculamos las aproximaciones de f2'' en x_i = 1,2,...,10\n",
    "# con h = 10^-3.\n",
    "\n",
    "valores_aproximados2_derivadaprimeraf2 = np.array([(f2(i+10**(-3))-f2(i-10**(-3)))/(2*10**(-3)) for i in range(1,n+1)])\n",
    "print(valores_aproximados2_derivadaprimeraf2)"
   ]
  },
  {
   "cell_type": "code",
   "execution_count": 24,
   "id": "f083e87f",
   "metadata": {},
   "outputs": [
    {
     "name": "stdout",
     "output_type": "stream",
     "text": [
      "[1.41948942822268e-7 2.98522312980332e-8 1.22133764213217e-8\n",
      " 6.46658449010573e-9 3.92622495626327e-9 2.59752386266854e-9\n",
      " 1.82080633903681e-9 1.33376959476905e-9 1.01006225605715e-9\n",
      " 7.85527420887888e-10]\n"
     ]
    }
   ],
   "source": [
    "# Errores cometidos (es decir, valores aproximados menos los valores exactos)\n",
    "\n",
    "errores2 = abs(np.array(valores_aproximados2_derivadaprimeraf2) - np.array(valores_exactos_derivadaprimeraf2))\n",
    "print(errores2)"
   ]
  },
  {
   "cell_type": "code",
   "execution_count": 25,
   "id": "2cefe799",
   "metadata": {},
   "outputs": [
    {
     "name": "stdout",
     "output_type": "stream",
     "text": [
      "       Exacto       Aproximacion        Error\n",
      "-0.633413841504903 | -0.633414 | 0.000000141948942822268 \n",
      "-0.203729991363422 | -0.203730 | 0.0000000298522312980332 \n",
      "0.0135536765957583 | 0.013554 | 0.0000000122133764213217 \n",
      "0.152356382446352 | 0.152356 | 0.00000000646658449010573 \n",
      "0.250865051903114 | 0.250865 | 0.00000000392622495626327 \n",
      "0.325234486346073 | 0.325234 | 0.00000000259752386266854 \n",
      "0.383753089267232 | 0.383753 | 0.00000000182080633903681 \n",
      "0.431201820656649 | 0.431202 | 0.00000000133376959476905 \n",
      "0.470566739057635 | 0.470567 | 0.00000000101006225605715 \n",
      "0.503824070415537 | 0.503824 | 0.000000000785527420887888 \n"
     ]
    }
   ],
   "source": [
    "# Tabla con los errores cometidos\n",
    "\n",
    "print('       Exacto       Aproximacion        Error')\n",
    "for x in range(0,n):\n",
    "    print ('{0:2f} {3} {1:3f} {3} {2:4f} '.format(valores_exactos_derivadaprimeraf2[x], valores_aproximados2_derivadaprimeraf2[x], errores2[x], '|'))"
   ]
  },
  {
   "cell_type": "code",
   "execution_count": 26,
   "id": "ce42c9de",
   "metadata": {},
   "outputs": [
    {
     "name": "stdout",
     "output_type": "stream",
     "text": [
      "[0.676265098285376 0.283220364176106 0.168340319928121 0.114907312895053\n",
      " 0.0846224302869937 0.0654364313639429 0.0523721743690358\n",
      " 0.0430109449028751 0.0360420057237485 0.0306970066620211]\n"
     ]
    }
   ],
   "source": [
    "# Valores exactos de f2'' en los puntos x_i = 1,2,...,10\n",
    "\n",
    "valores_exactos_derivadasegundaf2 = np.array([(sp.diff(f2(z),z,2)).subs({z:i}) for i in range(1,n+1)])\n",
    "print(valores_exactos_derivadasegundaf2)"
   ]
  },
  {
   "cell_type": "code",
   "execution_count": 27,
   "id": "775e4d0c",
   "metadata": {},
   "outputs": [
    {
     "name": "stdout",
     "output_type": "stream",
     "text": [
      "[0.67626526 0.28322038 0.16834032 0.11490732 0.08462243 0.06543643\n",
      " 0.05237217 0.04301095 0.036042   0.03069701]\n"
     ]
    }
   ],
   "source": [
    "# Mediante la fórmula numérica obtenida en el ejercicio 1 ( f(a+h) + f(a-h) - 2f(a) ) / h^2\n",
    "# calculamos las aproximaciones de f2'' en x_i = 1,2,...,10\n",
    "# con h = 10^-3.\n",
    "\n",
    "valores_aproximados_derivadasegundaf2 = np.array([(f2(i+10**(-3))+f2(i-10**(-3))-2*f2(i))/(10**(-3))**2 for i in range(1,n+1)])\n",
    "print(valores_aproximados_derivadasegundaf2)"
   ]
  },
  {
   "cell_type": "code",
   "execution_count": 28,
   "id": "328a2647",
   "metadata": {},
   "outputs": [
    {
     "name": "stdout",
     "output_type": "stream",
     "text": [
      "[1.62394166891566e-7 1.63053464619090e-8 3.08648318014804e-9\n",
      " 2.76749589911418e-9 5.53403864400615e-10 1.79698290969643e-9\n",
      " 2.16043211098693e-10 1.01309156202989e-9 7.87627567333526e-10\n",
      " 8.35879736954537e-10]\n"
     ]
    }
   ],
   "source": [
    "# Errores cometidos (es decir, valores aproximados menos los valores exactos)\n",
    "\n",
    "errores3 = abs(np.array(valores_aproximados_derivadasegundaf2) - np.array(valores_exactos_derivadasegundaf2))\n",
    "print(errores3)"
   ]
  },
  {
   "cell_type": "code",
   "execution_count": 29,
   "id": "5b613038",
   "metadata": {},
   "outputs": [
    {
     "name": "stdout",
     "output_type": "stream",
     "text": [
      "     Exacto       Aproximacion        Error\n",
      "0.676265098285376 | 0.676265 | 0.000000162394166891566 \n",
      "0.283220364176106 | 0.283220 | 0.0000000163053464619090 \n",
      "0.168340319928121 | 0.168340 | 0.00000000308648318014804 \n",
      "0.114907312895053 | 0.114907 | 0.00000000276749589911418 \n",
      "0.0846224302869937 | 0.084622 | 0.000000000553403864400615 \n",
      "0.0654364313639429 | 0.065436 | 0.00000000179698290969643 \n",
      "0.0523721743690358 | 0.052372 | 0.000000000216043211098693 \n",
      "0.0430109449028751 | 0.043011 | 0.00000000101309156202989 \n",
      "0.0360420057237485 | 0.036042 | 0.000000000787627567333526 \n",
      "0.0306970066620211 | 0.030697 | 0.000000000835879736954537 \n"
     ]
    }
   ],
   "source": [
    "# Tabla con los errores cometidos\n",
    "\n",
    "print('     Exacto       Aproximacion        Error')\n",
    "for x in range(0,n):\n",
    "    print ('{0:2f} {3} {1:3f} {3} {2:4f} '.format(valores_exactos_derivadasegundaf2[x], valores_aproximados_derivadasegundaf2[x], errores3[x], '|'))"
   ]
  },
  {
   "cell_type": "markdown",
   "id": "26397b88",
   "metadata": {},
   "source": [
    "## Ejercicio 4\n",
    "#### Divida el intervalo $[1,2]$ en 100 partes iguales y aplique las fórmulas del rectángulo, Simpson y trapecio compuestas para aproximar la integral en dicho intervalo de $f_1$. Compare dichos resultados."
   ]
  },
  {
   "cell_type": "code",
   "execution_count": 30,
   "id": "00036dfc",
   "metadata": {},
   "outputs": [],
   "source": [
    "def formrectangizda(f,a,b,nx):\n",
    "    \"\"\"fórmula compuesta de los rectangulos a izquierda\"\"\"\n",
    "    h = (b-a)/nx\n",
    "    return h*sum([f(a+i*h) for i in range(0,nx)])"
   ]
  },
  {
   "cell_type": "code",
   "execution_count": 31,
   "id": "2b08789c",
   "metadata": {},
   "outputs": [],
   "source": [
    "a = 1\n",
    "b = 2\n",
    "n = 100"
   ]
  },
  {
   "cell_type": "code",
   "execution_count": 32,
   "id": "1bd6f61d",
   "metadata": {},
   "outputs": [
    {
     "data": {
      "text/plain": [
       "2.0354943390855573"
      ]
     },
     "execution_count": 32,
     "metadata": {},
     "output_type": "execute_result"
    }
   ],
   "source": [
    "f1_rect_izq = formrectangizda(f1,a,b,n)\n",
    "f1_rect_izq"
   ]
  },
  {
   "cell_type": "code",
   "execution_count": 33,
   "id": "dc6c470d",
   "metadata": {},
   "outputs": [],
   "source": [
    "def formrectangdcha(f,a,b,nx):\n",
    "    \"\"\"fórmula compuesta de los rectangulos a derecha\"\"\"\n",
    "    h = (b-a)/nx\n",
    "    return h*sum([f(a+(i+1)*h) for i in range(0,nx)])"
   ]
  },
  {
   "cell_type": "code",
   "execution_count": 34,
   "id": "0031c6d9",
   "metadata": {},
   "outputs": [
    {
     "data": {
      "text/plain": [
       "2.065494339085557"
      ]
     },
     "execution_count": 34,
     "metadata": {},
     "output_type": "execute_result"
    }
   ],
   "source": [
    "f1_rect_der = formrectangdcha(f1,a,b,n)\n",
    "f1_rect_der"
   ]
  },
  {
   "cell_type": "code",
   "execution_count": 35,
   "id": "de120442",
   "metadata": {},
   "outputs": [],
   "source": [
    "def formrectangptomedio(f,a,b,nx):\n",
    "    \"\"\"fórmula compuesta de los rectangulos de punto medio\"\"\"\n",
    "    h = (b-a)/nx\n",
    "    return h*sum([f(a+(i+1/2)*h) for i in range(0,nx)])"
   ]
  },
  {
   "cell_type": "code",
   "execution_count": 36,
   "id": "eca63f62",
   "metadata": {},
   "outputs": [
    {
     "data": {
      "text/plain": [
       "2.050422182392515"
      ]
     },
     "execution_count": 36,
     "metadata": {},
     "output_type": "execute_result"
    }
   ],
   "source": [
    "f1_rect_pto_medio = formrectangptomedio(f1,a,b,n)\n",
    "f1_rect_pto_medio"
   ]
  },
  {
   "cell_type": "code",
   "execution_count": 37,
   "id": "e8c16699",
   "metadata": {},
   "outputs": [],
   "source": [
    "def formtrapecios(f,a,b,nx):\n",
    "    \"\"\"fórmula compuesta de los trapecios\"\"\"\n",
    "    h = (b-a)/nx\n",
    "    return h/2*(f(a)+2*sum([f(a+i*h) for i in range(1,nx)])+f(b))"
   ]
  },
  {
   "cell_type": "code",
   "execution_count": 38,
   "id": "7a3b622a",
   "metadata": {},
   "outputs": [
    {
     "data": {
      "text/plain": [
       "2.0504943390855574"
      ]
     },
     "execution_count": 38,
     "metadata": {},
     "output_type": "execute_result"
    }
   ],
   "source": [
    "f1_trapecios = formtrapecios(f1,a,b,n)\n",
    "f1_trapecios"
   ]
  },
  {
   "cell_type": "code",
   "execution_count": 39,
   "id": "cd2ba046",
   "metadata": {},
   "outputs": [],
   "source": [
    "def Simpsoncompuesta(f,a,b,m):\n",
    "    \"\"\"fórmula de Simpson compuesta\"\"\"\n",
    "    h= (b-a)/(2*m)\n",
    "    P = sum([f(a+2*i*h) for i in range(1,m)])\n",
    "    I = sum([f(a+(2*i-1)*h) for i in range(1,m+1)])\n",
    "    E = f(a)+f(b)\n",
    "    return h/3*(E+2*P+4*I)"
   ]
  },
  {
   "cell_type": "code",
   "execution_count": 40,
   "id": "e31b0218",
   "metadata": {
    "scrolled": true
   },
   "outputs": [
    {
     "data": {
      "text/plain": [
       "2.0504462346235295"
      ]
     },
     "execution_count": 40,
     "metadata": {},
     "output_type": "execute_result"
    }
   ],
   "source": [
    "f1_simpson = Simpsoncompuesta(f1,a,b,n)\n",
    "f1_simpson"
   ]
  },
  {
   "cell_type": "code",
   "execution_count": 41,
   "id": "938b3e7f",
   "metadata": {},
   "outputs": [
    {
     "data": {
      "text/plain": [
       "(2.050446234534731, 2.2764526203364124e-14)"
      ]
     },
     "execution_count": 41,
     "metadata": {},
     "output_type": "execute_result"
    }
   ],
   "source": [
    "from scipy.integrate import quad # Usamos quad porque sympy no es capaz de calcular el valor exacto\n",
    "                                 # de la integral usando sp.integrate\n",
    "\n",
    "valor_exacto_f1, abserr_f1 = quad(f1, a, b)\n",
    "valor_exacto_f1, abserr_f1"
   ]
  },
  {
   "cell_type": "code",
   "execution_count": 42,
   "id": "16b8331f",
   "metadata": {},
   "outputs": [
    {
     "name": "stdout",
     "output_type": "stream",
     "text": [
      "Valor \"exacto\": 2.050446234534731\n",
      "\n",
      "Fórmula                 Aproximación   Error\n",
      "--------------------------  -------  -----------\n",
      "Rectangulos a izquierda     2.03549  0.0149519\n",
      "Rectangulos a derecha       2.06549  0.0150481\n",
      "Rectangulos de punto medio  2.05042  2.40521e-05\n",
      "Trapecios                   2.05049  4.81046e-05\n",
      "Simpson                     2.05045  8.87983e-11\n",
      "--------------------------  -------  -----------\n"
     ]
    }
   ],
   "source": [
    "resultados_integracion_f1 = [['Rectangulos a izquierda', f1_rect_izq, abs(f1_rect_izq-valor_exacto_f1)],\n",
    "         ['Rectangulos a derecha', f1_rect_der, abs(f1_rect_der-valor_exacto_f1)],\n",
    "         ['Rectangulos de punto medio', f1_rect_pto_medio, abs(f1_rect_pto_medio-valor_exacto_f1)],\n",
    "         ['Trapecios', f1_trapecios, abs(f1_trapecios-valor_exacto_f1)],\n",
    "         ['Simpson', f1_simpson, abs(f1_simpson-valor_exacto_f1)]]\n",
    "\n",
    "print(\"Valor \\\"exacto\\\": {}\\n\".format(valor_exacto_f1))\n",
    "\n",
    "print(\"Fórmula                 Aproximación   Error\")\n",
    "print(tabulate(resultados_integracion_f1))"
   ]
  },
  {
   "cell_type": "markdown",
   "id": "c481ee65",
   "metadata": {},
   "source": [
    "Vemos que el resultado dado por la fórmula de Simpson es la que más se aproxima al valor exacto."
   ]
  },
  {
   "cell_type": "markdown",
   "id": "dd310a57",
   "metadata": {},
   "source": [
    "## Ejercicio 5\n",
    "#### Repita el ejercicio 4 para $f_2$. "
   ]
  },
  {
   "cell_type": "code",
   "execution_count": 43,
   "id": "150c75ff",
   "metadata": {},
   "outputs": [
    {
     "data": {
      "text/plain": [
       "3.778523202782093"
      ]
     },
     "execution_count": 43,
     "metadata": {},
     "output_type": "execute_result"
    }
   ],
   "source": [
    "f2_rect_izq = formrectangizda(f2,a,b,n)\n",
    "f2_rect_izq"
   ]
  },
  {
   "cell_type": "code",
   "execution_count": 44,
   "id": "a9cffc72",
   "metadata": {},
   "outputs": [
    {
     "data": {
      "text/plain": [
       "3.774646194132547"
      ]
     },
     "execution_count": 44,
     "metadata": {},
     "output_type": "execute_result"
    }
   ],
   "source": [
    "f2_rect_der = formrectangdcha(f2,a,b,n)\n",
    "f2_rect_der"
   ]
  },
  {
   "cell_type": "code",
   "execution_count": 45,
   "id": "0b7fcf00",
   "metadata": {},
   "outputs": [
    {
     "data": {
      "text/plain": [
       "3.7765793274267083"
      ]
     },
     "execution_count": 45,
     "metadata": {},
     "output_type": "execute_result"
    }
   ],
   "source": [
    "f2_rect_pto_medio = formrectangptomedio(f2,a,b,n)\n",
    "f2_rect_pto_medio"
   ]
  },
  {
   "cell_type": "code",
   "execution_count": 46,
   "id": "2960b3ce",
   "metadata": {},
   "outputs": [
    {
     "data": {
      "text/plain": [
       "3.77658469845732"
      ]
     },
     "execution_count": 46,
     "metadata": {},
     "output_type": "execute_result"
    }
   ],
   "source": [
    "f2_trapecios = formtrapecios(f2,a,b,n)\n",
    "f2_trapecios"
   ]
  },
  {
   "cell_type": "code",
   "execution_count": 47,
   "id": "98f8d1a0",
   "metadata": {
    "scrolled": true
   },
   "outputs": [
    {
     "data": {
      "text/plain": [
       "3.7765811177702457"
      ]
     },
     "execution_count": 47,
     "metadata": {},
     "output_type": "execute_result"
    }
   ],
   "source": [
    "f2_simpson = Simpsoncompuesta(f2,a,b,n)\n",
    "f2_simpson"
   ]
  },
  {
   "cell_type": "code",
   "execution_count": 48,
   "id": "8b19952e",
   "metadata": {},
   "outputs": [
    {
     "data": {
      "text/plain": [
       "(3.77658111776791, 4.192847311310543e-14)"
      ]
     },
     "execution_count": 48,
     "metadata": {},
     "output_type": "execute_result"
    }
   ],
   "source": [
    "valor_exacto_f2, abserr_f2 = quad(f2, a, b)\n",
    "valor_exacto_f2, abserr_f2"
   ]
  },
  {
   "cell_type": "code",
   "execution_count": 49,
   "id": "8bfafea9",
   "metadata": {
    "scrolled": true
   },
   "outputs": [
    {
     "name": "stdout",
     "output_type": "stream",
     "text": [
      "Valor \"exacto\": 3.77658111776791\n",
      "\n",
      "Fórmula                 Aproximación   Error\n",
      "--------------------------  -------  -----------\n",
      "Rectangulos a izquierda     3.77852  0.00194209\n",
      "Rectangulos a derecha       3.77465  0.00193492\n",
      "Rectangulos de punto medio  3.77658  1.79034e-06\n",
      "Trapecios                   3.77658  3.58069e-06\n",
      "Simpson                     3.77658  2.33591e-12\n",
      "--------------------------  -------  -----------\n"
     ]
    }
   ],
   "source": [
    "resultados_integracion_f2 = [['Rectangulos a izquierda', f2_rect_izq, abs(f2_rect_izq-valor_exacto_f2)],\n",
    "         ['Rectangulos a derecha', f2_rect_der, abs(f2_rect_der-valor_exacto_f2)],\n",
    "         ['Rectangulos de punto medio', f2_rect_pto_medio, abs(f2_rect_pto_medio-valor_exacto_f2)],\n",
    "         ['Trapecios', f2_trapecios, abs(f2_trapecios-valor_exacto_f2)],\n",
    "         ['Simpson', f2_simpson, abs(f2_simpson-valor_exacto_f2)]]\n",
    "\n",
    "print(\"Valor \\\"exacto\\\": {}\\n\".format(valor_exacto_f2))\n",
    "\n",
    "print(\"Fórmula                 Aproximación   Error\")\n",
    "print(tabulate(resultados_integracion_f2))"
   ]
  },
  {
   "cell_type": "markdown",
   "id": "aac407a9",
   "metadata": {},
   "source": [
    "Al igual que el ejercicio anterior, vemos que el resultado dado por la fórmula de Simpson es la que más se aproxima al valor exacto."
   ]
  },
  {
   "cell_type": "markdown",
   "id": "f54a8dbe",
   "metadata": {},
   "source": [
    "## Ejercicio 6\n",
    "#### Sea $f_3(x)=x^{15} e^x$ en $[0,2]$. Vamos a dividir el intervalo en $10\\times 2^n$ subintervalos, es decir, $10,\\,20,\\,40,\\, 80,\\ldots $ y a aplicar la fórmula de Simpson compuesta hasta que la diferencia entre dos aproximaciones consecutivas (por ejemplo, podrían ser con $20$ y $40$ subintervalos) sea menor que $10^{-2}$, dando en tal caso por buena la última aproximación obtenida. Programe y calcule dicha aproximación. Compare ambas aproximaciones con el valor exacto."
   ]
  },
  {
   "cell_type": "code",
   "execution_count": 50,
   "id": "bc5257ae",
   "metadata": {},
   "outputs": [],
   "source": [
    "def f3(z):\n",
    "    \"\"\"función x**(15)*sp.exp(x)\"\"\"\n",
    "    return z**(15)*sp.exp(z)"
   ]
  },
  {
   "cell_type": "code",
   "execution_count": 51,
   "id": "d7eff9be",
   "metadata": {},
   "outputs": [
    {
     "data": {
      "text/latex": [
       "$\\displaystyle z^{15} e^{z}$"
      ],
      "text/plain": [
       "z**15*exp(z)"
      ]
     },
     "execution_count": 51,
     "metadata": {},
     "output_type": "execute_result"
    }
   ],
   "source": [
    "f3(z)"
   ]
  },
  {
   "cell_type": "code",
   "execution_count": 52,
   "id": "d3713b73",
   "metadata": {},
   "outputs": [],
   "source": [
    "a = 0\n",
    "b = 2;\n",
    "tolerancia = 10**(-2)"
   ]
  },
  {
   "cell_type": "code",
   "execution_count": 53,
   "id": "ec183510",
   "metadata": {},
   "outputs": [],
   "source": [
    "def subintervalos(n):\n",
    "    return 10*2**n\n",
    "\n",
    "def SimpsonConTolerancia(f, a, b, tol):\n",
    "    simpson0 = Simpsoncompuesta(f,a,b,subintervalos(1))\n",
    "    simpson1 = Simpsoncompuesta(f,a,b,subintervalos(2))\n",
    "    n = 2\n",
    "    print(\"n =\", n, \"   error =\", float(simpson0-simpson1))\n",
    "    while (abs(simpson0-simpson1)>= tol):\n",
    "        n = n+1\n",
    "        simpson0 = simpson1\n",
    "        simpson1 = Simpsoncompuesta(f,a,b,subintervalos(n))\n",
    "        print(\"n =\", n, \"   error =\", float(simpson0-simpson1))\n",
    "        \n",
    "    return simpson1"
   ]
  },
  {
   "cell_type": "code",
   "execution_count": 54,
   "id": "6ef0d183",
   "metadata": {},
   "outputs": [
    {
     "name": "stdout",
     "output_type": "stream",
     "text": [
      "n = 2    error = 4.054081166325991\n",
      "n = 3    error = 0.2562843870996927\n",
      "n = 4    error = 0.0160635850614006\n",
      "n = 5    error = 0.001004691558945894\n"
     ]
    }
   ],
   "source": [
    "valor_aproximado_integralf3 = SimpsonConTolerancia(f3, a, b, tolerancia)"
   ]
  },
  {
   "cell_type": "code",
   "execution_count": 55,
   "id": "ef6cf8c7",
   "metadata": {},
   "outputs": [
    {
     "data": {
      "text/plain": [
       "27062.702480891214"
      ]
     },
     "execution_count": 55,
     "metadata": {},
     "output_type": "execute_result"
    }
   ],
   "source": [
    "float(valor_aproximado_integralf3)"
   ]
  },
  {
   "cell_type": "code",
   "execution_count": 56,
   "id": "20a60a09",
   "metadata": {},
   "outputs": [
    {
     "data": {
      "text/plain": [
       "27062.702413899602"
      ]
     },
     "execution_count": 56,
     "metadata": {},
     "output_type": "execute_result"
    }
   ],
   "source": [
    "valor_exacto_integralf3 = sp.integrate(f3(z),[z,a,b])\n",
    "float(valor_exacto_integralf3)"
   ]
  },
  {
   "cell_type": "code",
   "execution_count": 57,
   "id": "8712d443",
   "metadata": {},
   "outputs": [
    {
     "data": {
      "text/plain": [
       "5.627667466096787e-05"
      ]
     },
     "execution_count": 57,
     "metadata": {},
     "output_type": "execute_result"
    }
   ],
   "source": [
    "error = abs(valor_aproximado_integralf3 - valor_exacto_integralf3)\n",
    "float(error)"
   ]
  },
  {
   "cell_type": "markdown",
   "id": "c62e5655",
   "metadata": {},
   "source": [
    "Vemos que el error cometido es muy pequeño, luego, la aproximación es buena."
   ]
  },
  {
   "cell_type": "markdown",
   "id": "d4bd3d2e",
   "metadata": {},
   "source": [
    "## Ejercicio 7\n",
    "#### Calcule las fórmulas gaussianas con $2$ y $3$ nodos,en el intervalo $[-1,1]$, siendo la función peso el valor absoluto de la variable. Aplíquelas para aproximar la función $x\\; e^x$ en $[-1,1]$ y compare los resultados con el valor exacto (organizando los cálculos de forma adecuada)."
   ]
  },
  {
   "cell_type": "code",
   "execution_count": 58,
   "id": "e916c91b",
   "metadata": {},
   "outputs": [
    {
     "data": {
      "text/plain": [
       "(1, 0, 1)"
      ]
     },
     "execution_count": 58,
     "metadata": {},
     "output_type": "execute_result"
    }
   ],
   "source": [
    "x = sp.Symbol('x')\n",
    "\n",
    "def w(x):\n",
    "    \"\"\"función peso\"\"\"\n",
    "    return abs(x)\n",
    "\n",
    "w(-1), w(0), w(1)"
   ]
  },
  {
   "cell_type": "code",
   "execution_count": 59,
   "id": "d2983ebc",
   "metadata": {},
   "outputs": [],
   "source": [
    "def f(x):\n",
    "    return x*sp.exp(x)"
   ]
  },
  {
   "cell_type": "code",
   "execution_count": 60,
   "id": "85ad9175",
   "metadata": {},
   "outputs": [],
   "source": [
    "a = -1\n",
    "b = 1;"
   ]
  },
  {
   "cell_type": "code",
   "execution_count": 61,
   "id": "bf700bc0",
   "metadata": {},
   "outputs": [],
   "source": [
    "def formgaussiana(n, f, w, a, b):\n",
    "    grexact = 2*n-1 # Grado exactitud\n",
    "    \n",
    "    p = sp.symbols('p0:'+ str(n)) # Tupla de n nodos\n",
    "    nodos = list(p)\n",
    "    \n",
    "    c = sp.symbols('c0:'+ str(n)) # Tupla de n coeficientes\n",
    "    coefs = list(c)\n",
    "    \n",
    "    incogs = coefs + nodos\n",
    "    \n",
    "    ecs = [np.dot([(z**i).subs({z:nodos[j]}) for j in range(n)],coefs)-sp.integrate(w(x)*x**i,(x,a,b)) for i in range(grexact+1)]\n",
    "\n",
    "    solsGauss = sp.solve(ecs,incogs)\n",
    "    \n",
    "    for i in range(n):\n",
    "        coefs[i] = solsGauss[0][i]\n",
    "        nodos[i] = solsGauss[0][n+i]\n",
    "        \n",
    "    formGauss = np.dot([f(nodos[i]) for i in range(n)],coefs)\n",
    "    \n",
    "    return formGauss"
   ]
  },
  {
   "cell_type": "code",
   "execution_count": 62,
   "id": "d77d4ac4",
   "metadata": {},
   "outputs": [
    {
     "data": {
      "text/latex": [
       "$\\displaystyle - \\frac{\\sqrt{2}}{4 e^{\\frac{\\sqrt{2}}{2}}} + \\frac{\\sqrt{2} e^{\\frac{\\sqrt{2}}{2}}}{4}$"
      ],
      "text/plain": [
       "-sqrt(2)*exp(-sqrt(2)/2)/4 + sqrt(2)*exp(sqrt(2)/2)/4"
      ]
     },
     "execution_count": 62,
     "metadata": {},
     "output_type": "execute_result"
    }
   ],
   "source": [
    "# Fórmula gaussiana con 2 nodos\n",
    "\n",
    "gauss_dos_nodos = formgaussiana(2, f, w, -1, 1)\n",
    "gauss_dos_nodos"
   ]
  },
  {
   "cell_type": "code",
   "execution_count": 63,
   "id": "40dc3543",
   "metadata": {},
   "outputs": [
    {
     "data": {
      "text/latex": [
       "$\\displaystyle - \\frac{\\sqrt{6}}{8 e^{\\frac{\\sqrt{6}}{3}}} + \\frac{\\sqrt{6} e^{\\frac{\\sqrt{6}}{3}}}{8}$"
      ],
      "text/plain": [
       "-sqrt(6)*exp(-sqrt(6)/3)/8 + sqrt(6)*exp(sqrt(6)/3)/8"
      ]
     },
     "execution_count": 63,
     "metadata": {},
     "output_type": "execute_result"
    }
   ],
   "source": [
    "# Fórmula gaussiana con 3 nodos\n",
    "\n",
    "gauss_tres_nodos = formgaussiana(3, f, w, -1, 1)\n",
    "gauss_tres_nodos"
   ]
  },
  {
   "cell_type": "code",
   "execution_count": 64,
   "id": "c546ee4e",
   "metadata": {},
   "outputs": [],
   "source": [
    "gauss_dos_nodos = float(gauss_dos_nodos)\n",
    "gauss_tres_nodos =float(gauss_tres_nodos)\n",
    "valor_exacto = sp.integrate(w(x)*f(x), [x, a, b])"
   ]
  },
  {
   "cell_type": "code",
   "execution_count": 65,
   "id": "6edba4df",
   "metadata": {
    "scrolled": true
   },
   "outputs": [
    {
     "name": "stdout",
     "output_type": "stream",
     "text": [
      "  n    Gaussiana    Exacto        Error\n",
      "---  -----------  --------  -----------\n",
      "  2     0.542721  0.557679  0.0149582\n",
      "  3     0.557437  0.557679  0.000241959\n"
     ]
    }
   ],
   "source": [
    "table = [[2, gauss_dos_nodos, valor_exacto, abs(gauss_dos_nodos-valor_exacto)],\n",
    "         [3, gauss_tres_nodos, valor_exacto, abs(gauss_tres_nodos-valor_exacto)]]\n",
    "\n",
    "print(tabulate(table, headers=[\"n\",\"Gaussiana\", \"Exacto\", \"Error\"]))"
   ]
  },
  {
   "cell_type": "markdown",
   "id": "a3c876c0",
   "metadata": {},
   "source": [
    "## Ejercicio 8\n",
    "#### Programar las técnicas de integración de Romberg y adaptativa, para después aplicarlas a la aproximación de la siguiente integral $$\\int_a^b p(x)\\, dx$$ siendo  $\\;a=\\displaystyle\\min_{0\\leq i\\leq 7}{d_i}$, $\\;b=\\displaystyle\\max_{0\\leq i\\leq 7}{d_i}$ y  $$p(x)=d_0 + d_1 x + d_2 x^2 + d_3 x^3+ d_4 x^4 + d_5 x^5 + d_6 x^6 + d_7 x^7 $$ (siendo $d_0, d_1, \\ldots, d_7$ los dígitos de su DNI, pasaporte o tarjeta de residente)."
   ]
  },
  {
   "cell_type": "code",
   "execution_count": 66,
   "id": "54feaf6e",
   "metadata": {},
   "outputs": [],
   "source": [
    "def p(x):\n",
    "    \"\"\"polinomio 4+9*x+5*x**2+5*x**3+9*x**4+4*x**5+9*x**6+4*x**7\"\"\"\n",
    "    return 4+9*x+5*x**2+5*x**3+9*x**4+4*x**5+9*x**6+4*x**7"
   ]
  },
  {
   "cell_type": "code",
   "execution_count": 67,
   "id": "07a92bb7",
   "metadata": {},
   "outputs": [],
   "source": [
    "a = 4\n",
    "b = 9"
   ]
  },
  {
   "cell_type": "code",
   "execution_count": 68,
   "id": "33ae19da",
   "metadata": {},
   "outputs": [],
   "source": [
    "def Romberg(f, a, b, tol):\n",
    "    N = 1; n = 1; h = b-a\n",
    "    R = np.zeros((50, 50))\n",
    "    R[1][1] = h/2*(f(a)+f(b))\n",
    "    \n",
    "    while( abs(R[N-1][N-1]-R[N][N]) > tol):\n",
    "        x = np.linspace(a+h/2, b-h/2, n)\n",
    "        R[N+1][1] = (R[N][1]+h*sum(f(x)))/2\n",
    "        N = N+1; n = 2*n; h = h/2;\n",
    "        \n",
    "        for k in range (2,N+1):\n",
    "            coef = 4*(k-1)\n",
    "            R[N][k] = (coef*R[N][k-1] - R[N-1][k-1])/(coef-1)\n",
    "        #print(R[N][N])\n",
    "    return R[N][N]  "
   ]
  },
  {
   "cell_type": "code",
   "execution_count": 69,
   "id": "a549361d",
   "metadata": {},
   "outputs": [
    {
     "data": {
      "text/plain": [
       "28084369.345255036"
      ]
     },
     "execution_count": 69,
     "metadata": {},
     "output_type": "execute_result"
    }
   ],
   "source": [
    "romberg = Romberg(p, a, b, 10**(-2))\n",
    "romberg"
   ]
  },
  {
   "cell_type": "code",
   "execution_count": 70,
   "id": "821a11c1",
   "metadata": {},
   "outputs": [],
   "source": [
    "def Adaptativa(f, a, b, epsilon):\n",
    "    def S(a,b):\n",
    "        m = (a+b)/2\n",
    "        h = (b-a)/2\n",
    "        return h/3 * (f(a)+4*f(m)+f(b))\n",
    "\n",
    "    m = (a+b)/2\n",
    "    simpson = S(a,m)+S(m,b)\n",
    "    if( abs(S(a,b)-simpson) < 10*epsilon): \n",
    "        return simpson\n",
    "    else: \n",
    "        return Adaptativa(f,a,m,epsilon/2)+ Adaptativa(f,m,b,epsilon/2)"
   ]
  },
  {
   "cell_type": "code",
   "execution_count": 71,
   "id": "54f697d3",
   "metadata": {},
   "outputs": [
    {
     "data": {
      "text/plain": [
       "28084369.34781106"
      ]
     },
     "execution_count": 71,
     "metadata": {},
     "output_type": "execute_result"
    }
   ],
   "source": [
    "adaptativa = Adaptativa(p,a,b,10**(-2))\n",
    "adaptativa"
   ]
  },
  {
   "cell_type": "code",
   "execution_count": 72,
   "id": "f9334655",
   "metadata": {},
   "outputs": [
    {
     "data": {
      "text/plain": [
       "28084369.345238097"
      ]
     },
     "execution_count": 72,
     "metadata": {},
     "output_type": "execute_result"
    }
   ],
   "source": [
    "valor_exacto = float(sp.integrate(p(x), [x, a, b]))\n",
    "valor_exacto"
   ]
  },
  {
   "cell_type": "code",
   "execution_count": 73,
   "id": "be44a721",
   "metadata": {},
   "outputs": [
    {
     "name": "stdout",
     "output_type": "stream",
     "text": [
      "     Exacto      Romberg    Error_Romberg    Adaptativa    Error_Adaptativa\n",
      "-----------  -----------  ---------------  ------------  ------------------\n",
      "2.80844e+07  2.80844e+07      1.69389e-05   2.80844e+07          0.00257296\n"
     ]
    }
   ],
   "source": [
    "table=[[valor_exacto, romberg, abs(romberg-valor_exacto), adaptativa, abs(adaptativa-valor_exacto)]]\n",
    "print(tabulate(table, headers=[\"Exacto\", \"Romberg\", \"Error_Romberg\", \"Adaptativa\", \"Error_Adaptativa\"]))"
   ]
  },
  {
   "cell_type": "markdown",
   "id": "194ae566",
   "metadata": {},
   "source": [
    "Fijándonos en el error, vemos que la integración de Romberg ha obtenido mejores resultados que la integración Adaptativa ya que el error cometido al aplicar la integración de Romberg es mucho menor que el error al aplicar la integración Adaptativa."
   ]
  }
 ],
 "metadata": {
  "kernelspec": {
   "display_name": "Python 3 (ipykernel)",
   "language": "python",
   "name": "python3"
  },
  "language_info": {
   "codemirror_mode": {
    "name": "ipython",
    "version": 3
   },
   "file_extension": ".py",
   "mimetype": "text/x-python",
   "name": "python",
   "nbconvert_exporter": "python",
   "pygments_lexer": "ipython3",
   "version": "3.9.7"
  }
 },
 "nbformat": 4,
 "nbformat_minor": 5
}
